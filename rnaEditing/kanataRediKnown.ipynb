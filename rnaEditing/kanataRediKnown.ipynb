{
 "cells": [
  {
   "cell_type": "markdown",
   "metadata": {},
   "source": [
    "# Rna A-to-I editing using Rediknowntool from Katana etl. and overlap high #confidence targets from Gabay et al. \n"
   ]
  },
  {
   "cell_type": "code",
   "execution_count": 1,
   "metadata": {},
   "outputs": [],
   "source": [
    "import pandas as pd\n",
    "import numpy as np\n",
    "from matplotlib import pyplot as plt\n",
    "%matplotlib inline\n",
    "from scipy import stats\n",
    "import os\n",
    "import seaborn as sns\n",
    "import math\n",
    "\n"
   ]
  },
  {
   "cell_type": "code",
   "execution_count": 2,
   "metadata": {},
   "outputs": [],
   "source": [
    "# get files from folder\n",
    "kanataFolder=\"./kanataRediKnown/\"\n",
    "os.chdir(kanataFolder)\n",
    "onlyfiles = [f for f in os.listdir(kanataFolder) if os.path.isfile(os.path.join(kanataFolder, f))]"
   ]
  },
  {
   "cell_type": "code",
   "execution_count": 3,
   "metadata": {},
   "outputs": [],
   "source": [
    "# read files in dataframe\n",
    "df = pd.DataFrame()\n",
    "for i in range(0,len(onlyfiles)):\n",
    "    fname=onlyfiles[i].split(\".\")[0] # assign sample name\n",
    "    df0=pd.read_csv(onlyfiles[i], sep=\"\\t\") # read file\n",
    "    df0['sampleID']=fname # assign sample to table\n",
    "    df=df.append(df0) # append table"
   ]
  },
  {
   "cell_type": "code",
   "execution_count": 4,
   "metadata": {},
   "outputs": [],
   "source": [
    "# read and clean up metadata\n",
    "os.chdir('./sourceData/')\n",
    "kanataMeta=pd.read_csv(\"kanataMeta.csv\") # read kanata metadata\n",
    "kanataMet=pd.DataFrame({'SRR': [],'Treatment': []}) # add SRR and treatment ids\n",
    "kanataMeta.columns=['in']\n",
    "kanataMet['SRR']=kanataMeta['in'].str.extract('SRR(.{,7})')[0]\n",
    "kanataMet['Treatment']=kanataMeta[\"in\"].str.split(\":\",expand=True)[1].str.split(\";\",expand=True)[0] # assign Treatment"
   ]
  },
  {
   "cell_type": "code",
   "execution_count": 5,
   "metadata": {
    "scrolled": true
   },
   "outputs": [],
   "source": [
    "df['sampleID']=df['sampleID'].str.split(\"SRR\",expand=True)[1] # remove SRR from sampleID in df"
   ]
  },
  {
   "cell_type": "code",
   "execution_count": 6,
   "metadata": {
    "scrolled": true
   },
   "outputs": [],
   "source": [
    "df=df.merge(kanataMet,left_on=\"sampleID\",right_on=\"SRR\") # merge AEI and metadata"
   ]
  },
  {
   "cell_type": "code",
   "execution_count": 7,
   "metadata": {},
   "outputs": [
    {
     "name": "stderr",
     "output_type": "stream",
     "text": [
      "/Users/karlfrontzek/anaconda3/lib/python3.7/site-packages/pandas/core/indexing.py:205: SettingWithCopyWarning: \n",
      "A value is trying to be set on a copy of a slice from a DataFrame\n",
      "\n",
      "See the caveats in the documentation: http://pandas.pydata.org/pandas-docs/stable/user_guide/indexing.html#returning-a-view-versus-a-copy\n",
      "  self._setitem_with_indexer(indexer, value)\n"
     ]
    }
   ],
   "source": [
    "df['Group']=1\n",
    "df['Group'].loc[df['Treatment'].str.contains(\"MM\")]=\"MM\"\n",
    "df['Group'].loc[df['Treatment'].str.contains(\"Con\")]=\"Con\" # assign inoculates\n",
    "df['dpi']=1 # assign dates\n",
    "df['dpi'].loc[df['Treatment'].str.contains(\"120\")]=120\n",
    "df['dpi'].loc[df['Treatment'].str.contains(\"180\")]=180"
   ]
  },
  {
   "cell_type": "code",
   "execution_count": 8,
   "metadata": {},
   "outputs": [],
   "source": [
    "# split base counts\n",
    "dfb=df[\"BaseCount[A,C,G,T]\"].str.split(\",\",expand=True) # expand column\n",
    "dfb.columns=['A',\"C\",\"G\",\"T\"] # rename columns\n",
    "dfb['A']=dfb['A'].str.replace('[',\"\") # replace brackets\n",
    "dfb['T']=dfb['T'].str.replace(']',\"\")"
   ]
  },
  {
   "cell_type": "code",
   "execution_count": 9,
   "metadata": {},
   "outputs": [],
   "source": [
    "df[['A',\"C\",\"G\",\"T\"]]=dfb # merge tables"
   ]
  },
  {
   "cell_type": "code",
   "execution_count": 10,
   "metadata": {},
   "outputs": [],
   "source": [
    "df[['A',\"C\",\"G\",\"T\"]]= df[['A',\"C\",\"G\",\"T\"]].astype(\"int\")"
   ]
  },
  {
   "cell_type": "code",
   "execution_count": 11,
   "metadata": {},
   "outputs": [],
   "source": [
    "#  no rows with T>=3\n",
    "# keep only G>=3\n",
    "df_raw=df\n",
    "df=df.loc[df[\"G\"]>=3]"
   ]
  },
  {
   "cell_type": "code",
   "execution_count": 12,
   "metadata": {
    "scrolled": true
   },
   "outputs": [
    {
     "name": "stderr",
     "output_type": "stream",
     "text": [
      "/Users/karlfrontzek/anaconda3/lib/python3.7/site-packages/ipykernel_launcher.py:2: SettingWithCopyWarning: \n",
      "A value is trying to be set on a copy of a slice from a DataFrame.\n",
      "Try using .loc[row_indexer,col_indexer] = value instead\n",
      "\n",
      "See the caveats in the documentation: http://pandas.pydata.org/pandas-docs/stable/user_guide/indexing.html#returning-a-view-versus-a-copy\n",
      "  \n"
     ]
    },
    {
     "data": {
      "text/html": [
       "<div>\n",
       "<style scoped>\n",
       "    .dataframe tbody tr th:only-of-type {\n",
       "        vertical-align: middle;\n",
       "    }\n",
       "\n",
       "    .dataframe tbody tr th {\n",
       "        vertical-align: top;\n",
       "    }\n",
       "\n",
       "    .dataframe thead th {\n",
       "        text-align: right;\n",
       "    }\n",
       "</style>\n",
       "<table border=\"1\" class=\"dataframe\">\n",
       "  <thead>\n",
       "    <tr style=\"text-align: right;\">\n",
       "      <th></th>\n",
       "      <th>Region</th>\n",
       "      <th>Position</th>\n",
       "      <th>Reference</th>\n",
       "      <th>Strand</th>\n",
       "      <th>Coverage-q30</th>\n",
       "      <th>MeanQ</th>\n",
       "      <th>BaseCount[A,C,G,T]</th>\n",
       "      <th>AllSubs</th>\n",
       "      <th>Frequency</th>\n",
       "      <th>sampleID</th>\n",
       "      <th>SRR</th>\n",
       "      <th>Treatment</th>\n",
       "      <th>Group</th>\n",
       "      <th>dpi</th>\n",
       "      <th>A</th>\n",
       "      <th>C</th>\n",
       "      <th>G</th>\n",
       "      <th>T</th>\n",
       "      <th>editFreq</th>\n",
       "    </tr>\n",
       "  </thead>\n",
       "  <tbody>\n",
       "    <tr>\n",
       "      <td>0</td>\n",
       "      <td>chrX</td>\n",
       "      <td>41654252</td>\n",
       "      <td>A</td>\n",
       "      <td>1</td>\n",
       "      <td>21</td>\n",
       "      <td>39.43</td>\n",
       "      <td>[1, 0, 20, 0]</td>\n",
       "      <td>AG</td>\n",
       "      <td>0.95</td>\n",
       "      <td>5084286</td>\n",
       "      <td>5084286</td>\n",
       "      <td>Con120_rep4</td>\n",
       "      <td>Con</td>\n",
       "      <td>120</td>\n",
       "      <td>1</td>\n",
       "      <td>0</td>\n",
       "      <td>20</td>\n",
       "      <td>0</td>\n",
       "      <td>20.000000</td>\n",
       "    </tr>\n",
       "    <tr>\n",
       "      <td>1</td>\n",
       "      <td>chrX</td>\n",
       "      <td>72445292</td>\n",
       "      <td>A</td>\n",
       "      <td>0</td>\n",
       "      <td>21</td>\n",
       "      <td>39.71</td>\n",
       "      <td>[5, 0, 16, 0]</td>\n",
       "      <td>AG</td>\n",
       "      <td>0.76</td>\n",
       "      <td>5084286</td>\n",
       "      <td>5084286</td>\n",
       "      <td>Con120_rep4</td>\n",
       "      <td>Con</td>\n",
       "      <td>120</td>\n",
       "      <td>5</td>\n",
       "      <td>0</td>\n",
       "      <td>16</td>\n",
       "      <td>0</td>\n",
       "      <td>3.200000</td>\n",
       "    </tr>\n",
       "    <tr>\n",
       "      <td>4</td>\n",
       "      <td>chr11</td>\n",
       "      <td>46272643</td>\n",
       "      <td>A</td>\n",
       "      <td>0</td>\n",
       "      <td>74</td>\n",
       "      <td>39.32</td>\n",
       "      <td>[10, 1, 63, 0]</td>\n",
       "      <td>AG</td>\n",
       "      <td>0.86</td>\n",
       "      <td>5084286</td>\n",
       "      <td>5084286</td>\n",
       "      <td>Con120_rep4</td>\n",
       "      <td>Con</td>\n",
       "      <td>120</td>\n",
       "      <td>10</td>\n",
       "      <td>1</td>\n",
       "      <td>63</td>\n",
       "      <td>0</td>\n",
       "      <td>6.300000</td>\n",
       "    </tr>\n",
       "    <tr>\n",
       "      <td>5</td>\n",
       "      <td>chr17</td>\n",
       "      <td>45662949</td>\n",
       "      <td>A</td>\n",
       "      <td>0</td>\n",
       "      <td>41</td>\n",
       "      <td>39.17</td>\n",
       "      <td>[11, 0, 30, 0]</td>\n",
       "      <td>AG</td>\n",
       "      <td>0.73</td>\n",
       "      <td>5084286</td>\n",
       "      <td>5084286</td>\n",
       "      <td>Con120_rep4</td>\n",
       "      <td>Con</td>\n",
       "      <td>120</td>\n",
       "      <td>11</td>\n",
       "      <td>0</td>\n",
       "      <td>30</td>\n",
       "      <td>0</td>\n",
       "      <td>2.727273</td>\n",
       "    </tr>\n",
       "    <tr>\n",
       "      <td>6</td>\n",
       "      <td>chr14</td>\n",
       "      <td>12411582</td>\n",
       "      <td>A</td>\n",
       "      <td>0</td>\n",
       "      <td>56</td>\n",
       "      <td>39.27</td>\n",
       "      <td>[39, 0, 17, 0]</td>\n",
       "      <td>AG</td>\n",
       "      <td>0.30</td>\n",
       "      <td>5084286</td>\n",
       "      <td>5084286</td>\n",
       "      <td>Con120_rep4</td>\n",
       "      <td>Con</td>\n",
       "      <td>120</td>\n",
       "      <td>39</td>\n",
       "      <td>0</td>\n",
       "      <td>17</td>\n",
       "      <td>0</td>\n",
       "      <td>0.435897</td>\n",
       "    </tr>\n",
       "    <tr>\n",
       "      <td>...</td>\n",
       "      <td>...</td>\n",
       "      <td>...</td>\n",
       "      <td>...</td>\n",
       "      <td>...</td>\n",
       "      <td>...</td>\n",
       "      <td>...</td>\n",
       "      <td>...</td>\n",
       "      <td>...</td>\n",
       "      <td>...</td>\n",
       "      <td>...</td>\n",
       "      <td>...</td>\n",
       "      <td>...</td>\n",
       "      <td>...</td>\n",
       "      <td>...</td>\n",
       "      <td>...</td>\n",
       "      <td>...</td>\n",
       "      <td>...</td>\n",
       "      <td>...</td>\n",
       "      <td>...</td>\n",
       "    </tr>\n",
       "    <tr>\n",
       "      <td>332</td>\n",
       "      <td>chr11</td>\n",
       "      <td>46272643</td>\n",
       "      <td>A</td>\n",
       "      <td>0</td>\n",
       "      <td>41</td>\n",
       "      <td>39.20</td>\n",
       "      <td>[5, 0, 36, 0]</td>\n",
       "      <td>AG</td>\n",
       "      <td>0.88</td>\n",
       "      <td>5084288</td>\n",
       "      <td>5084288</td>\n",
       "      <td>MM120_rep2</td>\n",
       "      <td>MM</td>\n",
       "      <td>120</td>\n",
       "      <td>5</td>\n",
       "      <td>0</td>\n",
       "      <td>36</td>\n",
       "      <td>0</td>\n",
       "      <td>7.200000</td>\n",
       "    </tr>\n",
       "    <tr>\n",
       "      <td>333</td>\n",
       "      <td>chr17</td>\n",
       "      <td>45662949</td>\n",
       "      <td>A</td>\n",
       "      <td>0</td>\n",
       "      <td>14</td>\n",
       "      <td>40.00</td>\n",
       "      <td>[4, 0, 10, 0]</td>\n",
       "      <td>AG</td>\n",
       "      <td>0.71</td>\n",
       "      <td>5084288</td>\n",
       "      <td>5084288</td>\n",
       "      <td>MM120_rep2</td>\n",
       "      <td>MM</td>\n",
       "      <td>120</td>\n",
       "      <td>4</td>\n",
       "      <td>0</td>\n",
       "      <td>10</td>\n",
       "      <td>0</td>\n",
       "      <td>2.500000</td>\n",
       "    </tr>\n",
       "    <tr>\n",
       "      <td>335</td>\n",
       "      <td>chr3</td>\n",
       "      <td>80692286</td>\n",
       "      <td>A</td>\n",
       "      <td>0</td>\n",
       "      <td>14</td>\n",
       "      <td>39.71</td>\n",
       "      <td>[7, 0, 7, 0]</td>\n",
       "      <td>AG</td>\n",
       "      <td>0.50</td>\n",
       "      <td>5084288</td>\n",
       "      <td>5084288</td>\n",
       "      <td>MM120_rep2</td>\n",
       "      <td>MM</td>\n",
       "      <td>120</td>\n",
       "      <td>7</td>\n",
       "      <td>0</td>\n",
       "      <td>7</td>\n",
       "      <td>0</td>\n",
       "      <td>1.000000</td>\n",
       "    </tr>\n",
       "    <tr>\n",
       "      <td>337</td>\n",
       "      <td>chr3</td>\n",
       "      <td>80706908</td>\n",
       "      <td>A</td>\n",
       "      <td>0</td>\n",
       "      <td>30</td>\n",
       "      <td>38.17</td>\n",
       "      <td>[24, 0, 6, 0]</td>\n",
       "      <td>AG</td>\n",
       "      <td>0.20</td>\n",
       "      <td>5084288</td>\n",
       "      <td>5084288</td>\n",
       "      <td>MM120_rep2</td>\n",
       "      <td>MM</td>\n",
       "      <td>120</td>\n",
       "      <td>24</td>\n",
       "      <td>0</td>\n",
       "      <td>6</td>\n",
       "      <td>0</td>\n",
       "      <td>0.250000</td>\n",
       "    </tr>\n",
       "    <tr>\n",
       "      <td>338</td>\n",
       "      <td>chr3</td>\n",
       "      <td>80706912</td>\n",
       "      <td>A</td>\n",
       "      <td>0</td>\n",
       "      <td>27</td>\n",
       "      <td>39.41</td>\n",
       "      <td>[0, 0, 27, 0]</td>\n",
       "      <td>AG</td>\n",
       "      <td>1.00</td>\n",
       "      <td>5084288</td>\n",
       "      <td>5084288</td>\n",
       "      <td>MM120_rep2</td>\n",
       "      <td>MM</td>\n",
       "      <td>120</td>\n",
       "      <td>0</td>\n",
       "      <td>0</td>\n",
       "      <td>27</td>\n",
       "      <td>0</td>\n",
       "      <td>inf</td>\n",
       "    </tr>\n",
       "  </tbody>\n",
       "</table>\n",
       "<p>203 rows × 19 columns</p>\n",
       "</div>"
      ],
      "text/plain": [
       "    Region  Position Reference  Strand  Coverage-q30  MeanQ  \\\n",
       "0     chrX  41654252         A       1            21  39.43   \n",
       "1     chrX  72445292         A       0            21  39.71   \n",
       "4    chr11  46272643         A       0            74  39.32   \n",
       "5    chr17  45662949         A       0            41  39.17   \n",
       "6    chr14  12411582         A       0            56  39.27   \n",
       "..     ...       ...       ...     ...           ...    ...   \n",
       "332  chr11  46272643         A       0            41  39.20   \n",
       "333  chr17  45662949         A       0            14  40.00   \n",
       "335   chr3  80692286         A       0            14  39.71   \n",
       "337   chr3  80706908         A       0            30  38.17   \n",
       "338   chr3  80706912         A       0            27  39.41   \n",
       "\n",
       "    BaseCount[A,C,G,T] AllSubs  Frequency sampleID      SRR     Treatment  \\\n",
       "0        [1, 0, 20, 0]      AG       0.95  5084286  5084286   Con120_rep4   \n",
       "1        [5, 0, 16, 0]      AG       0.76  5084286  5084286   Con120_rep4   \n",
       "4       [10, 1, 63, 0]      AG       0.86  5084286  5084286   Con120_rep4   \n",
       "5       [11, 0, 30, 0]      AG       0.73  5084286  5084286   Con120_rep4   \n",
       "6       [39, 0, 17, 0]      AG       0.30  5084286  5084286   Con120_rep4   \n",
       "..                 ...     ...        ...      ...      ...           ...   \n",
       "332      [5, 0, 36, 0]      AG       0.88  5084288  5084288    MM120_rep2   \n",
       "333      [4, 0, 10, 0]      AG       0.71  5084288  5084288    MM120_rep2   \n",
       "335       [7, 0, 7, 0]      AG       0.50  5084288  5084288    MM120_rep2   \n",
       "337      [24, 0, 6, 0]      AG       0.20  5084288  5084288    MM120_rep2   \n",
       "338      [0, 0, 27, 0]      AG       1.00  5084288  5084288    MM120_rep2   \n",
       "\n",
       "    Group  dpi   A  C   G  T   editFreq  \n",
       "0     Con  120   1  0  20  0  20.000000  \n",
       "1     Con  120   5  0  16  0   3.200000  \n",
       "4     Con  120  10  1  63  0   6.300000  \n",
       "5     Con  120  11  0  30  0   2.727273  \n",
       "6     Con  120  39  0  17  0   0.435897  \n",
       "..    ...  ...  .. ..  .. ..        ...  \n",
       "332    MM  120   5  0  36  0   7.200000  \n",
       "333    MM  120   4  0  10  0   2.500000  \n",
       "335    MM  120   7  0   7  0   1.000000  \n",
       "337    MM  120  24  0   6  0   0.250000  \n",
       "338    MM  120   0  0  27  0        inf  \n",
       "\n",
       "[203 rows x 19 columns]"
      ]
     },
     "execution_count": 12,
     "metadata": {},
     "output_type": "execute_result"
    }
   ],
   "source": [
    "# calculate editing frequency\n",
    "df['editFreq']=df['G']/df['A']\n",
    "# sort by editing frequency >= 1%\n",
    "df.loc[df['editFreq']>=0.01] # all values are > 1 %"
   ]
  },
  {
   "cell_type": "code",
   "execution_count": 13,
   "metadata": {},
   "outputs": [],
   "source": [
    "# test if edited site occurs at least in 2/3 of replicates, easy: positions are all unique\n",
    "occurence = []\n",
    "wpii=[120,120,180,180]\n",
    "treat=['Con','MM']*2\n",
    "loopi=pd.DataFrame({\"treat\":treat,\"wpi\":wpii})\n",
    "\n"
   ]
  },
  {
   "cell_type": "code",
   "execution_count": 14,
   "metadata": {},
   "outputs": [],
   "source": [
    "df.columns=['Region', 'Position', 'Reference', 'Strand', 'Coverage-q30', 'MeanQ',\n",
    "       'BaseCount[A,C,G,T]', 'AllSubs', 'Frequency', 'sampleID', 'SRR',\n",
    "       'Treatment', 'Group', 'wpi', 'A', 'C', 'G', 'T', 'editFreq']"
   ]
  },
  {
   "cell_type": "code",
   "execution_count": 15,
   "metadata": {
    "scrolled": true
   },
   "outputs": [
    {
     "name": "stderr",
     "output_type": "stream",
     "text": [
      "/Users/karlfrontzek/anaconda3/lib/python3.7/site-packages/ipykernel_launcher.py:1: SettingWithCopyWarning: \n",
      "A value is trying to be set on a copy of a slice from a DataFrame.\n",
      "Try using .loc[row_indexer,col_indexer] = value instead\n",
      "\n",
      "See the caveats in the documentation: http://pandas.pydata.org/pandas-docs/stable/user_guide/indexing.html#returning-a-view-versus-a-copy\n",
      "  \"\"\"Entry point for launching an IPython kernel.\n"
     ]
    }
   ],
   "source": [
    "df['wpi']=df['wpi'].astype(\"str\") # change dtype of wpi to str"
   ]
  },
  {
   "cell_type": "code",
   "execution_count": 16,
   "metadata": {},
   "outputs": [],
   "source": [
    "# extract sites that are edited at least in 2/4 replicates\n",
    "\n",
    "testSites=pd.DataFrame([])\n",
    "for i in range(0,len(loopi)):\n",
    "    tS=pd.DataFrame([])\n",
    "    tS[['Position','Counts']]=pd.DataFrame(df['Position'].loc[(df['wpi']==str(loopi['wpi'].iloc[i])) & (df['Group']==loopi['treat'].iloc[i])].value_counts()).reset_index()\n",
    "    tS['wpi']=loopi['wpi'].iloc[i]\n",
    "    tS['Treatment']=loopi['treat'].iloc[i]\n",
    "    testSites=testSites.append(tS)"
   ]
  },
  {
   "cell_type": "code",
   "execution_count": 17,
   "metadata": {},
   "outputs": [],
   "source": [
    "testSites['wpi']=testSites['wpi'].astype('str')"
   ]
  },
  {
   "cell_type": "code",
   "execution_count": 18,
   "metadata": {},
   "outputs": [],
   "source": [
    "# select for editing events which pass threshold\n",
    "### threshold: 2/4 replicates for each condition\n",
    "testSitesThr=testSites.loc[testSites['Counts']>=2] "
   ]
  },
  {
   "cell_type": "code",
   "execution_count": 19,
   "metadata": {},
   "outputs": [],
   "source": [
    "# make combination of position+wpi\n",
    "uniqueEdSitesThr=pd.Series(list(zip(testSitesThr.wpi, testSitesThr.Position)))\n",
    "#uniqueEdSitesThr=uniqueEdSitesThr.astype('str') # convert tuple to str"
   ]
  },
  {
   "cell_type": "code",
   "execution_count": 20,
   "metadata": {},
   "outputs": [],
   "source": [
    "# keep df_raw for statistical comparisons\n",
    "df_raw=df_raw.merge(kanataMet,left_on=\"sampleID\",right_on=\"SRR\") # merge tables"
   ]
  },
  {
   "cell_type": "code",
   "execution_count": 21,
   "metadata": {},
   "outputs": [],
   "source": [
    "df_raw['wpi']=df_raw['dpi']"
   ]
  },
  {
   "cell_type": "code",
   "execution_count": 22,
   "metadata": {},
   "outputs": [],
   "source": [
    "df_raw['wpiPosition']=list(zip(df_raw.wpi, df_raw.Position)) # combine wpi+Position in df_raw\n",
    "df_raw['wpiPosition']=df_raw['wpiPosition'].astype('str') # convert tuple to str"
   ]
  },
  {
   "cell_type": "code",
   "execution_count": 23,
   "metadata": {},
   "outputs": [
    {
     "name": "stderr",
     "output_type": "stream",
     "text": [
      "/Users/karlfrontzek/anaconda3/lib/python3.7/site-packages/ipykernel_launcher.py:1: SettingWithCopyWarning: \n",
      "A value is trying to be set on a copy of a slice from a DataFrame.\n",
      "Try using .loc[row_indexer,col_indexer] = value instead\n",
      "\n",
      "See the caveats in the documentation: http://pandas.pydata.org/pandas-docs/stable/user_guide/indexing.html#returning-a-view-versus-a-copy\n",
      "  \"\"\"Entry point for launching an IPython kernel.\n"
     ]
    }
   ],
   "source": [
    "testSitesThr['wpiPosition']=testSitesThr['wpi']+'+'+testSitesThr['Position'].astype('str')\n"
   ]
  },
  {
   "cell_type": "code",
   "execution_count": 24,
   "metadata": {},
   "outputs": [],
   "source": [
    "df_raw['wpiPosition']=df_raw['wpi'].astype('str')+'+'+df_raw['Position'].astype('str')"
   ]
  },
  {
   "cell_type": "code",
   "execution_count": 25,
   "metadata": {},
   "outputs": [],
   "source": [
    "uniqueTestSitesThr=testSitesThr['wpiPosition'].unique() # retrieve unique editing sites\n",
    "uniqueTestSitesThr=list(uniqueTestSitesThr) # convert unique editing sites to list"
   ]
  },
  {
   "cell_type": "code",
   "execution_count": 26,
   "metadata": {},
   "outputs": [],
   "source": [
    "dfThr=df_raw.loc[df_raw['wpiPosition'].isin(uniqueTestSitesThr)] # keep editing sites that pass threshold"
   ]
  },
  {
   "cell_type": "code",
   "execution_count": 27,
   "metadata": {},
   "outputs": [],
   "source": [
    "# clean up dfThr for export\n",
    "dfThrClean=dfThr[['A','G','Group','wpi','wpiPosition']]\n",
    "\n"
   ]
  },
  {
   "cell_type": "code",
   "execution_count": 28,
   "metadata": {},
   "outputs": [],
   "source": [
    "# test whether at least 2 replicates of non-edited site exist\n",
    "uniqueSites=dfThrClean['wpiPosition'].unique()\n",
    "excludeSites=[]\n",
    "for i in range(0,len(uniqueSites)):\n",
    "    uS=dfThrClean.loc[dfThrClean['wpiPosition']==uniqueSites[i]]\n",
    "    if len(uS['Group'].loc[uS['Group']==\"MM\"]) < 2:\n",
    "        #print(\"In wpiPosition {} treated with NBH less than 2 replicates\".format(uniqueSites[i]))\n",
    "        excludeSites.append(uniqueSites[i])\n",
    "    if len(uS['Group'].loc[uS['Group']==\"Con\"]) < 2:\n",
    "        #print(\"In wpiPosition {} treated with RML6 less than 2 replicates\".format(uniqueSites[i]))\n",
    "         excludeSites.append(uniqueSites[i])"
   ]
  },
  {
   "cell_type": "code",
   "execution_count": 42,
   "metadata": {},
   "outputs": [],
   "source": [
    "dfThrClean=dfThrClean.loc[~dfThrClean['wpiPosition'].isin(excludeSites)]\n",
    "dfThrClean.to_csv('kanataRediEli.csv') # export dfThrClean -> now go to REDIT in R and perform testing"
   ]
  },
  {
   "cell_type": "code",
   "execution_count": 43,
   "metadata": {},
   "outputs": [],
   "source": [
    "# analyse statistical testing with Redit, see R\n",
    "dfP=pd.read_csv('./sourceData/kanataEditingSitesRedit.csv')"
   ]
  },
  {
   "cell_type": "code",
   "execution_count": 44,
   "metadata": {},
   "outputs": [],
   "source": [
    "dfP[['wpi','site1']]=dfP['site'].str.split(\"+\",expand=True)"
   ]
  },
  {
   "cell_type": "code",
   "execution_count": 45,
   "metadata": {},
   "outputs": [],
   "source": [
    "from statsmodels.stats.multitest import multipletests # for fdr"
   ]
  },
  {
   "cell_type": "code",
   "execution_count": 46,
   "metadata": {},
   "outputs": [],
   "source": [
    "wpiUnique=dfP['wpi'].unique()"
   ]
  },
  {
   "cell_type": "code",
   "execution_count": 47,
   "metadata": {},
   "outputs": [],
   "source": [
    "# adjust for fdr < 0.05 \n",
    "# preassign dataframe\n",
    "tT=pd.DataFrame({'wpi':[],'sig':[],'fdr':[],'pValue':[],'index':[]})\n",
    "for i in range(0,len(wpiUnique)): # loop through all wpi\n",
    "    tTtemp=pd.DataFrame({'wpi':[],'sig':[],'fdr':[],'pValue':[],'index':[]}) # preassign temp datafram\n",
    "    # add sig and pVal to dataframe\n",
    "    tTtemp['sig']=multipletests(dfP['pValue'].loc[dfP['wpi']==wpiUnique[i]],alpha=0.05,method=\"fdr_bh\")[0]\n",
    "    tTtemp['fdr']=multipletests(dfP['pValue'].loc[dfP['wpi']==wpiUnique[i]],alpha=0.05,method=\"fdr_bh\")[1]\n",
    "    tTtemp[['index','pValue']]=dfP['pValue'].loc[dfP['wpi']==wpiUnique[i]].reset_index()\n",
    "    tTtemp['wpi']=wpiUnique[i]\n",
    "    tT=tT.append(tTtemp)"
   ]
  },
  {
   "cell_type": "code",
   "execution_count": 48,
   "metadata": {},
   "outputs": [],
   "source": [
    "kanataRediAllEvents=tT.merge(dfP,left_on=\"pValue\",right_on=\"pValue\") # merge sites and fdr on \"pValue\""
   ]
  },
  {
   "cell_type": "code",
   "execution_count": 49,
   "metadata": {},
   "outputs": [
    {
     "name": "stderr",
     "output_type": "stream",
     "text": [
      "/Users/karlfrontzek/anaconda3/lib/python3.7/site-packages/ipykernel_launcher.py:2: SettingWithCopyWarning: \n",
      "A value is trying to be set on a copy of a slice from a DataFrame\n",
      "\n",
      "See the caveats in the documentation: http://pandas.pydata.org/pandas-docs/stable/user_guide/indexing.html#returning-a-view-versus-a-copy\n",
      "  \n"
     ]
    }
   ],
   "source": [
    "dictChr=df_raw[['Region','Position']] # add chromosome to aggregated data, make dictionary w position&chr\n",
    "dictChr.drop_duplicates(subset=\"Position\",inplace=True)"
   ]
  },
  {
   "cell_type": "code",
   "execution_count": 50,
   "metadata": {},
   "outputs": [
    {
     "name": "stderr",
     "output_type": "stream",
     "text": [
      "/Users/karlfrontzek/anaconda3/lib/python3.7/site-packages/ipykernel_launcher.py:1: SettingWithCopyWarning: \n",
      "A value is trying to be set on a copy of a slice from a DataFrame.\n",
      "Try using .loc[row_indexer,col_indexer] = value instead\n",
      "\n",
      "See the caveats in the documentation: http://pandas.pydata.org/pandas-docs/stable/user_guide/indexing.html#returning-a-view-versus-a-copy\n",
      "  \"\"\"Entry point for launching an IPython kernel.\n"
     ]
    }
   ],
   "source": [
    "dictChr['Position']=dictChr['Position'].astype('str')\n",
    "kanataExport=kanataRediAllEvents.merge(dictChr,left_on=\"site1\",right_on=\"Position\")"
   ]
  },
  {
   "cell_type": "code",
   "execution_count": 51,
   "metadata": {},
   "outputs": [],
   "source": [
    "eliConf=pd.read_excel('eliConfidenceSites.xlsx') # read gabay et al. high-confidence rna editing sites"
   ]
  },
  {
   "cell_type": "code",
   "execution_count": 52,
   "metadata": {},
   "outputs": [],
   "source": [
    "# match annotation eli high confidence sites with kanataExport, chr positions are all unique\n",
    "eliConf=eliConf[['chr_mm10','position_mm10','strand_mm10','gene_name_hg38']]"
   ]
  },
  {
   "cell_type": "code",
   "execution_count": 53,
   "metadata": {},
   "outputs": [],
   "source": [
    "eliConf['position_mm10']=eliConf['position_mm10'].astype('str')"
   ]
  },
  {
   "cell_type": "code",
   "execution_count": 55,
   "metadata": {},
   "outputs": [],
   "source": [
    "kanataExport.merge(eliConf,left_on=\"Position\",right_on=\"position_mm10\").to_csv('kanataExportFinal.csv')"
   ]
  }
 ],
 "metadata": {
  "kernelspec": {
   "display_name": "Python 3",
   "language": "python",
   "name": "python3"
  },
  "language_info": {
   "codemirror_mode": {
    "name": "ipython",
    "version": 3
   },
   "file_extension": ".py",
   "mimetype": "text/x-python",
   "name": "python",
   "nbconvert_exporter": "python",
   "pygments_lexer": "ipython3",
   "version": "3.7.4"
  }
 },
 "nbformat": 4,
 "nbformat_minor": 2
}
