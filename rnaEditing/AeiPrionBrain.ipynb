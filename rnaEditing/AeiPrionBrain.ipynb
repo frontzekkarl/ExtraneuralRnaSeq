{
 "cells": [
  {
   "cell_type": "markdown",
   "metadata": {},
   "source": [
    "# re-analysis of Aei editing from main cohort, brain sequencing data from Sorce et al. 2020"
   ]
  },
  {
   "cell_type": "code",
   "execution_count": 3,
   "metadata": {},
   "outputs": [],
   "source": [
    "import pandas as pd\n",
    "import seaborn as sns\n",
    "from matplotlib import pyplot as plt\n",
    "%matplotlib inline\n",
    "import os"
   ]
  },
  {
   "cell_type": "markdown",
   "metadata": {},
   "source": [
    "#### read metadata"
   ]
  },
  {
   "cell_type": "code",
   "execution_count": 4,
   "metadata": {
    "scrolled": true
   },
   "outputs": [],
   "source": [
    "brMeta=pd.read_excel(\"./sourceData/p3507_BrainSamples.xlsx\")"
   ]
  },
  {
   "cell_type": "code",
   "execution_count": 184,
   "metadata": {},
   "outputs": [],
   "source": [
    "brMeta.columns=['seqID','sampleID','genotype','treatment','wpi','region','cohort']"
   ]
  },
  {
   "cell_type": "markdown",
   "metadata": {},
   "source": [
    "#### read aei"
   ]
  },
  {
   "cell_type": "code",
   "execution_count": 185,
   "metadata": {},
   "outputs": [],
   "source": [
    "brAei=pd.read_csv(\"./sourceData/AeiBrain.csv\") # read first aei output\n",
    "brAei.drop(0,axis=0,inplace=True) # rm pb-11 from first output, was empty\n",
    "brPb11=pd.read_csv(\"./sourceData/AeiBrainPb11.csv\")\n",
    "brAei=brAei.append(brPb11)\n",
    "brAei.reset_index(inplace=True,drop=True)"
   ]
  },
  {
   "cell_type": "code",
   "execution_count": 186,
   "metadata": {},
   "outputs": [],
   "source": [
    "brAei['Sample']=brAei['Sample'].str.split(\"A\",expand=True)[1] # harmonize sample names\n",
    "brAei['Sample']=brAei['Sample'].str[1:]\n",
    "brAei['Sample']=brAei['Sample']+\"_Hp\""
   ]
  },
  {
   "cell_type": "code",
   "execution_count": 187,
   "metadata": {},
   "outputs": [],
   "source": [
    "br=brAei.merge(brMeta,left_on=\"Sample\",right_on=\"sampleID\") # merge Aei with metadata"
   ]
  },
  {
   "cell_type": "code",
   "execution_count": 188,
   "metadata": {},
   "outputs": [],
   "source": [
    "br['wpi'].loc[br['wpi']==\"term\"]=22 # change term to 22\n",
    "# change wpi to int64\n",
    "br['wpi']=br['wpi'].astype(\"int64\")"
   ]
  },
  {
   "cell_type": "code",
   "execution_count": 189,
   "metadata": {},
   "outputs": [
    {
     "data": {
      "text/plain": [
       "<matplotlib.legend.Legend at 0x7fe42dc66e90>"
      ]
     },
     "execution_count": 189,
     "metadata": {},
     "output_type": "execute_result"
    },
    {
     "data": {
      "image/png": "[encoded data removed]",
      "text/plain": [
       "<Figure size 432x288 with 1 Axes>"
      ]
     },
     "metadata": {
      "needs_background": "light"
     },
     "output_type": "display_data"
    }
   ],
   "source": [
    "# plot term wpi\n",
    "tips = br\n",
    "palette=[color for color in [\"white\",\"lightsalmon\"]*8] \n",
    "hue_order=[\"NBH\",\"RML6\"]\n",
    "ax = sns.barplot(\n",
    "    x='wpi',\n",
    "    y='A2GEditingIndex',\n",
    "    hue='treatment',\n",
    "    data=tips, \n",
    "    ci=\"sd\", \n",
    "    edgecolor=\"black\",\n",
    "    errcolor=\"black\",\n",
    "    errwidth=1.5,\n",
    "    capsize = 0.1,\n",
    "    alpha=1,\n",
    "    linewidth=2,\n",
    "    hue_order=hue_order,\n",
    "    palette=palette\n",
    ")\n",
    "\n",
    "sns.stripplot(\n",
    "     x='wpi',\n",
    "    y='A2GEditingIndex',\n",
    "    hue='treatment',\n",
    "    hue_order=hue_order,\n",
    "    data=tips, dodge=True, alpha=1, size=8, color=\"black\",ax=ax\n",
    ")\n",
    "\n",
    "# remove extra legend handles\n",
    "handles, labels = ax.get_legend_handles_labels()\n",
    "#ax.set(ylim=(0,1))\n",
    "ax.legend(handles[2:], labels[2:], title='Inoculate', bbox_to_anchor=(1, 1.02), loc='upper left')\n",
    "#ax.figure.savefig('muscle_AEI.png',bbox_inches=\"tight\")"
   ]
  },
  {
   "cell_type": "code",
   "execution_count": 190,
   "metadata": {},
   "outputs": [],
   "source": [
    "# calculate p values\n",
    "\n",
    "from statsmodels.stats.multitest import multipletests # for fdr\n",
    "from scipy.stats import ttest_ind # for t - test\n",
    "import numpy as np\n",
    "wpiUnique=br['wpi'].unique()\n",
    "\n",
    "# two-sided t-test for test per wpi\n",
    "tT=pd.DataFrame({'wpi':[],'pValue':[]}) # preassign dataframe\n",
    "\n",
    "for i in range(0,len(wpiUnique)):\n",
    "    tTtemp=pd.DataFrame({'wpi':np.ones(1),'sig':np.ones(1),'fdr':np.ones(1),'pValue':np.ones(1)})\n",
    "    tTtemp[['sig','fdr']]=[1,1]\n",
    "    tTtemp['wpi']=wpiUnique[i]\n",
    "    aeiNbhTemp=br['A2GEditingIndex'].loc[(br['wpi']==wpiUnique[i]) & (br['treatment']==\"NBH\")]\n",
    "    aeiRmlTemp=br['A2GEditingIndex'].loc[(br['wpi']==wpiUnique[i]) & (br['treatment']==\"RML6\")]\n",
    "    tTtemp['pValue']=ttest_ind(aeiNbhTemp,aeiRmlTemp)[1]\n",
    "    tT=tT.append(tTtemp)\n",
    "tT.reset_index(inplace=True)\n"
   ]
  },
  {
   "cell_type": "code",
   "execution_count": 191,
   "metadata": {},
   "outputs": [],
   "source": [
    "tT['sig']=multipletests(tT['pValue'],alpha=0.05,method=\"fdr_bh\")[0]\n",
    "tT['fdr']=multipletests(tT['pValue'],alpha=0.05,method=\"fdr_bh\")[1]"
   ]
  },
  {
   "cell_type": "code",
   "execution_count": 192,
   "metadata": {},
   "outputs": [
    {
     "data": {
      "text/html": [
       "<div>\n",
       "<style scoped>\n",
       "    .dataframe tbody tr th:only-of-type {\n",
       "        vertical-align: middle;\n",
       "    }\n",
       "\n",
       "    .dataframe tbody tr th {\n",
       "        vertical-align: top;\n",
       "    }\n",
       "\n",
       "    .dataframe thead th {\n",
       "        text-align: right;\n",
       "    }\n",
       "</style>\n",
       "<table border=\"1\" class=\"dataframe\">\n",
       "  <thead>\n",
       "    <tr style=\"text-align: right;\">\n",
       "      <th></th>\n",
       "      <th>index</th>\n",
       "      <th>fdr</th>\n",
       "      <th>pValue</th>\n",
       "      <th>sig</th>\n",
       "      <th>wpi</th>\n",
       "    </tr>\n",
       "  </thead>\n",
       "  <tbody>\n",
       "    <tr>\n",
       "      <td>0</td>\n",
       "      <td>0</td>\n",
       "      <td>0.095110</td>\n",
       "      <td>0.011889</td>\n",
       "      <td>False</td>\n",
       "      <td>22.0</td>\n",
       "    </tr>\n",
       "    <tr>\n",
       "      <td>1</td>\n",
       "      <td>0</td>\n",
       "      <td>0.667177</td>\n",
       "      <td>0.517830</td>\n",
       "      <td>False</td>\n",
       "      <td>14.0</td>\n",
       "    </tr>\n",
       "    <tr>\n",
       "      <td>2</td>\n",
       "      <td>0</td>\n",
       "      <td>0.289117</td>\n",
       "      <td>0.144558</td>\n",
       "      <td>False</td>\n",
       "      <td>8.0</td>\n",
       "    </tr>\n",
       "    <tr>\n",
       "      <td>3</td>\n",
       "      <td>0</td>\n",
       "      <td>0.667177</td>\n",
       "      <td>0.485654</td>\n",
       "      <td>False</td>\n",
       "      <td>18.0</td>\n",
       "    </tr>\n",
       "    <tr>\n",
       "      <td>4</td>\n",
       "      <td>0</td>\n",
       "      <td>0.667177</td>\n",
       "      <td>0.583780</td>\n",
       "      <td>False</td>\n",
       "      <td>16.0</td>\n",
       "    </tr>\n",
       "    <tr>\n",
       "      <td>5</td>\n",
       "      <td>0</td>\n",
       "      <td>0.281909</td>\n",
       "      <td>0.088534</td>\n",
       "      <td>False</td>\n",
       "      <td>4.0</td>\n",
       "    </tr>\n",
       "    <tr>\n",
       "      <td>6</td>\n",
       "      <td>0</td>\n",
       "      <td>0.956116</td>\n",
       "      <td>0.956116</td>\n",
       "      <td>False</td>\n",
       "      <td>20.0</td>\n",
       "    </tr>\n",
       "    <tr>\n",
       "      <td>7</td>\n",
       "      <td>0</td>\n",
       "      <td>0.281909</td>\n",
       "      <td>0.105716</td>\n",
       "      <td>False</td>\n",
       "      <td>12.0</td>\n",
       "    </tr>\n",
       "  </tbody>\n",
       "</table>\n",
       "</div>"
      ],
      "text/plain": [
       "   index       fdr    pValue    sig   wpi\n",
       "0      0  0.095110  0.011889  False  22.0\n",
       "1      0  0.667177  0.517830  False  14.0\n",
       "2      0  0.289117  0.144558  False   8.0\n",
       "3      0  0.667177  0.485654  False  18.0\n",
       "4      0  0.667177  0.583780  False  16.0\n",
       "5      0  0.281909  0.088534  False   4.0\n",
       "6      0  0.956116  0.956116  False  20.0\n",
       "7      0  0.281909  0.105716  False  12.0"
      ]
     },
     "execution_count": 192,
     "metadata": {},
     "output_type": "execute_result"
    }
   ],
   "source": [
    "tT"
   ]
  }
 ],
 "metadata": {
  "kernelspec": {
   "display_name": "Python 3",
   "language": "python",
   "name": "python3"
  },
  "language_info": {
   "codemirror_mode": {
    "name": "ipython",
    "version": 3
   },
   "file_extension": ".py",
   "mimetype": "text/x-python",
   "name": "python",
   "nbconvert_exporter": "python",
   "pygments_lexer": "ipython3",
   "version": "3.7.4"
  }
 },
 "nbformat": 4,
 "nbformat_minor": 2
}
