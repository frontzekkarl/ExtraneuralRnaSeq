{
 "cells": [
  {
   "cell_type": "markdown",
   "metadata": {},
   "source": [
    "## blood, spleen, muscle RNA editing specific, high-confidence genes as determined by Gabay et al. using RediToolKnown.py"
   ]
  },
  {
   "cell_type": "code",
   "execution_count": 1,
   "metadata": {},
   "outputs": [],
   "source": [
    "import pandas as pd\n",
    "import numpy as np\n",
    "from matplotlib import pyplot as plt\n",
    "%matplotlib inline\n",
    "from scipy import stats\n",
    "import os\n",
    "import seaborn as sns\n",
    "import math\n",
    "\n"
   ]
  },
  {
   "cell_type": "markdown",
   "metadata": {},
   "source": [
    "### blood"
   ]
  },
  {
   "cell_type": "code",
   "execution_count": 3,
   "metadata": {},
   "outputs": [],
   "source": [
    "# get files from folder\n",
    "bloodFolder=\"/Users/karlfrontzek/Documents/UCL/rna_editing/prionREDI/blood\"\n",
    "os.chdir(bloodFolder)\n",
    "onlyfiles = [f for f in os.listdir(bloodFolder) if os.path.isfile(os.path.join(bloodFolder, f))]"
   ]
  },
  {
   "cell_type": "code",
   "execution_count": 19,
   "metadata": {},
   "outputs": [],
   "source": [
    "# read files in dataframe\n",
    "df = pd.DataFrame()\n",
    "for i in range(0,len(onlyfiles)):\n",
    "    fname=onlyfiles[i].split(\".\")[0] # assign sample name\n",
    "    df0=pd.read_csv(onlyfiles[i], sep=\"\\t\") # read file\n",
    "    df0['sampleID']=fname # assign sample to table\n",
    "    df=df.append(df0) # append table"
   ]
  },
  {
   "cell_type": "code",
   "execution_count": 20,
   "metadata": {},
   "outputs": [],
   "source": [
    "# split base counts\n",
    "dfb=df[\"BaseCount[A,C,G,T]\"].str.split(\",\",expand=True) # expand column\n",
    "dfb.columns=['A',\"C\",\"G\",\"T\"] # rename columns\n",
    "dfb['A']=dfb['A'].str.replace('[',\"\") # replace brackets\n",
    "dfb['T']=dfb['T'].str.replace(']',\"\")"
   ]
  },
  {
   "cell_type": "code",
   "execution_count": 21,
   "metadata": {},
   "outputs": [],
   "source": [
    "df[['A',\"C\",\"G\",\"T\"]]=dfb # merge tables"
   ]
  },
  {
   "cell_type": "code",
   "execution_count": 22,
   "metadata": {},
   "outputs": [],
   "source": [
    "df[['A',\"C\",\"G\",\"T\"]]= df[['A',\"C\",\"G\",\"T\"]].astype(\"int\")"
   ]
  },
  {
   "cell_type": "code",
   "execution_count": 23,
   "metadata": {},
   "outputs": [],
   "source": [
    "# 4 rows with T>=3, but A as ref allele\n",
    "# keep only G>=3\n",
    "df_raw=df\n",
    "df=df.loc[df[\"G\"]>=3]"
   ]
  },
  {
   "cell_type": "code",
   "execution_count": 24,
   "metadata": {},
   "outputs": [],
   "source": [
    "# merge metadata\n",
    "os.chdir(\"/Users/karlfrontzek/Documents/UCL/rna_editing/prion/\")\n",
    "# read meta-data and extract ID\n",
    "peri_meta=pd.read_csv(\"meta_p3506_PeripheralSamples.csv\",sep=\";\")\n",
    "peri_meta.columns=['TubeID','SampleID','Treatment','wpi','Region']\n",
    "peri_meta=peri_meta.loc[peri_meta['Region']==\"blood\"]\n",
    "peri_meta['SampleID']=peri_meta['SampleID'].str.split(\"_\",expand=True)[0]"
   ]
  },
  {
   "cell_type": "code",
   "execution_count": 25,
   "metadata": {
    "scrolled": true
   },
   "outputs": [
    {
     "name": "stderr",
     "output_type": "stream",
     "text": [
      "/Users/karlfrontzek/anaconda3/lib/python3.7/site-packages/ipykernel_launcher.py:2: SettingWithCopyWarning: \n",
      "A value is trying to be set on a copy of a slice from a DataFrame.\n",
      "Try using .loc[row_indexer,col_indexer] = value instead\n",
      "\n",
      "See the caveats in the documentation: http://pandas.pydata.org/pandas-docs/stable/user_guide/indexing.html#returning-a-view-versus-a-copy\n",
      "  \n"
     ]
    },
    {
     "data": {
      "text/html": [
       "<div>\n",
       "<style scoped>\n",
       "    .dataframe tbody tr th:only-of-type {\n",
       "        vertical-align: middle;\n",
       "    }\n",
       "\n",
       "    .dataframe tbody tr th {\n",
       "        vertical-align: top;\n",
       "    }\n",
       "\n",
       "    .dataframe thead th {\n",
       "        text-align: right;\n",
       "    }\n",
       "</style>\n",
       "<table border=\"1\" class=\"dataframe\">\n",
       "  <thead>\n",
       "    <tr style=\"text-align: right;\">\n",
       "      <th></th>\n",
       "      <th>AllSubs</th>\n",
       "      <th>BaseCount[A,C,G,T]</th>\n",
       "      <th>Coverage-q30</th>\n",
       "      <th>Frequency</th>\n",
       "      <th>MeanQ</th>\n",
       "      <th>Position</th>\n",
       "      <th>Reference</th>\n",
       "      <th>Region</th>\n",
       "      <th>Strand</th>\n",
       "      <th>Unnamed: 0</th>\n",
       "      <th>sampleID</th>\n",
       "      <th>A</th>\n",
       "      <th>C</th>\n",
       "      <th>G</th>\n",
       "      <th>T</th>\n",
       "      <th>editFreq</th>\n",
       "    </tr>\n",
       "  </thead>\n",
       "  <tbody>\n",
       "    <tr>\n",
       "      <td>0</td>\n",
       "      <td>AG</td>\n",
       "      <td>[264, 0, 650, 0]</td>\n",
       "      <td>914.0</td>\n",
       "      <td>0.71</td>\n",
       "      <td>40.59</td>\n",
       "      <td>74226862.0</td>\n",
       "      <td>A</td>\n",
       "      <td>chrX</td>\n",
       "      <td>0.0</td>\n",
       "      <td>NaN</td>\n",
       "      <td>PB-79</td>\n",
       "      <td>264</td>\n",
       "      <td>0</td>\n",
       "      <td>650</td>\n",
       "      <td>0</td>\n",
       "      <td>2.462121</td>\n",
       "    </tr>\n",
       "    <tr>\n",
       "      <td>2</td>\n",
       "      <td>AG</td>\n",
       "      <td>[11, 0, 15, 0]</td>\n",
       "      <td>26.0</td>\n",
       "      <td>0.58</td>\n",
       "      <td>43.04</td>\n",
       "      <td>17804344.0</td>\n",
       "      <td>A</td>\n",
       "      <td>chr13</td>\n",
       "      <td>0.0</td>\n",
       "      <td>NaN</td>\n",
       "      <td>PB-79</td>\n",
       "      <td>11</td>\n",
       "      <td>0</td>\n",
       "      <td>15</td>\n",
       "      <td>0</td>\n",
       "      <td>1.363636</td>\n",
       "    </tr>\n",
       "    <tr>\n",
       "      <td>18</td>\n",
       "      <td>AG</td>\n",
       "      <td>[19, 0, 3, 0]</td>\n",
       "      <td>22.0</td>\n",
       "      <td>0.14</td>\n",
       "      <td>40.09</td>\n",
       "      <td>75719719.0</td>\n",
       "      <td>A</td>\n",
       "      <td>chr14</td>\n",
       "      <td>0.0</td>\n",
       "      <td>NaN</td>\n",
       "      <td>PB-79</td>\n",
       "      <td>19</td>\n",
       "      <td>0</td>\n",
       "      <td>3</td>\n",
       "      <td>0</td>\n",
       "      <td>0.157895</td>\n",
       "    </tr>\n",
       "    <tr>\n",
       "      <td>30</td>\n",
       "      <td>-</td>\n",
       "      <td>[38, 0, 3, 0]</td>\n",
       "      <td>41.0</td>\n",
       "      <td>0.00</td>\n",
       "      <td>41.71</td>\n",
       "      <td>93189584.0</td>\n",
       "      <td>A</td>\n",
       "      <td>chr5</td>\n",
       "      <td>0.0</td>\n",
       "      <td>NaN</td>\n",
       "      <td>PB-79</td>\n",
       "      <td>38</td>\n",
       "      <td>0</td>\n",
       "      <td>3</td>\n",
       "      <td>0</td>\n",
       "      <td>0.078947</td>\n",
       "    </tr>\n",
       "    <tr>\n",
       "      <td>0</td>\n",
       "      <td>AG</td>\n",
       "      <td>[300, 0, 1319, 0]</td>\n",
       "      <td>1619.0</td>\n",
       "      <td>0.81</td>\n",
       "      <td>37.29</td>\n",
       "      <td>74226862.0</td>\n",
       "      <td>A</td>\n",
       "      <td>chrX</td>\n",
       "      <td>0.0</td>\n",
       "      <td>NaN</td>\n",
       "      <td>PB-122</td>\n",
       "      <td>300</td>\n",
       "      <td>0</td>\n",
       "      <td>1319</td>\n",
       "      <td>0</td>\n",
       "      <td>4.396667</td>\n",
       "    </tr>\n",
       "    <tr>\n",
       "      <td>...</td>\n",
       "      <td>...</td>\n",
       "      <td>...</td>\n",
       "      <td>...</td>\n",
       "      <td>...</td>\n",
       "      <td>...</td>\n",
       "      <td>...</td>\n",
       "      <td>...</td>\n",
       "      <td>...</td>\n",
       "      <td>...</td>\n",
       "      <td>...</td>\n",
       "      <td>...</td>\n",
       "      <td>...</td>\n",
       "      <td>...</td>\n",
       "      <td>...</td>\n",
       "      <td>...</td>\n",
       "      <td>...</td>\n",
       "    </tr>\n",
       "    <tr>\n",
       "      <td>2</td>\n",
       "      <td>AG</td>\n",
       "      <td>[2, 0, 9, 0]</td>\n",
       "      <td>11.0</td>\n",
       "      <td>0.82</td>\n",
       "      <td>69.55</td>\n",
       "      <td>17804344.0</td>\n",
       "      <td>A</td>\n",
       "      <td>chr13</td>\n",
       "      <td>0.0</td>\n",
       "      <td>NaN</td>\n",
       "      <td>PB-74</td>\n",
       "      <td>2</td>\n",
       "      <td>0</td>\n",
       "      <td>9</td>\n",
       "      <td>0</td>\n",
       "      <td>4.500000</td>\n",
       "    </tr>\n",
       "    <tr>\n",
       "      <td>3</td>\n",
       "      <td>AG</td>\n",
       "      <td>[13, 0, 3, 0]</td>\n",
       "      <td>16.0</td>\n",
       "      <td>0.19</td>\n",
       "      <td>70.94</td>\n",
       "      <td>17804548.0</td>\n",
       "      <td>A</td>\n",
       "      <td>chr13</td>\n",
       "      <td>0.0</td>\n",
       "      <td>NaN</td>\n",
       "      <td>PB-74</td>\n",
       "      <td>13</td>\n",
       "      <td>0</td>\n",
       "      <td>3</td>\n",
       "      <td>0</td>\n",
       "      <td>0.230769</td>\n",
       "    </tr>\n",
       "    <tr>\n",
       "      <td>13</td>\n",
       "      <td>-</td>\n",
       "      <td>[97, 0, 5, 0]</td>\n",
       "      <td>102.0</td>\n",
       "      <td>0.00</td>\n",
       "      <td>61.55</td>\n",
       "      <td>91656089.0</td>\n",
       "      <td>A</td>\n",
       "      <td>chr16</td>\n",
       "      <td>1.0</td>\n",
       "      <td>NaN</td>\n",
       "      <td>PB-74</td>\n",
       "      <td>97</td>\n",
       "      <td>0</td>\n",
       "      <td>5</td>\n",
       "      <td>0</td>\n",
       "      <td>0.051546</td>\n",
       "    </tr>\n",
       "    <tr>\n",
       "      <td>17</td>\n",
       "      <td>AG</td>\n",
       "      <td>[20, 0, 3, 0]</td>\n",
       "      <td>23.0</td>\n",
       "      <td>0.13</td>\n",
       "      <td>46.13</td>\n",
       "      <td>75719719.0</td>\n",
       "      <td>A</td>\n",
       "      <td>chr14</td>\n",
       "      <td>0.0</td>\n",
       "      <td>NaN</td>\n",
       "      <td>PB-74</td>\n",
       "      <td>20</td>\n",
       "      <td>0</td>\n",
       "      <td>3</td>\n",
       "      <td>0</td>\n",
       "      <td>0.150000</td>\n",
       "    </tr>\n",
       "    <tr>\n",
       "      <td>22</td>\n",
       "      <td>-</td>\n",
       "      <td>[80, 0, 6, 0]</td>\n",
       "      <td>86.0</td>\n",
       "      <td>0.00</td>\n",
       "      <td>39.44</td>\n",
       "      <td>172092348.0</td>\n",
       "      <td>A</td>\n",
       "      <td>chr1</td>\n",
       "      <td>1.0</td>\n",
       "      <td>NaN</td>\n",
       "      <td>PB-74</td>\n",
       "      <td>80</td>\n",
       "      <td>0</td>\n",
       "      <td>6</td>\n",
       "      <td>0</td>\n",
       "      <td>0.075000</td>\n",
       "    </tr>\n",
       "  </tbody>\n",
       "</table>\n",
       "<p>563 rows × 16 columns</p>\n",
       "</div>"
      ],
      "text/plain": [
       "   AllSubs BaseCount[A,C,G,T]  Coverage-q30  Frequency  MeanQ     Position  \\\n",
       "0       AG   [264, 0, 650, 0]         914.0       0.71  40.59   74226862.0   \n",
       "2       AG     [11, 0, 15, 0]          26.0       0.58  43.04   17804344.0   \n",
       "18      AG      [19, 0, 3, 0]          22.0       0.14  40.09   75719719.0   \n",
       "30       -      [38, 0, 3, 0]          41.0       0.00  41.71   93189584.0   \n",
       "0       AG  [300, 0, 1319, 0]        1619.0       0.81  37.29   74226862.0   \n",
       "..     ...                ...           ...        ...    ...          ...   \n",
       "2       AG       [2, 0, 9, 0]          11.0       0.82  69.55   17804344.0   \n",
       "3       AG      [13, 0, 3, 0]          16.0       0.19  70.94   17804548.0   \n",
       "13       -      [97, 0, 5, 0]         102.0       0.00  61.55   91656089.0   \n",
       "17      AG      [20, 0, 3, 0]          23.0       0.13  46.13   75719719.0   \n",
       "22       -      [80, 0, 6, 0]          86.0       0.00  39.44  172092348.0   \n",
       "\n",
       "   Reference Region  Strand Unnamed: 0 sampleID    A  C     G  T  editFreq  \n",
       "0          A   chrX     0.0        NaN    PB-79  264  0   650  0  2.462121  \n",
       "2          A  chr13     0.0        NaN    PB-79   11  0    15  0  1.363636  \n",
       "18         A  chr14     0.0        NaN    PB-79   19  0     3  0  0.157895  \n",
       "30         A   chr5     0.0        NaN    PB-79   38  0     3  0  0.078947  \n",
       "0          A   chrX     0.0        NaN   PB-122  300  0  1319  0  4.396667  \n",
       "..       ...    ...     ...        ...      ...  ... ..   ... ..       ...  \n",
       "2          A  chr13     0.0        NaN    PB-74    2  0     9  0  4.500000  \n",
       "3          A  chr13     0.0        NaN    PB-74   13  0     3  0  0.230769  \n",
       "13         A  chr16     1.0        NaN    PB-74   97  0     5  0  0.051546  \n",
       "17         A  chr14     0.0        NaN    PB-74   20  0     3  0  0.150000  \n",
       "22         A   chr1     1.0        NaN    PB-74   80  0     6  0  0.075000  \n",
       "\n",
       "[563 rows x 16 columns]"
      ]
     },
     "execution_count": 25,
     "metadata": {},
     "output_type": "execute_result"
    }
   ],
   "source": [
    "# calculate editing frequency\n",
    "df['editFreq']=df['G']/df['A']\n",
    "# sort by editing frequency >= 1%\n",
    "df.loc[df['editFreq']>=0.01] # all values are > 1 %"
   ]
  },
  {
   "cell_type": "code",
   "execution_count": 26,
   "metadata": {},
   "outputs": [],
   "source": [
    "df=df.merge(peri_meta,left_on=\"sampleID\",right_on=\"SampleID\") # merge tables"
   ]
  },
  {
   "cell_type": "code",
   "execution_count": 27,
   "metadata": {},
   "outputs": [],
   "source": [
    "# keep df_raw for statistical comparisons\n",
    "df_raw=df_raw.merge(peri_meta,left_on=\"sampleID\",right_on=\"SampleID\") # merge tables"
   ]
  },
  {
   "cell_type": "code",
   "execution_count": 28,
   "metadata": {
    "scrolled": true
   },
   "outputs": [
    {
     "data": {
      "text/html": [
       "<div>\n",
       "<style scoped>\n",
       "    .dataframe tbody tr th:only-of-type {\n",
       "        vertical-align: middle;\n",
       "    }\n",
       "\n",
       "    .dataframe tbody tr th {\n",
       "        vertical-align: top;\n",
       "    }\n",
       "\n",
       "    .dataframe thead th {\n",
       "        text-align: right;\n",
       "    }\n",
       "</style>\n",
       "<table border=\"1\" class=\"dataframe\">\n",
       "  <thead>\n",
       "    <tr style=\"text-align: right;\">\n",
       "      <th></th>\n",
       "      <th>AllSubs</th>\n",
       "      <th>BaseCount[A,C,G,T]</th>\n",
       "      <th>Coverage-q30</th>\n",
       "      <th>Frequency</th>\n",
       "      <th>MeanQ</th>\n",
       "      <th>Position</th>\n",
       "      <th>Reference</th>\n",
       "      <th>Region_x</th>\n",
       "      <th>Strand</th>\n",
       "      <th>Unnamed: 0</th>\n",
       "      <th>sampleID</th>\n",
       "      <th>A</th>\n",
       "      <th>C</th>\n",
       "      <th>G</th>\n",
       "      <th>T</th>\n",
       "      <th>TubeID</th>\n",
       "      <th>SampleID</th>\n",
       "      <th>Treatment</th>\n",
       "      <th>wpi</th>\n",
       "      <th>Region_y</th>\n",
       "    </tr>\n",
       "  </thead>\n",
       "  <tbody>\n",
       "    <tr>\n",
       "      <td>366</td>\n",
       "      <td>-</td>\n",
       "      <td>[91, 0, 3, 0]</td>\n",
       "      <td>94.0</td>\n",
       "      <td>0.0</td>\n",
       "      <td>40.79</td>\n",
       "      <td>172092348.0</td>\n",
       "      <td>A</td>\n",
       "      <td>chr1</td>\n",
       "      <td>1.0</td>\n",
       "      <td>NaN</td>\n",
       "      <td>PB-9</td>\n",
       "      <td>91</td>\n",
       "      <td>0</td>\n",
       "      <td>3</td>\n",
       "      <td>0</td>\n",
       "      <td>p1608_4212/37</td>\n",
       "      <td>PB-9</td>\n",
       "      <td>RML6</td>\n",
       "      <td>4</td>\n",
       "      <td>blood</td>\n",
       "    </tr>\n",
       "    <tr>\n",
       "      <td>1221</td>\n",
       "      <td>-</td>\n",
       "      <td>[114, 0, 6, 0]</td>\n",
       "      <td>120.0</td>\n",
       "      <td>0.0</td>\n",
       "      <td>40.60</td>\n",
       "      <td>172092348.0</td>\n",
       "      <td>A</td>\n",
       "      <td>chr1</td>\n",
       "      <td>1.0</td>\n",
       "      <td>NaN</td>\n",
       "      <td>PB-11</td>\n",
       "      <td>114</td>\n",
       "      <td>0</td>\n",
       "      <td>6</td>\n",
       "      <td>0</td>\n",
       "      <td>p1608_4212/19</td>\n",
       "      <td>PB-11</td>\n",
       "      <td>RML6</td>\n",
       "      <td>4</td>\n",
       "      <td>blood</td>\n",
       "    </tr>\n",
       "    <tr>\n",
       "      <td>1314</td>\n",
       "      <td>-</td>\n",
       "      <td>[63, 0, 0, 0]</td>\n",
       "      <td>63.0</td>\n",
       "      <td>0.0</td>\n",
       "      <td>40.17</td>\n",
       "      <td>172092348.0</td>\n",
       "      <td>A</td>\n",
       "      <td>chr1</td>\n",
       "      <td>1.0</td>\n",
       "      <td>NaN</td>\n",
       "      <td>PB-14</td>\n",
       "      <td>63</td>\n",
       "      <td>0</td>\n",
       "      <td>0</td>\n",
       "      <td>0</td>\n",
       "      <td>p1608_4212/38</td>\n",
       "      <td>PB-14</td>\n",
       "      <td>NBH</td>\n",
       "      <td>4</td>\n",
       "      <td>blood</td>\n",
       "    </tr>\n",
       "    <tr>\n",
       "      <td>1346</td>\n",
       "      <td>-</td>\n",
       "      <td>[90, 0, 0, 0]</td>\n",
       "      <td>90.0</td>\n",
       "      <td>0.0</td>\n",
       "      <td>40.43</td>\n",
       "      <td>172092348.0</td>\n",
       "      <td>A</td>\n",
       "      <td>chr1</td>\n",
       "      <td>1.0</td>\n",
       "      <td>NaN</td>\n",
       "      <td>PB-16</td>\n",
       "      <td>90</td>\n",
       "      <td>0</td>\n",
       "      <td>0</td>\n",
       "      <td>0</td>\n",
       "      <td>p1608_4212/20</td>\n",
       "      <td>PB-16</td>\n",
       "      <td>NBH</td>\n",
       "      <td>4</td>\n",
       "      <td>blood</td>\n",
       "    </tr>\n",
       "    <tr>\n",
       "      <td>1467</td>\n",
       "      <td>-</td>\n",
       "      <td>[60, 0, 1, 0]</td>\n",
       "      <td>61.0</td>\n",
       "      <td>0.0</td>\n",
       "      <td>40.44</td>\n",
       "      <td>172092348.0</td>\n",
       "      <td>A</td>\n",
       "      <td>chr1</td>\n",
       "      <td>1.0</td>\n",
       "      <td>NaN</td>\n",
       "      <td>PB-2</td>\n",
       "      <td>60</td>\n",
       "      <td>0</td>\n",
       "      <td>1</td>\n",
       "      <td>0</td>\n",
       "      <td>p1608_4212/1</td>\n",
       "      <td>PB-2</td>\n",
       "      <td>RML6</td>\n",
       "      <td>4</td>\n",
       "      <td>blood</td>\n",
       "    </tr>\n",
       "    <tr>\n",
       "      <td>2071</td>\n",
       "      <td>-</td>\n",
       "      <td>[44, 0, 0, 0]</td>\n",
       "      <td>44.0</td>\n",
       "      <td>0.0</td>\n",
       "      <td>42.36</td>\n",
       "      <td>172092348.0</td>\n",
       "      <td>A</td>\n",
       "      <td>chr1</td>\n",
       "      <td>1.0</td>\n",
       "      <td>NaN</td>\n",
       "      <td>PB-7</td>\n",
       "      <td>44</td>\n",
       "      <td>0</td>\n",
       "      <td>0</td>\n",
       "      <td>0</td>\n",
       "      <td>p1608_4212/2</td>\n",
       "      <td>PB-7</td>\n",
       "      <td>NBH</td>\n",
       "      <td>4</td>\n",
       "      <td>blood</td>\n",
       "    </tr>\n",
       "  </tbody>\n",
       "</table>\n",
       "</div>"
      ],
      "text/plain": [
       "     AllSubs BaseCount[A,C,G,T]  Coverage-q30  Frequency  MeanQ     Position  \\\n",
       "366        -      [91, 0, 3, 0]          94.0        0.0  40.79  172092348.0   \n",
       "1221       -     [114, 0, 6, 0]         120.0        0.0  40.60  172092348.0   \n",
       "1314       -      [63, 0, 0, 0]          63.0        0.0  40.17  172092348.0   \n",
       "1346       -      [90, 0, 0, 0]          90.0        0.0  40.43  172092348.0   \n",
       "1467       -      [60, 0, 1, 0]          61.0        0.0  40.44  172092348.0   \n",
       "2071       -      [44, 0, 0, 0]          44.0        0.0  42.36  172092348.0   \n",
       "\n",
       "     Reference Region_x  Strand Unnamed: 0 sampleID    A  C  G  T  \\\n",
       "366          A     chr1     1.0        NaN     PB-9   91  0  3  0   \n",
       "1221         A     chr1     1.0        NaN    PB-11  114  0  6  0   \n",
       "1314         A     chr1     1.0        NaN    PB-14   63  0  0  0   \n",
       "1346         A     chr1     1.0        NaN    PB-16   90  0  0  0   \n",
       "1467         A     chr1     1.0        NaN     PB-2   60  0  1  0   \n",
       "2071         A     chr1     1.0        NaN     PB-7   44  0  0  0   \n",
       "\n",
       "             TubeID SampleID Treatment wpi Region_y  \n",
       "366   p1608_4212/37     PB-9      RML6   4    blood  \n",
       "1221  p1608_4212/19    PB-11      RML6   4    blood  \n",
       "1314  p1608_4212/38    PB-14       NBH   4    blood  \n",
       "1346  p1608_4212/20    PB-16       NBH   4    blood  \n",
       "1467   p1608_4212/1     PB-2      RML6   4    blood  \n",
       "2071   p1608_4212/2     PB-7       NBH   4    blood  "
      ]
     },
     "execution_count": 28,
     "metadata": {},
     "output_type": "execute_result"
    }
   ],
   "source": [
    "df_raw.loc[(df_raw['wpi']=='4') & (df_raw['Position']==172092348)].sort_values(['Region_x',\"Position\"])"
   ]
  },
  {
   "cell_type": "code",
   "execution_count": 30,
   "metadata": {},
   "outputs": [],
   "source": [
    "# test if edited site occurs at least in 2/3 of replicates, easy: positions are all unique\n",
    "occurence = []\n",
    "wpii=[4,4,8,8,12,12,14,14,16,16,18,18,20,20,'term','term']\n",
    "treat=['RML6','NBH']*8\n",
    "loopi=pd.DataFrame({\"treat\":treat,\"wpi\":wpii})\n"
   ]
  },
  {
   "cell_type": "code",
   "execution_count": 31,
   "metadata": {},
   "outputs": [
    {
     "data": {
      "text/plain": [
       "74226862.0     3\n",
       "17804344.0     3\n",
       "91655615.0     2\n",
       "91656089.0     2\n",
       "75719719.0     2\n",
       "172092348.0    2\n",
       "17804548.0     2\n",
       "91656122.0     1\n",
       "91656061.0     1\n",
       "91656133.0     1\n",
       "93189584.0     1\n",
       "157558149.0    1\n",
       "17804365.0     1\n",
       "Name: Position, dtype: int64"
      ]
     },
     "execution_count": 31,
     "metadata": {},
     "output_type": "execute_result"
    }
   ],
   "source": [
    "df['Position'].loc[(df['wpi']==str(loopi['wpi'].iloc[0])) & (df['Treatment']==loopi['treat'].iloc[0])].value_counts()"
   ]
  },
  {
   "cell_type": "code",
   "execution_count": 32,
   "metadata": {},
   "outputs": [],
   "source": [
    "tS=pd.DataFrame([])\n",
    "tS[['Position','Counts']]=pd.DataFrame(df['Position'].loc[(df['wpi']==str(loopi['wpi'].iloc[0])) & (df['Treatment']==loopi['treat'].iloc[0])].value_counts()).reset_index()\n"
   ]
  },
  {
   "cell_type": "code",
   "execution_count": 34,
   "metadata": {},
   "outputs": [],
   "source": [
    "# extract sites that are edited at least in 2/3 replicates\n",
    "\n",
    "testSites=pd.DataFrame([])\n",
    "for i in range(0,len(loopi)):\n",
    "    tS=pd.DataFrame([])\n",
    "    tS[['Position','Counts']]=pd.DataFrame(df['Position'].loc[(df['wpi']==str(loopi['wpi'].iloc[i])) & (df['Treatment']==loopi['treat'].iloc[i])].value_counts()).reset_index()\n",
    "    tS['wpi']=loopi['wpi'].iloc[i]\n",
    "    tS['Treatment']=loopi['treat'].iloc[i]\n",
    "    testSites=testSites.append(tS)"
   ]
  },
  {
   "cell_type": "code",
   "execution_count": 35,
   "metadata": {},
   "outputs": [],
   "source": [
    "dfReplicates=df[['wpi','Treatment','SampleID']].drop_duplicates()\n",
    "totalRep=pd.Series(list(zip(dfReplicates.wpi, dfReplicates.Treatment))).value_counts()\n",
    "totalRep=totalRep.reset_index()\n",
    "totalRep.columns=['Index','Rep']"
   ]
  },
  {
   "cell_type": "code",
   "execution_count": 36,
   "metadata": {},
   "outputs": [],
   "source": [
    "testSites['wpi']=testSites['wpi'].astype('str')"
   ]
  },
  {
   "cell_type": "code",
   "execution_count": 37,
   "metadata": {},
   "outputs": [],
   "source": [
    "testSites['wpiTreatment']=list(zip(testSites.wpi, testSites.Treatment)) # merge wpi+Treatment for threshold \n",
    "Thr=pd.DataFrame({'Index':[],'Thr':[]})                                                       # calculation of edited sites\n",
    "for i in range(0,len(testSites)): # iterate over testsite counts, keep those occuring in floor(2/3 of samples)\n",
    "    wpiTreat=testSites['wpiTreatment'].iloc[i]  # read current treatment+wpi combi\n",
    "    Tr=math.floor(totalRep['Rep'].loc[totalRep['Index']==wpiTreat]*2/3) # calculate current threshold\n",
    "    Tp=pd.DataFrame({'Index':str(i),'Thr':str(Tr)},index=[i]) # make list of thresholds per edited site\n",
    "    Thr=Thr.append(Tp)\n",
    "#testSitesThr=testSites['Position'].loc[testSites['Counts']!=1] # extract test sites \n",
    "#testSites['Counts'].loc[testSites['Position'].isin(testSites1)].head(50)"
   ]
  },
  {
   "cell_type": "code",
   "execution_count": 38,
   "metadata": {},
   "outputs": [],
   "source": [
    "testSitesThr=testSites.reset_index().join(Thr)# join TestSites and Threshold"
   ]
  },
  {
   "cell_type": "code",
   "execution_count": 39,
   "metadata": {},
   "outputs": [],
   "source": [
    "testSitesThr['Counts']=testSitesThr['Counts'].astype('int')\n",
    "testSitesThr['Thr']=testSitesThr['Thr'].astype('int') # convert counts to int"
   ]
  },
  {
   "cell_type": "code",
   "execution_count": 40,
   "metadata": {},
   "outputs": [],
   "source": [
    "testSitesThr=testSitesThr.loc[testSitesThr['Counts']>=testSitesThr['Thr']] # select for editing events which pass threshold"
   ]
  },
  {
   "cell_type": "code",
   "execution_count": 41,
   "metadata": {},
   "outputs": [],
   "source": [
    "# make combination of position+wpi\n",
    "uniqueEdSitesThr=pd.Series(list(zip(testSitesThr.wpi, testSitesThr.Position)))\n",
    "uniqueEdSitesThr=uniqueEdSitesThr.astype('str') # convert tuple to str"
   ]
  },
  {
   "cell_type": "code",
   "execution_count": 42,
   "metadata": {},
   "outputs": [],
   "source": [
    "df_raw['wpiPosition']=list(zip(df_raw.wpi, df_raw.Position)) # combine wpi+Position in df_raw\n",
    "df_raw['wpiPosition']=df_raw['wpiPosition'].astype('str') # convert tuple to str"
   ]
  },
  {
   "cell_type": "code",
   "execution_count": 43,
   "metadata": {},
   "outputs": [],
   "source": [
    "testSitesThr['wpiPosition']=testSitesThr['wpi']+'+'+testSitesThr['Position'].astype('str')\n",
    "df_raw['wpiPosition']=df_raw['wpi']+'+'+df_raw['Position'].astype('str')"
   ]
  },
  {
   "cell_type": "code",
   "execution_count": 44,
   "metadata": {},
   "outputs": [],
   "source": [
    "uniqueTestSitesThr=testSitesThr['wpiPosition'].unique() # retrieve unique editing sites"
   ]
  },
  {
   "cell_type": "code",
   "execution_count": 45,
   "metadata": {},
   "outputs": [],
   "source": [
    "uniqueTestSitesThr=list(uniqueTestSitesThr) # convert unique editing sites to list"
   ]
  },
  {
   "cell_type": "code",
   "execution_count": 46,
   "metadata": {},
   "outputs": [],
   "source": [
    "dfThr=df_raw.loc[df_raw['wpiPosition'].isin(uniqueTestSitesThr)] # keep editing sites that pass threshold"
   ]
  },
  {
   "cell_type": "code",
   "execution_count": 47,
   "metadata": {},
   "outputs": [],
   "source": [
    "cog3=df_raw.loc[(df_raw['Position']==75719719) & (df_raw['wpi']==\"term\")]#write cog3 editing events\n",
    "cog3.to_csv('cog3_editing.csv')"
   ]
  },
  {
   "cell_type": "code",
   "execution_count": 48,
   "metadata": {},
   "outputs": [],
   "source": [
    "# clean up dfThr for export\n",
    "dfThrClean=dfThr[['A','G','Treatment','wpi','wpiPosition']]\n"
   ]
  },
  {
   "cell_type": "code",
   "execution_count": 49,
   "metadata": {},
   "outputs": [],
   "source": [
    "# test whether at least 2 replicates of non-edited site exist\n",
    "uniqueSites=dfThrClean['wpiPosition'].unique()\n",
    "excludeSites=[]\n",
    "for i in range(0,len(uniqueSites)):\n",
    "    uS=dfThrClean.loc[dfThrClean['wpiPosition']==uniqueSites[i]]\n",
    "    if len(uS['Treatment'].loc[uS['Treatment']==\"NBH\"]) < 2:\n",
    "        #print(\"In wpiPosition {} treated with NBH less than 2 replicates\".format(uniqueSites[i]))\n",
    "        excludeSites.append(uniqueSites[i])\n",
    "    if len(uS['Treatment'].loc[uS['Treatment']==\"RML6\"]) < 2:\n",
    "        #print(\"In wpiPosition {} treated with RML6 less than 2 replicates\".format(uniqueSites[i]))\n",
    "         excludeSites.append(uniqueSites[i])"
   ]
  },
  {
   "cell_type": "code",
   "execution_count": 50,
   "metadata": {},
   "outputs": [],
   "source": [
    "dfThrClean=dfThrClean.loc[~dfThrClean['wpiPosition'].isin(excludeSites)]\n",
    "dfThrClean.to_csv('bloodRediEli.csv') # export dfThrClean"
   ]
  },
  {
   "cell_type": "code",
   "execution_count": 51,
   "metadata": {},
   "outputs": [],
   "source": [
    "# analyse statistical testing with Redit, see R\n",
    "dfP=pd.read_csv('/Users/karlfrontzek/Documents/UCL/rna_editing/prionREDI/bloodEditingSitesRedit.csv')"
   ]
  },
  {
   "cell_type": "code",
   "execution_count": 52,
   "metadata": {},
   "outputs": [],
   "source": [
    "dfP[['wpi','site1']]=dfP['site'].str.split(\"+\",expand=True)"
   ]
  },
  {
   "cell_type": "code",
   "execution_count": 53,
   "metadata": {},
   "outputs": [],
   "source": [
    "from statsmodels.stats.multitest import multipletests # for fdr"
   ]
  },
  {
   "cell_type": "code",
   "execution_count": 54,
   "metadata": {},
   "outputs": [],
   "source": [
    "wpiUnique=dfP['wpi'].unique()"
   ]
  },
  {
   "cell_type": "code",
   "execution_count": 55,
   "metadata": {},
   "outputs": [],
   "source": [
    "# adjust for fdr < 0.05 \n",
    "# preassign dataframe\n",
    "tT=pd.DataFrame({'wpi':[],'sig':[],'fdr':[],'pValue':[],'index':[]})\n",
    "for i in range(0,len(wpiUnique)): # loop through all wpi\n",
    "    tTtemp=pd.DataFrame({'wpi':[],'sig':[],'fdr':[],'pValue':[],'index':[]}) # preassign temp datafram\n",
    "    # add sig and pVal to dataframe\n",
    "    tTtemp['sig']=multipletests(dfP['pValue'].loc[dfP['wpi']==wpiUnique[i]],alpha=0.05,method=\"fdr_bh\")[0]\n",
    "    tTtemp['fdr']=multipletests(dfP['pValue'].loc[dfP['wpi']==wpiUnique[i]],alpha=0.05,method=\"fdr_bh\")[1]\n",
    "    tTtemp[['index','pValue']]=dfP['pValue'].loc[dfP['wpi']==wpiUnique[i]].reset_index()\n",
    "    tTtemp['wpi']=wpiUnique[i]\n",
    "    tT=tT.append(tTtemp)"
   ]
  },
  {
   "cell_type": "code",
   "execution_count": 56,
   "metadata": {},
   "outputs": [],
   "source": [
    "bloodRediAllEvents=tT.merge(dfP,left_on=\"pValue\",right_on=\"pValue\") # merge sites and fdr on \"pValue\""
   ]
  },
  {
   "cell_type": "code",
   "execution_count": 57,
   "metadata": {},
   "outputs": [
    {
     "data": {
      "text/html": [
       "<div>\n",
       "<style scoped>\n",
       "    .dataframe tbody tr th:only-of-type {\n",
       "        vertical-align: middle;\n",
       "    }\n",
       "\n",
       "    .dataframe tbody tr th {\n",
       "        vertical-align: top;\n",
       "    }\n",
       "\n",
       "    .dataframe thead th {\n",
       "        text-align: right;\n",
       "    }\n",
       "</style>\n",
       "<table border=\"1\" class=\"dataframe\">\n",
       "  <thead>\n",
       "    <tr style=\"text-align: right;\">\n",
       "      <th></th>\n",
       "      <th>wpi_x</th>\n",
       "      <th>sig</th>\n",
       "      <th>fdr</th>\n",
       "      <th>pValue</th>\n",
       "      <th>index</th>\n",
       "      <th>site</th>\n",
       "      <th>wpi_y</th>\n",
       "      <th>site1</th>\n",
       "    </tr>\n",
       "  </thead>\n",
       "  <tbody>\n",
       "    <tr>\n",
       "      <td>12</td>\n",
       "      <td>term</td>\n",
       "      <td>1.0</td>\n",
       "      <td>0.002927</td>\n",
       "      <td>0.000418</td>\n",
       "      <td>12.0</td>\n",
       "      <td>term+75719719.0</td>\n",
       "      <td>term</td>\n",
       "      <td>75719719.0</td>\n",
       "    </tr>\n",
       "  </tbody>\n",
       "</table>\n",
       "</div>"
      ],
      "text/plain": [
       "   wpi_x  sig       fdr    pValue  index             site wpi_y       site1\n",
       "12  term  1.0  0.002927  0.000418   12.0  term+75719719.0  term  75719719.0"
      ]
     },
     "execution_count": 57,
     "metadata": {},
     "output_type": "execute_result"
    }
   ],
   "source": [
    "bloodRediAllEvents.loc[bloodRediAllEvents['sig']==1] # show significant editing events"
   ]
  },
  {
   "cell_type": "markdown",
   "metadata": {},
   "source": [
    "# muscle"
   ]
  },
  {
   "cell_type": "code",
   "execution_count": 58,
   "metadata": {},
   "outputs": [],
   "source": [
    "# get files from folder\n",
    "muscleFolder=\"/Users/karlfrontzek/Documents/UCL/rna_editing/prionREDI/muscle\"\n",
    "os.chdir(muscleFolder)\n",
    "onlyfiles = [f for f in os.listdir(muscleFolder) if os.path.isfile(os.path.join(muscleFolder, f))]"
   ]
  },
  {
   "cell_type": "code",
   "execution_count": 59,
   "metadata": {},
   "outputs": [],
   "source": [
    "# read files in dataframe\n",
    "df = pd.DataFrame()\n",
    "df0 = pd.DataFrame()\n",
    "for i in range(0,len(onlyfiles)):\n",
    "    fname=onlyfiles[i].split(\".\")[0] # assign sample name\n",
    "    df0=pd.read_csv(onlyfiles[i], sep=\"\\t\") # read file\n",
    "    df0['sampleID']=fname # assign sample to table\n",
    "    df=df.append(df0) # append table"
   ]
  },
  {
   "cell_type": "code",
   "execution_count": 60,
   "metadata": {},
   "outputs": [],
   "source": [
    "# split base counts\n",
    "dfb=df[\"BaseCount[A,C,G,T]\"].str.split(\",\",expand=True) # expand column\n",
    "dfb.columns=['A',\"C\",\"G\",\"T\"] # rename columns\n",
    "dfb['A']=dfb['A'].str.replace('[',\"\") # replace brackets\n",
    "dfb['T']=dfb['T'].str.replace(']',\"\")"
   ]
  },
  {
   "cell_type": "code",
   "execution_count": 61,
   "metadata": {},
   "outputs": [],
   "source": [
    "df[['A',\"C\",\"G\",\"T\"]]=dfb # merge tables"
   ]
  },
  {
   "cell_type": "code",
   "execution_count": 62,
   "metadata": {},
   "outputs": [],
   "source": [
    "df[['A',\"C\",\"G\",\"T\"]]= df[['A',\"C\",\"G\",\"T\"]].astype(\"int\")"
   ]
  },
  {
   "cell_type": "code",
   "execution_count": 63,
   "metadata": {},
   "outputs": [],
   "source": [
    "# 4 rows with T>=3, but A as ref allele\n",
    "# keep only G>=3\n",
    "df_raw=df\n",
    "df=df.loc[df[\"G\"]>=3]"
   ]
  },
  {
   "cell_type": "code",
   "execution_count": 64,
   "metadata": {},
   "outputs": [],
   "source": [
    "# merge metadata\n",
    "os.chdir(\"/Users/karlfrontzek/Documents/UCL/rna_editing/prion/\")\n",
    "# read meta-data and extract ID\n",
    "peri_meta=pd.read_csv(\"meta_p3506_PeripheralSamples.csv\",sep=\";\")\n",
    "peri_meta.columns=['TubeID','SampleID','Treatment','wpi','Region']\n",
    "peri_meta=peri_meta.loc[peri_meta['Region']==\"muscle\"]\n",
    "peri_meta['SampleID']=peri_meta['SampleID'].str.split(\"_\",expand=True)[0]"
   ]
  },
  {
   "cell_type": "code",
   "execution_count": 65,
   "metadata": {
    "scrolled": true
   },
   "outputs": [
    {
     "name": "stderr",
     "output_type": "stream",
     "text": [
      "/Users/karlfrontzek/anaconda3/lib/python3.7/site-packages/ipykernel_launcher.py:2: SettingWithCopyWarning: \n",
      "A value is trying to be set on a copy of a slice from a DataFrame.\n",
      "Try using .loc[row_indexer,col_indexer] = value instead\n",
      "\n",
      "See the caveats in the documentation: http://pandas.pydata.org/pandas-docs/stable/user_guide/indexing.html#returning-a-view-versus-a-copy\n",
      "  \n"
     ]
    },
    {
     "data": {
      "text/plain": [
       "307"
      ]
     },
     "execution_count": 65,
     "metadata": {},
     "output_type": "execute_result"
    }
   ],
   "source": [
    "# calculate editing frequency\n",
    "df['editFreq']=df['G']/df['A']\n",
    "# sort by editing frequency >= 1%\n",
    "#len(df['editFreq'])\n",
    "len(df.loc[df['editFreq']>=0.01]) # all values are > 1 %"
   ]
  },
  {
   "cell_type": "code",
   "execution_count": 66,
   "metadata": {},
   "outputs": [],
   "source": [
    "df=df.merge(peri_meta,left_on=\"sampleID\",right_on=\"SampleID\") # merge tables"
   ]
  },
  {
   "cell_type": "code",
   "execution_count": 67,
   "metadata": {},
   "outputs": [],
   "source": [
    "# keep df_raw for statistical comparisons\n",
    "df_raw=df_raw.merge(peri_meta,left_on=\"sampleID\",right_on=\"SampleID\") # merge tables"
   ]
  },
  {
   "cell_type": "code",
   "execution_count": 68,
   "metadata": {},
   "outputs": [],
   "source": [
    "# test if edited site occurs at least in 2/3 of replicates, easy: positions are all unique\n",
    "occurence = []\n",
    "wpii=[4,4,8,8,12,12,14,14,16,16,18,18,20,20,'term','term']\n",
    "treat=['RML6','NBH']*8\n",
    "loopi=pd.DataFrame({\"treat\":treat,\"wpi\":wpii})"
   ]
  },
  {
   "cell_type": "code",
   "execution_count": 69,
   "metadata": {},
   "outputs": [],
   "source": [
    "# extract sites that are edited at least in 2/3 replicates\n",
    "\n",
    "testSites=pd.DataFrame([])\n",
    "for i in range(0,len(loopi)):\n",
    "    tS=pd.DataFrame([])\n",
    "    tS[['Position','Counts']]=pd.DataFrame(df['Position'].loc[(df['wpi']==str(loopi['wpi'].iloc[i])) & (df['Treatment']==loopi['treat'].iloc[i])].value_counts()).reset_index()\n",
    "    tS['wpi']=loopi['wpi'].iloc[i]\n",
    "    tS['Treatment']=loopi['treat'].iloc[i]\n",
    "    testSites=testSites.append(tS)"
   ]
  },
  {
   "cell_type": "code",
   "execution_count": 70,
   "metadata": {},
   "outputs": [],
   "source": [
    "dfReplicates=df[['wpi','Treatment','SampleID']].drop_duplicates()\n",
    "totalRep=pd.Series(list(zip(dfReplicates.wpi, dfReplicates.Treatment))).value_counts()\n",
    "totalRep=totalRep.reset_index()\n",
    "totalRep.columns=['Index','Rep']"
   ]
  },
  {
   "cell_type": "code",
   "execution_count": 71,
   "metadata": {},
   "outputs": [],
   "source": [
    "testSites['wpi']=testSites['wpi'].astype('str')"
   ]
  },
  {
   "cell_type": "code",
   "execution_count": 72,
   "metadata": {},
   "outputs": [],
   "source": [
    "testSites['wpiTreatment']=list(zip(testSites.wpi, testSites.Treatment)) # merge wpi+Treatment for threshold \n",
    "Thr=pd.DataFrame({'Index':[],'Thr':[]})                                                       # calculation of edited sites\n",
    "for i in range(0,len(testSites)): # iterate over testsite counts, keep those occuring in floor(2/3 of samples)\n",
    "    wpiTreat=testSites['wpiTreatment'].iloc[i]  # read current treatment+wpi combi\n",
    "    Tr=math.floor(totalRep['Rep'].loc[totalRep['Index']==wpiTreat]*2/3) # calculate current threshold\n",
    "    Tp=pd.DataFrame({'Index':str(i),'Thr':str(Tr)},index=[i]) # make list of thresholds per edited site\n",
    "    Thr=Thr.append(Tp)\n",
    "#testSitesThr=testSites['Position'].loc[testSites['Counts']!=1] # extract test sites \n",
    "#testSites['Counts'].loc[testSites['Position'].isin(testSites1)].head(50)"
   ]
  },
  {
   "cell_type": "code",
   "execution_count": 73,
   "metadata": {},
   "outputs": [],
   "source": [
    "testSitesThr=testSites.reset_index().join(Thr)# join TestSites and Threshold"
   ]
  },
  {
   "cell_type": "code",
   "execution_count": 74,
   "metadata": {},
   "outputs": [],
   "source": [
    "testSitesThr['Counts']=testSitesThr['Counts'].astype('int')\n",
    "testSitesThr['Thr']=testSitesThr['Thr'].astype('int') # convert counts to int"
   ]
  },
  {
   "cell_type": "code",
   "execution_count": 75,
   "metadata": {},
   "outputs": [],
   "source": [
    "testSitesThr=testSitesThr.loc[testSitesThr['Counts']>=testSitesThr['Thr']] # select for editing events which pass threshold"
   ]
  },
  {
   "cell_type": "code",
   "execution_count": 76,
   "metadata": {},
   "outputs": [],
   "source": [
    "# make combination of position+wpi\n",
    "uniqueEdSitesThr=pd.Series(list(zip(testSitesThr.wpi, testSitesThr.Position)))\n",
    "uniqueEdSitesThr=uniqueEdSitesThr.astype('str') # convert tuple to str"
   ]
  },
  {
   "cell_type": "code",
   "execution_count": 77,
   "metadata": {},
   "outputs": [],
   "source": [
    "df_raw['wpiPosition']=list(zip(df_raw.wpi, df_raw.Position)) # combine wpi+Position in df_raw\n",
    "df_raw['wpiPosition']=df_raw['wpiPosition'].astype('str') # convert tuple to str"
   ]
  },
  {
   "cell_type": "code",
   "execution_count": 78,
   "metadata": {},
   "outputs": [],
   "source": [
    "testSitesThr['wpiPosition']=testSitesThr['wpi']+'+'+testSitesThr['Position'].astype('str')\n",
    "df_raw['wpiPosition']=df_raw['wpi']+'+'+df_raw['Position'].astype('str')"
   ]
  },
  {
   "cell_type": "code",
   "execution_count": 79,
   "metadata": {},
   "outputs": [],
   "source": [
    "uniqueTestSitesThr=testSitesThr['wpiPosition'].unique() # retrieve unique editing sites"
   ]
  },
  {
   "cell_type": "code",
   "execution_count": 80,
   "metadata": {},
   "outputs": [],
   "source": [
    "uniqueTestSitesThr=list(uniqueTestSitesThr) # convert unique editing sites to list"
   ]
  },
  {
   "cell_type": "code",
   "execution_count": 81,
   "metadata": {},
   "outputs": [
    {
     "data": {
      "text/html": [
       "<div>\n",
       "<style scoped>\n",
       "    .dataframe tbody tr th:only-of-type {\n",
       "        vertical-align: middle;\n",
       "    }\n",
       "\n",
       "    .dataframe tbody tr th {\n",
       "        vertical-align: top;\n",
       "    }\n",
       "\n",
       "    .dataframe thead th {\n",
       "        text-align: right;\n",
       "    }\n",
       "</style>\n",
       "<table border=\"1\" class=\"dataframe\">\n",
       "  <thead>\n",
       "    <tr style=\"text-align: right;\">\n",
       "      <th></th>\n",
       "      <th>Region_x</th>\n",
       "      <th>Position</th>\n",
       "      <th>Reference</th>\n",
       "      <th>Strand</th>\n",
       "      <th>Coverage-q30</th>\n",
       "      <th>MeanQ</th>\n",
       "      <th>BaseCount[A,C,G,T]</th>\n",
       "      <th>AllSubs</th>\n",
       "      <th>Frequency</th>\n",
       "      <th>sampleID</th>\n",
       "      <th>A</th>\n",
       "      <th>C</th>\n",
       "      <th>G</th>\n",
       "      <th>T</th>\n",
       "      <th>TubeID</th>\n",
       "      <th>SampleID</th>\n",
       "      <th>Treatment</th>\n",
       "      <th>wpi</th>\n",
       "      <th>Region_y</th>\n",
       "      <th>wpiPosition</th>\n",
       "    </tr>\n",
       "  </thead>\n",
       "  <tbody>\n",
       "    <tr>\n",
       "      <td>1122</td>\n",
       "      <td>chr5</td>\n",
       "      <td>77407731</td>\n",
       "      <td>A</td>\n",
       "      <td>0</td>\n",
       "      <td>11</td>\n",
       "      <td>55.18</td>\n",
       "      <td>[2, 0, 9, 0]</td>\n",
       "      <td>AG</td>\n",
       "      <td>0.82</td>\n",
       "      <td>PB-11</td>\n",
       "      <td>2</td>\n",
       "      <td>0</td>\n",
       "      <td>9</td>\n",
       "      <td>0</td>\n",
       "      <td>p1608_4211/55</td>\n",
       "      <td>PB-11</td>\n",
       "      <td>RML6</td>\n",
       "      <td>4</td>\n",
       "      <td>muscle</td>\n",
       "      <td>4+77407731</td>\n",
       "    </tr>\n",
       "  </tbody>\n",
       "</table>\n",
       "</div>"
      ],
      "text/plain": [
       "     Region_x  Position Reference  Strand  Coverage-q30  MeanQ  \\\n",
       "1122     chr5  77407731         A       0            11  55.18   \n",
       "\n",
       "     BaseCount[A,C,G,T] AllSubs  Frequency sampleID  A  C  G  T  \\\n",
       "1122       [2, 0, 9, 0]      AG       0.82    PB-11  2  0  9  0   \n",
       "\n",
       "             TubeID SampleID Treatment wpi Region_y wpiPosition  \n",
       "1122  p1608_4211/55    PB-11      RML6   4   muscle  4+77407731  "
      ]
     },
     "execution_count": 81,
     "metadata": {},
     "output_type": "execute_result"
    }
   ],
   "source": [
    "df_raw.loc[df_raw['wpiPosition']==\"4+77407731\"]"
   ]
  },
  {
   "cell_type": "code",
   "execution_count": 82,
   "metadata": {},
   "outputs": [],
   "source": [
    "dfThr=df_raw.loc[df_raw['wpiPosition'].isin(uniqueTestSitesThr)] # keep editing sites that pass threshold"
   ]
  },
  {
   "cell_type": "code",
   "execution_count": 83,
   "metadata": {},
   "outputs": [],
   "source": [
    "# clean up dfThr for export\n",
    "dfThrClean=dfThr[['A','G','Treatment','wpi','wpiPosition']]\n"
   ]
  },
  {
   "cell_type": "code",
   "execution_count": 84,
   "metadata": {},
   "outputs": [],
   "source": [
    "# test whether at least 2 replicates of non-edited site exist\n",
    "uniqueSites=dfThrClean['wpiPosition'].unique()\n",
    "excludeSites=[]\n",
    "for i in range(0,len(uniqueSites)):\n",
    "    uS=dfThrClean.loc[dfThrClean['wpiPosition']==uniqueSites[i]]\n",
    "    if len(uS['Treatment'].loc[uS['Treatment']==\"NBH\"]) < 2:\n",
    "        #print(\"In wpiPosition {} treated with NBH less than 2 replicates\".format(uniqueSites[i]))\n",
    "        excludeSites.append(uniqueSites[i])\n",
    "    if len(uS['Treatment'].loc[uS['Treatment']==\"RML6\"]) < 2:\n",
    "        #print(\"In wpiPosition {} treated with RML6 less than 2 replicates\".format(uniqueSites[i]))\n",
    "         excludeSites.append(uniqueSites[i])"
   ]
  },
  {
   "cell_type": "code",
   "execution_count": 85,
   "metadata": {},
   "outputs": [],
   "source": [
    "dfThrClean=dfThrClean.loc[~dfThrClean['wpiPosition'].isin(excludeSites)]\n",
    "dfThrClean.to_csv('muscleRediEli.csv') # export dfThrClean"
   ]
  },
  {
   "cell_type": "code",
   "execution_count": 86,
   "metadata": {},
   "outputs": [
    {
     "data": {
      "text/plain": [
       "['14+75719719',\n",
       " '18+7936048',\n",
       " '18+7936048',\n",
       " '4+7936048',\n",
       " '4+7936048',\n",
       " '4+77407731',\n",
       " '4+77407731']"
      ]
     },
     "execution_count": 86,
     "metadata": {},
     "output_type": "execute_result"
    }
   ],
   "source": [
    "excludeSites"
   ]
  },
  {
   "cell_type": "code",
   "execution_count": 87,
   "metadata": {},
   "outputs": [],
   "source": [
    "# clean up dfThr for export\n",
    "#dfThrClean=dfThr[['A','G','Treatment','wpi','wpiPosition']]\n",
    "# only on 1 replicate: 4+7936048, 4+77407731, only on 4: 14+74226862, 14+75719719; only on 2: 18+7936048\n",
    "#dfThrClean.to_csv('/Users/karlfrontzek/Documents/UCL/rna_editing/prion/muscleRediEli.csv')\n"
   ]
  },
  {
   "cell_type": "code",
   "execution_count": 88,
   "metadata": {},
   "outputs": [],
   "source": [
    "# load p-Value adjusted results from Redit\n"
   ]
  },
  {
   "cell_type": "code",
   "execution_count": 89,
   "metadata": {},
   "outputs": [],
   "source": [
    "# analyse statistical testing with Redit, see R\n",
    "dfP=pd.read_csv('/Users/karlfrontzek/Documents/UCL/rna_editing/prionREDI/muscleEditingSitesRedit.csv')"
   ]
  },
  {
   "cell_type": "code",
   "execution_count": 90,
   "metadata": {},
   "outputs": [],
   "source": [
    "dfP[['wpi','site1']]=dfP['site'].str.split(\"+\",expand=True)"
   ]
  },
  {
   "cell_type": "code",
   "execution_count": 91,
   "metadata": {},
   "outputs": [],
   "source": [
    "from statsmodels.stats.multitest import multipletests # for fdr"
   ]
  },
  {
   "cell_type": "code",
   "execution_count": 92,
   "metadata": {},
   "outputs": [],
   "source": [
    "wpiUnique=dfP['wpi'].unique()"
   ]
  },
  {
   "cell_type": "code",
   "execution_count": 93,
   "metadata": {},
   "outputs": [],
   "source": [
    "# adjust for fdr < 0.05 \n",
    "# preassign dataframe\n",
    "tT=pd.DataFrame({'wpi':[],'sig':[],'fdr':[],'pValue':[],'index':[]})\n",
    "for i in range(0,len(wpiUnique)): # loop through all wpi\n",
    "    tTtemp=pd.DataFrame({'wpi':[],'sig':[],'fdr':[],'pValue':[],'index':[]}) # preassign temp datafram\n",
    "    # add sig and pVal to dataframe\n",
    "    tTtemp['sig']=multipletests(dfP['pValue'].loc[dfP['wpi']==wpiUnique[i]],alpha=0.05,method=\"fdr_bh\")[0]\n",
    "    tTtemp['fdr']=multipletests(dfP['pValue'].loc[dfP['wpi']==wpiUnique[i]],alpha=0.05,method=\"fdr_bh\")[1]\n",
    "    tTtemp[['index','pValue']]=dfP['pValue'].loc[dfP['wpi']==wpiUnique[i]].reset_index()\n",
    "    tTtemp['wpi']=wpiUnique[i]\n",
    "    tT=tT.append(tTtemp)"
   ]
  },
  {
   "cell_type": "code",
   "execution_count": 94,
   "metadata": {},
   "outputs": [],
   "source": [
    "bloodRediAllEvents=tT.merge(dfP,left_on=\"pValue\",right_on=\"pValue\") # merge sites and fdr on \"pValue\""
   ]
  },
  {
   "cell_type": "code",
   "execution_count": 95,
   "metadata": {},
   "outputs": [
    {
     "data": {
      "text/html": [
       "<div>\n",
       "<style scoped>\n",
       "    .dataframe tbody tr th:only-of-type {\n",
       "        vertical-align: middle;\n",
       "    }\n",
       "\n",
       "    .dataframe tbody tr th {\n",
       "        vertical-align: top;\n",
       "    }\n",
       "\n",
       "    .dataframe thead th {\n",
       "        text-align: right;\n",
       "    }\n",
       "</style>\n",
       "<table border=\"1\" class=\"dataframe\">\n",
       "  <thead>\n",
       "    <tr style=\"text-align: right;\">\n",
       "      <th></th>\n",
       "      <th>wpi_x</th>\n",
       "      <th>sig</th>\n",
       "      <th>fdr</th>\n",
       "      <th>pValue</th>\n",
       "      <th>index</th>\n",
       "      <th>site</th>\n",
       "      <th>wpi_y</th>\n",
       "      <th>site1</th>\n",
       "    </tr>\n",
       "  </thead>\n",
       "  <tbody>\n",
       "  </tbody>\n",
       "</table>\n",
       "</div>"
      ],
      "text/plain": [
       "Empty DataFrame\n",
       "Columns: [wpi_x, sig, fdr, pValue, index, site, wpi_y, site1]\n",
       "Index: []"
      ]
     },
     "execution_count": 95,
     "metadata": {},
     "output_type": "execute_result"
    }
   ],
   "source": [
    "bloodRediAllEvents.loc[bloodRediAllEvents['sig']==1] # show significant editing events"
   ]
  },
  {
   "cell_type": "markdown",
   "metadata": {},
   "source": [
    "# spleen"
   ]
  },
  {
   "cell_type": "code",
   "execution_count": 158,
   "metadata": {},
   "outputs": [],
   "source": [
    "# get files from folder\n",
    "muscleFolder=\"/Users/karlfrontzek/Documents/UCL/rna_editing/prionREDI/spleen\"\n",
    "os.chdir(muscleFolder)\n",
    "onlyfiles = [f for f in os.listdir(muscleFolder) if os.path.isfile(os.path.join(muscleFolder, f))]"
   ]
  },
  {
   "cell_type": "code",
   "execution_count": 159,
   "metadata": {},
   "outputs": [],
   "source": [
    "# read files in dataframe\n",
    "df = pd.DataFrame()\n",
    "df0 = pd.DataFrame()\n",
    "for i in range(0,len(onlyfiles)):\n",
    "    fname=onlyfiles[i].split(\".\")[0] # assign sample name\n",
    "    df0=pd.read_csv(onlyfiles[i], sep=\"\\t\") # read file\n",
    "    df0['sampleID']=fname # assign sample to table\n",
    "    df=df.append(df0) # append table"
   ]
  },
  {
   "cell_type": "code",
   "execution_count": 160,
   "metadata": {},
   "outputs": [],
   "source": [
    "# split base counts\n",
    "dfb=df[\"BaseCount[A,C,G,T]\"].str.split(\",\",expand=True) # expand column\n",
    "dfb.columns=['A',\"C\",\"G\",\"T\"] # rename columns\n",
    "dfb['A']=dfb['A'].str.replace('[',\"\") # replace brackets\n",
    "dfb['T']=dfb['T'].str.replace(']',\"\")"
   ]
  },
  {
   "cell_type": "code",
   "execution_count": 161,
   "metadata": {},
   "outputs": [],
   "source": [
    "df[['A',\"C\",\"G\",\"T\"]]=dfb # merge tables"
   ]
  },
  {
   "cell_type": "code",
   "execution_count": 162,
   "metadata": {},
   "outputs": [],
   "source": [
    "df[['A',\"C\",\"G\",\"T\"]]= df[['A',\"C\",\"G\",\"T\"]].astype(\"int\")"
   ]
  },
  {
   "cell_type": "code",
   "execution_count": 163,
   "metadata": {},
   "outputs": [
    {
     "data": {
      "text/html": [
       "<div>\n",
       "<style scoped>\n",
       "    .dataframe tbody tr th:only-of-type {\n",
       "        vertical-align: middle;\n",
       "    }\n",
       "\n",
       "    .dataframe tbody tr th {\n",
       "        vertical-align: top;\n",
       "    }\n",
       "\n",
       "    .dataframe thead th {\n",
       "        text-align: right;\n",
       "    }\n",
       "</style>\n",
       "<table border=\"1\" class=\"dataframe\">\n",
       "  <thead>\n",
       "    <tr style=\"text-align: right;\">\n",
       "      <th></th>\n",
       "      <th>Region</th>\n",
       "      <th>Position</th>\n",
       "      <th>Reference</th>\n",
       "      <th>Strand</th>\n",
       "      <th>Coverage-q30</th>\n",
       "      <th>MeanQ</th>\n",
       "      <th>BaseCount[A,C,G,T]</th>\n",
       "      <th>AllSubs</th>\n",
       "      <th>Frequency</th>\n",
       "      <th>sampleID</th>\n",
       "      <th>A</th>\n",
       "      <th>C</th>\n",
       "      <th>G</th>\n",
       "      <th>T</th>\n",
       "    </tr>\n",
       "  </thead>\n",
       "  <tbody>\n",
       "    <tr>\n",
       "      <td>39</td>\n",
       "      <td>chr5</td>\n",
       "      <td>77407731</td>\n",
       "      <td>A</td>\n",
       "      <td>0</td>\n",
       "      <td>982</td>\n",
       "      <td>53.95</td>\n",
       "      <td>[172, 0, 807, 3]</td>\n",
       "      <td>AG</td>\n",
       "      <td>0.82</td>\n",
       "      <td>PB-23</td>\n",
       "      <td>172</td>\n",
       "      <td>0</td>\n",
       "      <td>807</td>\n",
       "      <td>3</td>\n",
       "    </tr>\n",
       "  </tbody>\n",
       "</table>\n",
       "</div>"
      ],
      "text/plain": [
       "   Region  Position Reference  Strand  Coverage-q30  MeanQ BaseCount[A,C,G,T]  \\\n",
       "39   chr5  77407731         A       0           982  53.95   [172, 0, 807, 3]   \n",
       "\n",
       "   AllSubs  Frequency sampleID    A  C    G  T  \n",
       "39      AG       0.82    PB-23  172  0  807  3  "
      ]
     },
     "execution_count": 163,
     "metadata": {},
     "output_type": "execute_result"
    }
   ],
   "source": [
    "df.loc[df['T']>=3]# 1 site with 3xT, but A>T, not C>G site due to 172xA->807xG"
   ]
  },
  {
   "cell_type": "code",
   "execution_count": 164,
   "metadata": {},
   "outputs": [],
   "source": [
    "# keep only G>=3\n",
    "df_raw=df\n",
    "df=df.loc[df[\"G\"]>=3]"
   ]
  },
  {
   "cell_type": "code",
   "execution_count": 165,
   "metadata": {},
   "outputs": [],
   "source": [
    "# merge metadata\n",
    "os.chdir(\"/Users/karlfrontzek/Documents/UCL/rna_editing/prion/\")\n",
    "# read meta-data and extract ID\n",
    "peri_meta=pd.read_csv(\"meta_p3506_PeripheralSamples.csv\",sep=\";\")\n",
    "peri_meta.columns=['TubeID','SampleID','Treatment','wpi','Region']\n",
    "peri_meta=peri_meta.loc[peri_meta['Region']==\"spleen\"]\n",
    "peri_meta['SampleID']=peri_meta['SampleID'].str.split(\"_\",expand=True)[0]"
   ]
  },
  {
   "cell_type": "code",
   "execution_count": 166,
   "metadata": {
    "scrolled": true
   },
   "outputs": [
    {
     "name": "stderr",
     "output_type": "stream",
     "text": [
      "/Users/karlfrontzek/anaconda3/lib/python3.7/site-packages/ipykernel_launcher.py:2: SettingWithCopyWarning: \n",
      "A value is trying to be set on a copy of a slice from a DataFrame.\n",
      "Try using .loc[row_indexer,col_indexer] = value instead\n",
      "\n",
      "See the caveats in the documentation: http://pandas.pydata.org/pandas-docs/stable/user_guide/indexing.html#returning-a-view-versus-a-copy\n",
      "  \n"
     ]
    }
   ],
   "source": [
    "# calculate editing frequency\n",
    "df['editFreq']=df['G']/df['A']\n",
    "# sort by editing frequency >= 1%\n",
    "#len(df['editFreq'])\n",
    "#len(df.loc[df['editFreq']]) # 2 values are below 0.1%\n",
    "df=df.loc[df['editFreq']>= 0.01]"
   ]
  },
  {
   "cell_type": "code",
   "execution_count": 167,
   "metadata": {},
   "outputs": [],
   "source": [
    "df=df.merge(peri_meta,left_on=\"sampleID\",right_on=\"SampleID\") # merge tables"
   ]
  },
  {
   "cell_type": "code",
   "execution_count": 168,
   "metadata": {},
   "outputs": [],
   "source": [
    "# keep df_raw for statistical comparisons\n",
    "df_raw=df_raw.merge(peri_meta,left_on=\"sampleID\",right_on=\"SampleID\") # merge tables"
   ]
  },
  {
   "cell_type": "code",
   "execution_count": 169,
   "metadata": {},
   "outputs": [],
   "source": [
    "# export raw data for supplementary table, e.g. cog3 terminal stage\n",
    "df_raw.loc[(df_raw['wpi']==\"16\") & (df_raw['Position']==7936048.0)].to_csv(\"rediFlnbSuppTab3.csv\")\n",
    "df_raw.loc[(df_raw['wpi']==\"16\") & (df_raw['Position']==172092348.0)].to_csv(\"rediCopaSuppTab3.csv\")"
   ]
  },
  {
   "cell_type": "code",
   "execution_count": 107,
   "metadata": {},
   "outputs": [],
   "source": [
    "# test if edited site occurs at least in 2/3 of replicates, easy: positions are all unique\n",
    "occurence = []\n",
    "wpii=[4,4,8,8,12,12,14,14,16,16,18,18,20,20,'term','term']\n",
    "treat=['RML6','NBH']*8\n",
    "loopi=pd.DataFrame({\"treat\":treat,\"wpi\":wpii})"
   ]
  },
  {
   "cell_type": "code",
   "execution_count": 108,
   "metadata": {},
   "outputs": [],
   "source": [
    "# extract sites that are edited at least in 2/3 replicates\n",
    "\n",
    "testSites=pd.DataFrame([])\n",
    "for i in range(0,len(loopi)):\n",
    "    tS=pd.DataFrame([])\n",
    "    tS[['Position','Counts']]=pd.DataFrame(df['Position'].loc[(df['wpi']==str(loopi['wpi'].iloc[i])) & (df['Treatment']==loopi['treat'].iloc[i])].value_counts()).reset_index()\n",
    "    tS['wpi']=loopi['wpi'].iloc[i]\n",
    "    tS['Treatment']=loopi['treat'].iloc[i]\n",
    "    testSites=testSites.append(tS)"
   ]
  },
  {
   "cell_type": "code",
   "execution_count": 109,
   "metadata": {},
   "outputs": [],
   "source": [
    "dfReplicates=df[['wpi','Treatment','SampleID']].drop_duplicates()\n",
    "totalRep=pd.Series(list(zip(dfReplicates.wpi, dfReplicates.Treatment))).value_counts()\n",
    "totalRep=totalRep.reset_index()\n",
    "totalRep.columns=['Index','Rep']"
   ]
  },
  {
   "cell_type": "code",
   "execution_count": 110,
   "metadata": {},
   "outputs": [],
   "source": [
    "testSites['wpi']=testSites['wpi'].astype('str')"
   ]
  },
  {
   "cell_type": "code",
   "execution_count": 111,
   "metadata": {},
   "outputs": [],
   "source": [
    "testSites['wpiTreatment']=list(zip(testSites.wpi, testSites.Treatment)) # merge wpi+Treatment for threshold \n",
    "Thr=pd.DataFrame({'Index':[],'Thr':[]})                                                       # calculation of edited sites\n",
    "for i in range(0,len(testSites)): # iterate over testsite counts, keep those occuring in floor(2/3 of samples)\n",
    "    wpiTreat=testSites['wpiTreatment'].iloc[i]  # read current treatment+wpi combi\n",
    "    Tr=math.floor(totalRep['Rep'].loc[totalRep['Index']==wpiTreat]*2/3) # calculate current threshold\n",
    "    Tp=pd.DataFrame({'Index':str(i),'Thr':str(Tr)},index=[i]) # make list of thresholds per edited site\n",
    "    Thr=Thr.append(Tp)\n",
    "#testSitesThr=testSites['Position'].loc[testSites['Counts']!=1] # extract test sites \n",
    "#testSites['Counts'].loc[testSites['Position'].isin(testSites1)].head(50)"
   ]
  },
  {
   "cell_type": "code",
   "execution_count": 112,
   "metadata": {},
   "outputs": [],
   "source": [
    "testSitesThr=testSites.reset_index().join(Thr) # join TestSites and Threshold"
   ]
  },
  {
   "cell_type": "code",
   "execution_count": 113,
   "metadata": {},
   "outputs": [],
   "source": [
    "testSitesThr['Counts']=testSitesThr['Counts'].astype('int')\n",
    "testSitesThr['Thr']=testSitesThr['Thr'].astype('int') # convert counts to int"
   ]
  },
  {
   "cell_type": "code",
   "execution_count": 114,
   "metadata": {},
   "outputs": [],
   "source": [
    "testSitesThr=testSitesThr.loc[testSitesThr['Counts']>=testSitesThr['Thr']] # select for editing events which pass threshold"
   ]
  },
  {
   "cell_type": "code",
   "execution_count": 115,
   "metadata": {},
   "outputs": [],
   "source": [
    "# make combination of position+wpi\n",
    "uniqueEdSitesThr=pd.Series(list(zip(testSitesThr.wpi, testSitesThr.Position)))\n",
    "uniqueEdSitesThr=uniqueEdSitesThr.astype('str') # convert tuple to str"
   ]
  },
  {
   "cell_type": "code",
   "execution_count": 116,
   "metadata": {},
   "outputs": [],
   "source": [
    "df_raw['wpiPosition']=list(zip(df_raw.wpi, df_raw.Position)) # combine wpi+Position in df_raw\n",
    "df_raw['wpiPosition']=df_raw['wpiPosition'].astype('str') # convert tuple to str"
   ]
  },
  {
   "cell_type": "code",
   "execution_count": 117,
   "metadata": {},
   "outputs": [],
   "source": [
    "testSitesThr['wpiPosition']=testSitesThr['wpi']+'+'+testSitesThr['Position'].astype('str')\n",
    "df_raw['wpiPosition']=df_raw['wpi']+'+'+df_raw['Position'].astype('str')"
   ]
  },
  {
   "cell_type": "code",
   "execution_count": 118,
   "metadata": {},
   "outputs": [],
   "source": [
    "uniqueTestSitesThr=testSitesThr['wpiPosition'].unique() # retrieve unique editing sites"
   ]
  },
  {
   "cell_type": "code",
   "execution_count": 119,
   "metadata": {},
   "outputs": [],
   "source": [
    "uniqueTestSitesThr=list(uniqueTestSitesThr) # convert unique editing sites to list"
   ]
  },
  {
   "cell_type": "code",
   "execution_count": 120,
   "metadata": {},
   "outputs": [],
   "source": [
    "dfThr=df_raw.loc[df_raw['wpiPosition'].isin(uniqueTestSitesThr)] # keep editing sites that pass threshold"
   ]
  },
  {
   "cell_type": "code",
   "execution_count": 121,
   "metadata": {},
   "outputs": [],
   "source": [
    "# clean up dfThr for export\n",
    "dfThrClean=dfThr[['A','G','Treatment','wpi','wpiPosition']]\n"
   ]
  },
  {
   "cell_type": "code",
   "execution_count": 122,
   "metadata": {},
   "outputs": [],
   "source": [
    "# test whether at least 2 replicates of non-edited site exist\n",
    "uniqueSites=dfThrClean['wpiPosition'].unique()\n",
    "excludeSites=[]\n",
    "for i in range(0,len(uniqueSites)):\n",
    "    uS=dfThrClean.loc[dfThrClean['wpiPosition']==uniqueSites[i]]\n",
    "    if len(uS['Treatment'].loc[uS['Treatment']==\"NBH\"]) < 2:\n",
    "        #print(\"In wpiPosition {} treated with NBH less than 2 replicates\".format(uniqueSites[i]))\n",
    "        excludeSites.append(uniqueSites[i])\n",
    "    if len(uS['Treatment'].loc[uS['Treatment']==\"RML6\"]) < 2:\n",
    "        #print(\"In wpiPosition {} treated with RML6 less than 2 replicates\".format(uniqueSites[i]))\n",
    "         excludeSites.append(uniqueSites[i])"
   ]
  },
  {
   "cell_type": "code",
   "execution_count": 123,
   "metadata": {},
   "outputs": [],
   "source": [
    "dfThrClean=dfThrClean.loc[~dfThrClean['wpiPosition'].isin(excludeSites)]\n",
    "dfThrClean.to_csv('spleenRediEli.csv') # export dfThrClean"
   ]
  },
  {
   "cell_type": "code",
   "execution_count": 124,
   "metadata": {},
   "outputs": [],
   "source": [
    "# load p-Value adjusted results from Redit"
   ]
  },
  {
   "cell_type": "code",
   "execution_count": 125,
   "metadata": {},
   "outputs": [],
   "source": [
    "# analyse statistical testing with Redit, see R\n",
    "dfP=pd.read_csv('/Users/karlfrontzek/Documents/UCL/rna_editing/prionREDI/spleenEditingSitesRedit.csv')"
   ]
  },
  {
   "cell_type": "code",
   "execution_count": 126,
   "metadata": {},
   "outputs": [],
   "source": [
    "dfP[['wpi','site1']]=dfP['site'].str.split(\"+\",expand=True)"
   ]
  },
  {
   "cell_type": "code",
   "execution_count": 127,
   "metadata": {},
   "outputs": [],
   "source": [
    "from statsmodels.stats.multitest import multipletests # for fdr"
   ]
  },
  {
   "cell_type": "code",
   "execution_count": 128,
   "metadata": {},
   "outputs": [],
   "source": [
    "wpiUnique=dfP['wpi'].unique()"
   ]
  },
  {
   "cell_type": "code",
   "execution_count": 129,
   "metadata": {},
   "outputs": [],
   "source": [
    "# adjust for fdr < 0.05 \n",
    "# preassign dataframe\n",
    "tT=pd.DataFrame({'wpi':[],'sig':[],'fdr':[],'pValue':[],'index':[]})\n",
    "for i in range(0,len(wpiUnique)): # loop through all wpi\n",
    "    tTtemp=pd.DataFrame({'wpi':[],'sig':[],'fdr':[],'pValue':[],'index':[]}) # preassign temp datafram\n",
    "    # add sig and pVal to dataframe\n",
    "    tTtemp['sig']=multipletests(dfP['pValue'].loc[dfP['wpi']==wpiUnique[i]],alpha=0.05,method=\"fdr_bh\")[0]\n",
    "    tTtemp['fdr']=multipletests(dfP['pValue'].loc[dfP['wpi']==wpiUnique[i]],alpha=0.05,method=\"fdr_bh\")[1]\n",
    "    tTtemp[['index','pValue']]=dfP['pValue'].loc[dfP['wpi']==wpiUnique[i]].reset_index()\n",
    "    tTtemp['wpi']=wpiUnique[i]\n",
    "    tT=tT.append(tTtemp)"
   ]
  },
  {
   "cell_type": "code",
   "execution_count": 130,
   "metadata": {},
   "outputs": [],
   "source": [
    "bloodRediAllEvents=tT.merge(dfP,left_on=\"pValue\",right_on=\"pValue\") # merge sites and fdr on \"pValue\""
   ]
  },
  {
   "cell_type": "code",
   "execution_count": 131,
   "metadata": {},
   "outputs": [
    {
     "data": {
      "text/html": [
       "<div>\n",
       "<style scoped>\n",
       "    .dataframe tbody tr th:only-of-type {\n",
       "        vertical-align: middle;\n",
       "    }\n",
       "\n",
       "    .dataframe tbody tr th {\n",
       "        vertical-align: top;\n",
       "    }\n",
       "\n",
       "    .dataframe thead th {\n",
       "        text-align: right;\n",
       "    }\n",
       "</style>\n",
       "<table border=\"1\" class=\"dataframe\">\n",
       "  <thead>\n",
       "    <tr style=\"text-align: right;\">\n",
       "      <th></th>\n",
       "      <th>wpi_x</th>\n",
       "      <th>sig</th>\n",
       "      <th>fdr</th>\n",
       "      <th>pValue</th>\n",
       "      <th>index</th>\n",
       "      <th>site</th>\n",
       "      <th>wpi_y</th>\n",
       "      <th>site1</th>\n",
       "    </tr>\n",
       "  </thead>\n",
       "  <tbody>\n",
       "    <tr>\n",
       "      <td>5</td>\n",
       "      <td>16</td>\n",
       "      <td>1.0</td>\n",
       "      <td>0.045061</td>\n",
       "      <td>0.005688</td>\n",
       "      <td>5.0</td>\n",
       "      <td>16+7936048</td>\n",
       "      <td>16</td>\n",
       "      <td>7936048</td>\n",
       "    </tr>\n",
       "    <tr>\n",
       "      <td>7</td>\n",
       "      <td>16</td>\n",
       "      <td>1.0</td>\n",
       "      <td>0.045061</td>\n",
       "      <td>0.006932</td>\n",
       "      <td>7.0</td>\n",
       "      <td>16+172092348</td>\n",
       "      <td>16</td>\n",
       "      <td>172092348</td>\n",
       "    </tr>\n",
       "  </tbody>\n",
       "</table>\n",
       "</div>"
      ],
      "text/plain": [
       "  wpi_x  sig       fdr    pValue  index          site wpi_y      site1\n",
       "5    16  1.0  0.045061  0.005688    5.0    16+7936048    16    7936048\n",
       "7    16  1.0  0.045061  0.006932    7.0  16+172092348    16  172092348"
      ]
     },
     "execution_count": 131,
     "metadata": {},
     "output_type": "execute_result"
    }
   ],
   "source": [
    "bloodRediAllEvents.loc[bloodRediAllEvents['sig']==1] # show significant editing events"
   ]
  },
  {
   "cell_type": "code",
   "execution_count": 132,
   "metadata": {},
   "outputs": [
    {
     "data": {
      "text/html": [
       "<div>\n",
       "<style scoped>\n",
       "    .dataframe tbody tr th:only-of-type {\n",
       "        vertical-align: middle;\n",
       "    }\n",
       "\n",
       "    .dataframe tbody tr th {\n",
       "        vertical-align: top;\n",
       "    }\n",
       "\n",
       "    .dataframe thead th {\n",
       "        text-align: right;\n",
       "    }\n",
       "</style>\n",
       "<table border=\"1\" class=\"dataframe\">\n",
       "  <thead>\n",
       "    <tr style=\"text-align: right;\">\n",
       "      <th></th>\n",
       "      <th>Region_x</th>\n",
       "      <th>Position</th>\n",
       "      <th>Reference</th>\n",
       "      <th>Strand</th>\n",
       "      <th>Coverage-q30</th>\n",
       "      <th>MeanQ</th>\n",
       "      <th>BaseCount[A,C,G,T]</th>\n",
       "      <th>AllSubs</th>\n",
       "      <th>Frequency</th>\n",
       "      <th>sampleID</th>\n",
       "      <th>A</th>\n",
       "      <th>C</th>\n",
       "      <th>G</th>\n",
       "      <th>T</th>\n",
       "      <th>TubeID</th>\n",
       "      <th>SampleID</th>\n",
       "      <th>Treatment</th>\n",
       "      <th>wpi</th>\n",
       "      <th>Region_y</th>\n",
       "      <th>wpiPosition</th>\n",
       "    </tr>\n",
       "  </thead>\n",
       "  <tbody>\n",
       "    <tr>\n",
       "      <td>18</td>\n",
       "      <td>chr14</td>\n",
       "      <td>7936048</td>\n",
       "      <td>A</td>\n",
       "      <td>1</td>\n",
       "      <td>32</td>\n",
       "      <td>45.06</td>\n",
       "      <td>[32, 0, 0, 0]</td>\n",
       "      <td>-</td>\n",
       "      <td>0.00</td>\n",
       "      <td>PB-79</td>\n",
       "      <td>32</td>\n",
       "      <td>0</td>\n",
       "      <td>0</td>\n",
       "      <td>0</td>\n",
       "      <td>p1608_4211/80</td>\n",
       "      <td>PB-79</td>\n",
       "      <td>NBH</td>\n",
       "      <td>16</td>\n",
       "      <td>spleen</td>\n",
       "      <td>16+7936048</td>\n",
       "    </tr>\n",
       "    <tr>\n",
       "      <td>174</td>\n",
       "      <td>chr14</td>\n",
       "      <td>7936048</td>\n",
       "      <td>A</td>\n",
       "      <td>1</td>\n",
       "      <td>39</td>\n",
       "      <td>45.54</td>\n",
       "      <td>[28, 0, 11, 0]</td>\n",
       "      <td>AG</td>\n",
       "      <td>0.28</td>\n",
       "      <td>PB-78</td>\n",
       "      <td>28</td>\n",
       "      <td>0</td>\n",
       "      <td>11</td>\n",
       "      <td>0</td>\n",
       "      <td>p1608_4211/26</td>\n",
       "      <td>PB-78</td>\n",
       "      <td>NBH</td>\n",
       "      <td>16</td>\n",
       "      <td>spleen</td>\n",
       "      <td>16+7936048</td>\n",
       "    </tr>\n",
       "    <tr>\n",
       "      <td>1350</td>\n",
       "      <td>chr14</td>\n",
       "      <td>7936048</td>\n",
       "      <td>A</td>\n",
       "      <td>1</td>\n",
       "      <td>47</td>\n",
       "      <td>38.57</td>\n",
       "      <td>[45, 0, 2, 0]</td>\n",
       "      <td>-</td>\n",
       "      <td>0.00</td>\n",
       "      <td>PB-71</td>\n",
       "      <td>45</td>\n",
       "      <td>0</td>\n",
       "      <td>2</td>\n",
       "      <td>0</td>\n",
       "      <td>p1608_4211/8</td>\n",
       "      <td>PB-71</td>\n",
       "      <td>NBH</td>\n",
       "      <td>16</td>\n",
       "      <td>spleen</td>\n",
       "      <td>16+7936048</td>\n",
       "    </tr>\n",
       "    <tr>\n",
       "      <td>1431</td>\n",
       "      <td>chr14</td>\n",
       "      <td>7936048</td>\n",
       "      <td>A</td>\n",
       "      <td>1</td>\n",
       "      <td>17</td>\n",
       "      <td>45.71</td>\n",
       "      <td>[9, 0, 8, 0]</td>\n",
       "      <td>AG</td>\n",
       "      <td>0.47</td>\n",
       "      <td>PB-73</td>\n",
       "      <td>9</td>\n",
       "      <td>0</td>\n",
       "      <td>8</td>\n",
       "      <td>0</td>\n",
       "      <td>p1608_4211/79</td>\n",
       "      <td>PB-73</td>\n",
       "      <td>RML6</td>\n",
       "      <td>16</td>\n",
       "      <td>spleen</td>\n",
       "      <td>16+7936048</td>\n",
       "    </tr>\n",
       "    <tr>\n",
       "      <td>1594</td>\n",
       "      <td>chr14</td>\n",
       "      <td>7936048</td>\n",
       "      <td>A</td>\n",
       "      <td>1</td>\n",
       "      <td>46</td>\n",
       "      <td>48.80</td>\n",
       "      <td>[28, 0, 18, 0]</td>\n",
       "      <td>AG</td>\n",
       "      <td>0.39</td>\n",
       "      <td>PB-66</td>\n",
       "      <td>28</td>\n",
       "      <td>0</td>\n",
       "      <td>18</td>\n",
       "      <td>0</td>\n",
       "      <td>p1608_4211/7</td>\n",
       "      <td>PB-66</td>\n",
       "      <td>RML6</td>\n",
       "      <td>16</td>\n",
       "      <td>spleen</td>\n",
       "      <td>16+7936048</td>\n",
       "    </tr>\n",
       "    <tr>\n",
       "      <td>1821</td>\n",
       "      <td>chr14</td>\n",
       "      <td>7936048</td>\n",
       "      <td>A</td>\n",
       "      <td>1</td>\n",
       "      <td>24</td>\n",
       "      <td>41.12</td>\n",
       "      <td>[12, 0, 12, 0]</td>\n",
       "      <td>AG</td>\n",
       "      <td>0.50</td>\n",
       "      <td>PB-75</td>\n",
       "      <td>12</td>\n",
       "      <td>0</td>\n",
       "      <td>12</td>\n",
       "      <td>0</td>\n",
       "      <td>p1608_4211/25</td>\n",
       "      <td>PB-75</td>\n",
       "      <td>RML6</td>\n",
       "      <td>16</td>\n",
       "      <td>spleen</td>\n",
       "      <td>16+7936048</td>\n",
       "    </tr>\n",
       "  </tbody>\n",
       "</table>\n",
       "</div>"
      ],
      "text/plain": [
       "     Region_x  Position Reference  Strand  Coverage-q30  MeanQ  \\\n",
       "18      chr14   7936048         A       1            32  45.06   \n",
       "174     chr14   7936048         A       1            39  45.54   \n",
       "1350    chr14   7936048         A       1            47  38.57   \n",
       "1431    chr14   7936048         A       1            17  45.71   \n",
       "1594    chr14   7936048         A       1            46  48.80   \n",
       "1821    chr14   7936048         A       1            24  41.12   \n",
       "\n",
       "     BaseCount[A,C,G,T] AllSubs  Frequency sampleID   A  C   G  T  \\\n",
       "18        [32, 0, 0, 0]       -       0.00    PB-79  32  0   0  0   \n",
       "174      [28, 0, 11, 0]      AG       0.28    PB-78  28  0  11  0   \n",
       "1350      [45, 0, 2, 0]       -       0.00    PB-71  45  0   2  0   \n",
       "1431       [9, 0, 8, 0]      AG       0.47    PB-73   9  0   8  0   \n",
       "1594     [28, 0, 18, 0]      AG       0.39    PB-66  28  0  18  0   \n",
       "1821     [12, 0, 12, 0]      AG       0.50    PB-75  12  0  12  0   \n",
       "\n",
       "             TubeID SampleID Treatment wpi Region_y wpiPosition  \n",
       "18    p1608_4211/80    PB-79       NBH  16   spleen  16+7936048  \n",
       "174   p1608_4211/26    PB-78       NBH  16   spleen  16+7936048  \n",
       "1350   p1608_4211/8    PB-71       NBH  16   spleen  16+7936048  \n",
       "1431  p1608_4211/79    PB-73      RML6  16   spleen  16+7936048  \n",
       "1594   p1608_4211/7    PB-66      RML6  16   spleen  16+7936048  \n",
       "1821  p1608_4211/25    PB-75      RML6  16   spleen  16+7936048  "
      ]
     },
     "execution_count": 132,
     "metadata": {},
     "output_type": "execute_result"
    }
   ],
   "source": [
    "#df_raw\n",
    "df_raw.loc[(df_raw['Position']==7936048) & (df_raw['wpi']==\"16\")]"
   ]
  },
  {
   "cell_type": "code",
   "execution_count": 133,
   "metadata": {
    "scrolled": false
   },
   "outputs": [
    {
     "data": {
      "text/html": [
       "<div>\n",
       "<style scoped>\n",
       "    .dataframe tbody tr th:only-of-type {\n",
       "        vertical-align: middle;\n",
       "    }\n",
       "\n",
       "    .dataframe tbody tr th {\n",
       "        vertical-align: top;\n",
       "    }\n",
       "\n",
       "    .dataframe thead th {\n",
       "        text-align: right;\n",
       "    }\n",
       "</style>\n",
       "<table border=\"1\" class=\"dataframe\">\n",
       "  <thead>\n",
       "    <tr style=\"text-align: right;\">\n",
       "      <th></th>\n",
       "      <th>Region_x</th>\n",
       "      <th>Position</th>\n",
       "      <th>Reference</th>\n",
       "      <th>Strand</th>\n",
       "      <th>Coverage-q30</th>\n",
       "      <th>MeanQ</th>\n",
       "      <th>BaseCount[A,C,G,T]</th>\n",
       "      <th>AllSubs</th>\n",
       "      <th>Frequency</th>\n",
       "      <th>sampleID</th>\n",
       "      <th>A</th>\n",
       "      <th>C</th>\n",
       "      <th>G</th>\n",
       "      <th>T</th>\n",
       "      <th>TubeID</th>\n",
       "      <th>SampleID</th>\n",
       "      <th>Treatment</th>\n",
       "      <th>wpi</th>\n",
       "      <th>Region_y</th>\n",
       "      <th>wpiPosition</th>\n",
       "    </tr>\n",
       "  </thead>\n",
       "  <tbody>\n",
       "    <tr>\n",
       "      <td>32</td>\n",
       "      <td>chr1</td>\n",
       "      <td>172092348</td>\n",
       "      <td>A</td>\n",
       "      <td>1</td>\n",
       "      <td>318</td>\n",
       "      <td>38.36</td>\n",
       "      <td>[283, 0, 35, 0]</td>\n",
       "      <td>AG</td>\n",
       "      <td>0.11</td>\n",
       "      <td>PB-79</td>\n",
       "      <td>283</td>\n",
       "      <td>0</td>\n",
       "      <td>35</td>\n",
       "      <td>0</td>\n",
       "      <td>p1608_4211/80</td>\n",
       "      <td>PB-79</td>\n",
       "      <td>NBH</td>\n",
       "      <td>16</td>\n",
       "      <td>spleen</td>\n",
       "      <td>16+172092348</td>\n",
       "    </tr>\n",
       "    <tr>\n",
       "      <td>187</td>\n",
       "      <td>chr1</td>\n",
       "      <td>172092348</td>\n",
       "      <td>A</td>\n",
       "      <td>1</td>\n",
       "      <td>341</td>\n",
       "      <td>38.16</td>\n",
       "      <td>[304, 0, 37, 0]</td>\n",
       "      <td>AG</td>\n",
       "      <td>0.11</td>\n",
       "      <td>PB-78</td>\n",
       "      <td>304</td>\n",
       "      <td>0</td>\n",
       "      <td>37</td>\n",
       "      <td>0</td>\n",
       "      <td>p1608_4211/26</td>\n",
       "      <td>PB-78</td>\n",
       "      <td>NBH</td>\n",
       "      <td>16</td>\n",
       "      <td>spleen</td>\n",
       "      <td>16+172092348</td>\n",
       "    </tr>\n",
       "    <tr>\n",
       "      <td>1364</td>\n",
       "      <td>chr1</td>\n",
       "      <td>172092348</td>\n",
       "      <td>A</td>\n",
       "      <td>1</td>\n",
       "      <td>477</td>\n",
       "      <td>37.70</td>\n",
       "      <td>[432, 0, 45, 0]</td>\n",
       "      <td>-</td>\n",
       "      <td>0.00</td>\n",
       "      <td>PB-71</td>\n",
       "      <td>432</td>\n",
       "      <td>0</td>\n",
       "      <td>45</td>\n",
       "      <td>0</td>\n",
       "      <td>p1608_4211/8</td>\n",
       "      <td>PB-71</td>\n",
       "      <td>NBH</td>\n",
       "      <td>16</td>\n",
       "      <td>spleen</td>\n",
       "      <td>16+172092348</td>\n",
       "    </tr>\n",
       "    <tr>\n",
       "      <td>1443</td>\n",
       "      <td>chr1</td>\n",
       "      <td>172092348</td>\n",
       "      <td>A</td>\n",
       "      <td>1</td>\n",
       "      <td>361</td>\n",
       "      <td>38.23</td>\n",
       "      <td>[335, 0, 26, 0]</td>\n",
       "      <td>-</td>\n",
       "      <td>0.00</td>\n",
       "      <td>PB-73</td>\n",
       "      <td>335</td>\n",
       "      <td>0</td>\n",
       "      <td>26</td>\n",
       "      <td>0</td>\n",
       "      <td>p1608_4211/79</td>\n",
       "      <td>PB-73</td>\n",
       "      <td>RML6</td>\n",
       "      <td>16</td>\n",
       "      <td>spleen</td>\n",
       "      <td>16+172092348</td>\n",
       "    </tr>\n",
       "    <tr>\n",
       "      <td>1606</td>\n",
       "      <td>chr1</td>\n",
       "      <td>172092348</td>\n",
       "      <td>A</td>\n",
       "      <td>1</td>\n",
       "      <td>332</td>\n",
       "      <td>38.34</td>\n",
       "      <td>[322, 0, 10, 0]</td>\n",
       "      <td>-</td>\n",
       "      <td>0.00</td>\n",
       "      <td>PB-66</td>\n",
       "      <td>322</td>\n",
       "      <td>0</td>\n",
       "      <td>10</td>\n",
       "      <td>0</td>\n",
       "      <td>p1608_4211/7</td>\n",
       "      <td>PB-66</td>\n",
       "      <td>RML6</td>\n",
       "      <td>16</td>\n",
       "      <td>spleen</td>\n",
       "      <td>16+172092348</td>\n",
       "    </tr>\n",
       "    <tr>\n",
       "      <td>1833</td>\n",
       "      <td>chr1</td>\n",
       "      <td>172092348</td>\n",
       "      <td>A</td>\n",
       "      <td>1</td>\n",
       "      <td>311</td>\n",
       "      <td>38.19</td>\n",
       "      <td>[296, 0, 15, 0]</td>\n",
       "      <td>-</td>\n",
       "      <td>0.00</td>\n",
       "      <td>PB-75</td>\n",
       "      <td>296</td>\n",
       "      <td>0</td>\n",
       "      <td>15</td>\n",
       "      <td>0</td>\n",
       "      <td>p1608_4211/25</td>\n",
       "      <td>PB-75</td>\n",
       "      <td>RML6</td>\n",
       "      <td>16</td>\n",
       "      <td>spleen</td>\n",
       "      <td>16+172092348</td>\n",
       "    </tr>\n",
       "  </tbody>\n",
       "</table>\n",
       "</div>"
      ],
      "text/plain": [
       "     Region_x   Position Reference  Strand  Coverage-q30  MeanQ  \\\n",
       "32       chr1  172092348         A       1           318  38.36   \n",
       "187      chr1  172092348         A       1           341  38.16   \n",
       "1364     chr1  172092348         A       1           477  37.70   \n",
       "1443     chr1  172092348         A       1           361  38.23   \n",
       "1606     chr1  172092348         A       1           332  38.34   \n",
       "1833     chr1  172092348         A       1           311  38.19   \n",
       "\n",
       "     BaseCount[A,C,G,T] AllSubs  Frequency sampleID    A  C   G  T  \\\n",
       "32      [283, 0, 35, 0]      AG       0.11    PB-79  283  0  35  0   \n",
       "187     [304, 0, 37, 0]      AG       0.11    PB-78  304  0  37  0   \n",
       "1364    [432, 0, 45, 0]       -       0.00    PB-71  432  0  45  0   \n",
       "1443    [335, 0, 26, 0]       -       0.00    PB-73  335  0  26  0   \n",
       "1606    [322, 0, 10, 0]       -       0.00    PB-66  322  0  10  0   \n",
       "1833    [296, 0, 15, 0]       -       0.00    PB-75  296  0  15  0   \n",
       "\n",
       "             TubeID SampleID Treatment wpi Region_y   wpiPosition  \n",
       "32    p1608_4211/80    PB-79       NBH  16   spleen  16+172092348  \n",
       "187   p1608_4211/26    PB-78       NBH  16   spleen  16+172092348  \n",
       "1364   p1608_4211/8    PB-71       NBH  16   spleen  16+172092348  \n",
       "1443  p1608_4211/79    PB-73      RML6  16   spleen  16+172092348  \n",
       "1606   p1608_4211/7    PB-66      RML6  16   spleen  16+172092348  \n",
       "1833  p1608_4211/25    PB-75      RML6  16   spleen  16+172092348  "
      ]
     },
     "execution_count": 133,
     "metadata": {},
     "output_type": "execute_result"
    }
   ],
   "source": [
    "df_raw.loc[(df_raw['Position']==172092348) & (df_raw['wpi']==\"16\")]"
   ]
  },
  {
   "cell_type": "markdown",
   "metadata": {},
   "source": [
    "# brain"
   ]
  },
  {
   "cell_type": "code",
   "execution_count": 134,
   "metadata": {},
   "outputs": [],
   "source": [
    "# get files from folder\n",
    "muscleFolder=\"/Users/karlfrontzek/Documents/UCL/rna_editing/prionREDI/brain\"\n",
    "os.chdir(muscleFolder)\n",
    "onlyfiles = [f for f in os.listdir(muscleFolder) if os.path.isfile(os.path.join(muscleFolder, f))]"
   ]
  },
  {
   "cell_type": "code",
   "execution_count": 135,
   "metadata": {},
   "outputs": [],
   "source": [
    "# read files in dataframe\n",
    "df = pd.DataFrame()\n",
    "df0 = pd.DataFrame()\n",
    "for i in range(0,len(onlyfiles)):\n",
    "    fname=onlyfiles[i].split(\"A-\")[1] # assign sample name\n",
    "    df0=pd.read_csv(onlyfiles[i], sep=\"\\t\") # read file\n",
    "    df0['sampleID']=fname[0:-4] # assign sample to table\n",
    "    df=df.append(df0) # append table"
   ]
  },
  {
   "cell_type": "code",
   "execution_count": 136,
   "metadata": {},
   "outputs": [],
   "source": [
    "# split base counts\n",
    "dfb=df[\"BaseCount[A,C,G,T]\"].str.split(\",\",expand=True) # expand column\n",
    "dfb.columns=['A',\"C\",\"G\",\"T\"] # rename columns\n",
    "dfb['A']=dfb['A'].str.replace('[',\"\") # replace brackets\n",
    "dfb['T']=dfb['T'].str.replace(']',\"\")"
   ]
  },
  {
   "cell_type": "code",
   "execution_count": 137,
   "metadata": {},
   "outputs": [],
   "source": [
    "df[['A',\"C\",\"G\",\"T\"]]=dfb # merge tables"
   ]
  },
  {
   "cell_type": "code",
   "execution_count": 138,
   "metadata": {},
   "outputs": [],
   "source": [
    "df[['A',\"C\",\"G\",\"T\"]]= df[['A',\"C\",\"G\",\"T\"]].astype(\"int\")"
   ]
  },
  {
   "cell_type": "code",
   "execution_count": 139,
   "metadata": {},
   "outputs": [
    {
     "data": {
      "text/html": [
       "<div>\n",
       "<style scoped>\n",
       "    .dataframe tbody tr th:only-of-type {\n",
       "        vertical-align: middle;\n",
       "    }\n",
       "\n",
       "    .dataframe tbody tr th {\n",
       "        vertical-align: top;\n",
       "    }\n",
       "\n",
       "    .dataframe thead th {\n",
       "        text-align: right;\n",
       "    }\n",
       "</style>\n",
       "<table border=\"1\" class=\"dataframe\">\n",
       "  <thead>\n",
       "    <tr style=\"text-align: right;\">\n",
       "      <th></th>\n",
       "      <th>Region</th>\n",
       "      <th>Position</th>\n",
       "      <th>Reference</th>\n",
       "      <th>Strand</th>\n",
       "      <th>Coverage-q30</th>\n",
       "      <th>MeanQ</th>\n",
       "      <th>BaseCount[A,C,G,T]</th>\n",
       "      <th>AllSubs</th>\n",
       "      <th>Frequency</th>\n",
       "      <th>sampleID</th>\n",
       "      <th>A</th>\n",
       "      <th>C</th>\n",
       "      <th>G</th>\n",
       "      <th>T</th>\n",
       "    </tr>\n",
       "  </thead>\n",
       "  <tbody>\n",
       "    <tr>\n",
       "      <td>38</td>\n",
       "      <td>chr3</td>\n",
       "      <td>80706912</td>\n",
       "      <td>A</td>\n",
       "      <td>0</td>\n",
       "      <td>734</td>\n",
       "      <td>41.89</td>\n",
       "      <td>[0, 0, 730, 4]</td>\n",
       "      <td>AG AT</td>\n",
       "      <td>1.00</td>\n",
       "      <td>PB-15</td>\n",
       "      <td>0</td>\n",
       "      <td>0</td>\n",
       "      <td>730</td>\n",
       "      <td>4</td>\n",
       "    </tr>\n",
       "    <tr>\n",
       "      <td>9</td>\n",
       "      <td>chr11</td>\n",
       "      <td>46272643</td>\n",
       "      <td>A</td>\n",
       "      <td>0</td>\n",
       "      <td>996</td>\n",
       "      <td>40.26</td>\n",
       "      <td>[208, 0, 784, 4]</td>\n",
       "      <td>AG</td>\n",
       "      <td>0.79</td>\n",
       "      <td>PB-43</td>\n",
       "      <td>208</td>\n",
       "      <td>0</td>\n",
       "      <td>784</td>\n",
       "      <td>4</td>\n",
       "    </tr>\n",
       "    <tr>\n",
       "      <td>9</td>\n",
       "      <td>chr11</td>\n",
       "      <td>46272643</td>\n",
       "      <td>A</td>\n",
       "      <td>0</td>\n",
       "      <td>1176</td>\n",
       "      <td>40.08</td>\n",
       "      <td>[241, 0, 931, 4]</td>\n",
       "      <td>AG</td>\n",
       "      <td>0.79</td>\n",
       "      <td>PB-27</td>\n",
       "      <td>241</td>\n",
       "      <td>0</td>\n",
       "      <td>931</td>\n",
       "      <td>4</td>\n",
       "    </tr>\n",
       "  </tbody>\n",
       "</table>\n",
       "</div>"
      ],
      "text/plain": [
       "   Region  Position Reference  Strand  Coverage-q30  MeanQ BaseCount[A,C,G,T]  \\\n",
       "38   chr3  80706912         A       0           734  41.89     [0, 0, 730, 4]   \n",
       "9   chr11  46272643         A       0           996  40.26   [208, 0, 784, 4]   \n",
       "9   chr11  46272643         A       0          1176  40.08   [241, 0, 931, 4]   \n",
       "\n",
       "   AllSubs  Frequency sampleID    A  C    G  T  \n",
       "38   AG AT       1.00    PB-15    0  0  730  4  \n",
       "9       AG       0.79    PB-43  208  0  784  4  \n",
       "9       AG       0.79    PB-27  241  0  931  4  "
      ]
     },
     "execution_count": 139,
     "metadata": {},
     "output_type": "execute_result"
    }
   ],
   "source": [
    "df.loc[df['T']>=3]# 3 sites with 3xT, but A>T, not C>G site due to 172xA->807xG"
   ]
  },
  {
   "cell_type": "code",
   "execution_count": 140,
   "metadata": {},
   "outputs": [],
   "source": [
    "# keep only G>=3\n",
    "df_raw=df\n",
    "df=df.loc[df[\"G\"]>=3]"
   ]
  },
  {
   "cell_type": "code",
   "execution_count": 141,
   "metadata": {},
   "outputs": [],
   "source": [
    "# merge metadata\n",
    "os.chdir(\"/Users/karlfrontzek/Documents/UCL/rna_editing/prionREDI/\")\n",
    "# read meta-data and extract ID\n",
    "peri_meta=pd.read_csv(\"brainMetaMain.csv\",sep=\";\")\n",
    "\n",
    "peri_meta.columns=['TubeID','SampleID','Genotype','Treatment','wpi','Region','Cohort']\n",
    "peri_meta['SampleID']=peri_meta['SampleID'].str.split(\"_\",expand=True)[0]\n"
   ]
  },
  {
   "cell_type": "code",
   "execution_count": 142,
   "metadata": {
    "scrolled": true
   },
   "outputs": [
    {
     "name": "stderr",
     "output_type": "stream",
     "text": [
      "/Users/karlfrontzek/anaconda3/lib/python3.7/site-packages/ipykernel_launcher.py:2: SettingWithCopyWarning: \n",
      "A value is trying to be set on a copy of a slice from a DataFrame.\n",
      "Try using .loc[row_indexer,col_indexer] = value instead\n",
      "\n",
      "See the caveats in the documentation: http://pandas.pydata.org/pandas-docs/stable/user_guide/indexing.html#returning-a-view-versus-a-copy\n",
      "  \n"
     ]
    }
   ],
   "source": [
    "# calculate editing frequency\n",
    "df['editFreq']=df['G']/df['A']\n",
    "# sort by editing frequency >= 1%\n",
    "#len(df['editFreq'])\n",
    "#len(df.loc[df['editFreq']]) # 2 values are below 0.1%\n",
    "df=df.loc[df['editFreq']>= 0.01]"
   ]
  },
  {
   "cell_type": "code",
   "execution_count": 143,
   "metadata": {},
   "outputs": [
    {
     "data": {
      "text/html": [
       "<div>\n",
       "<style scoped>\n",
       "    .dataframe tbody tr th:only-of-type {\n",
       "        vertical-align: middle;\n",
       "    }\n",
       "\n",
       "    .dataframe tbody tr th {\n",
       "        vertical-align: top;\n",
       "    }\n",
       "\n",
       "    .dataframe thead th {\n",
       "        text-align: right;\n",
       "    }\n",
       "</style>\n",
       "<table border=\"1\" class=\"dataframe\">\n",
       "  <thead>\n",
       "    <tr style=\"text-align: right;\">\n",
       "      <th></th>\n",
       "      <th>Region_x</th>\n",
       "      <th>Position</th>\n",
       "      <th>Reference</th>\n",
       "      <th>Strand</th>\n",
       "      <th>Coverage-q30</th>\n",
       "      <th>MeanQ</th>\n",
       "      <th>BaseCount[A,C,G,T]</th>\n",
       "      <th>AllSubs</th>\n",
       "      <th>Frequency</th>\n",
       "      <th>sampleID</th>\n",
       "      <th>...</th>\n",
       "      <th>G</th>\n",
       "      <th>T</th>\n",
       "      <th>editFreq</th>\n",
       "      <th>TubeID</th>\n",
       "      <th>SampleID</th>\n",
       "      <th>Genotype</th>\n",
       "      <th>Treatment</th>\n",
       "      <th>wpi</th>\n",
       "      <th>Region_y</th>\n",
       "      <th>Cohort</th>\n",
       "    </tr>\n",
       "  </thead>\n",
       "  <tbody>\n",
       "    <tr>\n",
       "      <td>0</td>\n",
       "      <td>chrX</td>\n",
       "      <td>41654252</td>\n",
       "      <td>A</td>\n",
       "      <td>1</td>\n",
       "      <td>231</td>\n",
       "      <td>41.18</td>\n",
       "      <td>[37, 0, 194, 0]</td>\n",
       "      <td>AG</td>\n",
       "      <td>0.84</td>\n",
       "      <td>PB-15</td>\n",
       "      <td>...</td>\n",
       "      <td>194</td>\n",
       "      <td>0</td>\n",
       "      <td>5.243243</td>\n",
       "      <td>p1608_2530/5</td>\n",
       "      <td>PB-15</td>\n",
       "      <td>wt</td>\n",
       "      <td>NBH</td>\n",
       "      <td>4</td>\n",
       "      <td>Hippocampus</td>\n",
       "      <td>main</td>\n",
       "    </tr>\n",
       "    <tr>\n",
       "      <td>1</td>\n",
       "      <td>chrX</td>\n",
       "      <td>72445292</td>\n",
       "      <td>A</td>\n",
       "      <td>0</td>\n",
       "      <td>62</td>\n",
       "      <td>47.69</td>\n",
       "      <td>[10, 0, 52, 0]</td>\n",
       "      <td>AG</td>\n",
       "      <td>0.84</td>\n",
       "      <td>PB-15</td>\n",
       "      <td>...</td>\n",
       "      <td>52</td>\n",
       "      <td>0</td>\n",
       "      <td>5.200000</td>\n",
       "      <td>p1608_2530/5</td>\n",
       "      <td>PB-15</td>\n",
       "      <td>wt</td>\n",
       "      <td>NBH</td>\n",
       "      <td>4</td>\n",
       "      <td>Hippocampus</td>\n",
       "      <td>main</td>\n",
       "    </tr>\n",
       "    <tr>\n",
       "      <td>2</td>\n",
       "      <td>chrX</td>\n",
       "      <td>74226862</td>\n",
       "      <td>A</td>\n",
       "      <td>0</td>\n",
       "      <td>58</td>\n",
       "      <td>46.93</td>\n",
       "      <td>[18, 0, 40, 0]</td>\n",
       "      <td>AG</td>\n",
       "      <td>0.69</td>\n",
       "      <td>PB-15</td>\n",
       "      <td>...</td>\n",
       "      <td>40</td>\n",
       "      <td>0</td>\n",
       "      <td>2.222222</td>\n",
       "      <td>p1608_2530/5</td>\n",
       "      <td>PB-15</td>\n",
       "      <td>wt</td>\n",
       "      <td>NBH</td>\n",
       "      <td>4</td>\n",
       "      <td>Hippocampus</td>\n",
       "      <td>main</td>\n",
       "    </tr>\n",
       "    <tr>\n",
       "      <td>3</td>\n",
       "      <td>chrX</td>\n",
       "      <td>147169686</td>\n",
       "      <td>A</td>\n",
       "      <td>1</td>\n",
       "      <td>20</td>\n",
       "      <td>48.55</td>\n",
       "      <td>[1, 0, 19, 0]</td>\n",
       "      <td>AG</td>\n",
       "      <td>0.95</td>\n",
       "      <td>PB-15</td>\n",
       "      <td>...</td>\n",
       "      <td>19</td>\n",
       "      <td>0</td>\n",
       "      <td>19.000000</td>\n",
       "      <td>p1608_2530/5</td>\n",
       "      <td>PB-15</td>\n",
       "      <td>wt</td>\n",
       "      <td>NBH</td>\n",
       "      <td>4</td>\n",
       "      <td>Hippocampus</td>\n",
       "      <td>main</td>\n",
       "    </tr>\n",
       "    <tr>\n",
       "      <td>4</td>\n",
       "      <td>chrX</td>\n",
       "      <td>147169688</td>\n",
       "      <td>A</td>\n",
       "      <td>1</td>\n",
       "      <td>20</td>\n",
       "      <td>48.35</td>\n",
       "      <td>[1, 0, 19, 0]</td>\n",
       "      <td>AG</td>\n",
       "      <td>0.95</td>\n",
       "      <td>PB-15</td>\n",
       "      <td>...</td>\n",
       "      <td>19</td>\n",
       "      <td>0</td>\n",
       "      <td>19.000000</td>\n",
       "      <td>p1608_2530/5</td>\n",
       "      <td>PB-15</td>\n",
       "      <td>wt</td>\n",
       "      <td>NBH</td>\n",
       "      <td>4</td>\n",
       "      <td>Hippocampus</td>\n",
       "      <td>main</td>\n",
       "    </tr>\n",
       "    <tr>\n",
       "      <td>...</td>\n",
       "      <td>...</td>\n",
       "      <td>...</td>\n",
       "      <td>...</td>\n",
       "      <td>...</td>\n",
       "      <td>...</td>\n",
       "      <td>...</td>\n",
       "      <td>...</td>\n",
       "      <td>...</td>\n",
       "      <td>...</td>\n",
       "      <td>...</td>\n",
       "      <td>...</td>\n",
       "      <td>...</td>\n",
       "      <td>...</td>\n",
       "      <td>...</td>\n",
       "      <td>...</td>\n",
       "      <td>...</td>\n",
       "      <td>...</td>\n",
       "      <td>...</td>\n",
       "      <td>...</td>\n",
       "      <td>...</td>\n",
       "      <td>...</td>\n",
       "    </tr>\n",
       "    <tr>\n",
       "      <td>1791</td>\n",
       "      <td>chr2</td>\n",
       "      <td>157558140</td>\n",
       "      <td>A</td>\n",
       "      <td>0</td>\n",
       "      <td>153</td>\n",
       "      <td>57.10</td>\n",
       "      <td>[121, 0, 32, 0]</td>\n",
       "      <td>AG</td>\n",
       "      <td>0.21</td>\n",
       "      <td>PB-30</td>\n",
       "      <td>...</td>\n",
       "      <td>32</td>\n",
       "      <td>0</td>\n",
       "      <td>0.264463</td>\n",
       "      <td>p1608_2530/10</td>\n",
       "      <td>PB-30</td>\n",
       "      <td>wt</td>\n",
       "      <td>NBH</td>\n",
       "      <td>8</td>\n",
       "      <td>Hippocampus</td>\n",
       "      <td>main</td>\n",
       "    </tr>\n",
       "    <tr>\n",
       "      <td>1792</td>\n",
       "      <td>chr2</td>\n",
       "      <td>157558149</td>\n",
       "      <td>A</td>\n",
       "      <td>0</td>\n",
       "      <td>152</td>\n",
       "      <td>56.24</td>\n",
       "      <td>[107, 0, 45, 0]</td>\n",
       "      <td>AG</td>\n",
       "      <td>0.30</td>\n",
       "      <td>PB-30</td>\n",
       "      <td>...</td>\n",
       "      <td>45</td>\n",
       "      <td>0</td>\n",
       "      <td>0.420561</td>\n",
       "      <td>p1608_2530/10</td>\n",
       "      <td>PB-30</td>\n",
       "      <td>wt</td>\n",
       "      <td>NBH</td>\n",
       "      <td>8</td>\n",
       "      <td>Hippocampus</td>\n",
       "      <td>main</td>\n",
       "    </tr>\n",
       "    <tr>\n",
       "      <td>1793</td>\n",
       "      <td>chr1</td>\n",
       "      <td>66672714</td>\n",
       "      <td>A</td>\n",
       "      <td>1</td>\n",
       "      <td>146</td>\n",
       "      <td>40.41</td>\n",
       "      <td>[113, 0, 33, 0]</td>\n",
       "      <td>AG</td>\n",
       "      <td>0.23</td>\n",
       "      <td>PB-30</td>\n",
       "      <td>...</td>\n",
       "      <td>33</td>\n",
       "      <td>0</td>\n",
       "      <td>0.292035</td>\n",
       "      <td>p1608_2530/10</td>\n",
       "      <td>PB-30</td>\n",
       "      <td>wt</td>\n",
       "      <td>NBH</td>\n",
       "      <td>8</td>\n",
       "      <td>Hippocampus</td>\n",
       "      <td>main</td>\n",
       "    </tr>\n",
       "    <tr>\n",
       "      <td>1794</td>\n",
       "      <td>chr1</td>\n",
       "      <td>172092348</td>\n",
       "      <td>A</td>\n",
       "      <td>1</td>\n",
       "      <td>411</td>\n",
       "      <td>40.27</td>\n",
       "      <td>[390, 0, 21, 0]</td>\n",
       "      <td>-</td>\n",
       "      <td>0.00</td>\n",
       "      <td>PB-30</td>\n",
       "      <td>...</td>\n",
       "      <td>21</td>\n",
       "      <td>0</td>\n",
       "      <td>0.053846</td>\n",
       "      <td>p1608_2530/10</td>\n",
       "      <td>PB-30</td>\n",
       "      <td>wt</td>\n",
       "      <td>NBH</td>\n",
       "      <td>8</td>\n",
       "      <td>Hippocampus</td>\n",
       "      <td>main</td>\n",
       "    </tr>\n",
       "    <tr>\n",
       "      <td>1795</td>\n",
       "      <td>chr9</td>\n",
       "      <td>4456006</td>\n",
       "      <td>A</td>\n",
       "      <td>0</td>\n",
       "      <td>38</td>\n",
       "      <td>40.32</td>\n",
       "      <td>[3, 0, 35, 0]</td>\n",
       "      <td>AG</td>\n",
       "      <td>0.92</td>\n",
       "      <td>PB-30</td>\n",
       "      <td>...</td>\n",
       "      <td>35</td>\n",
       "      <td>0</td>\n",
       "      <td>11.666667</td>\n",
       "      <td>p1608_2530/10</td>\n",
       "      <td>PB-30</td>\n",
       "      <td>wt</td>\n",
       "      <td>NBH</td>\n",
       "      <td>8</td>\n",
       "      <td>Hippocampus</td>\n",
       "      <td>main</td>\n",
       "    </tr>\n",
       "  </tbody>\n",
       "</table>\n",
       "<p>1796 rows × 22 columns</p>\n",
       "</div>"
      ],
      "text/plain": [
       "     Region_x   Position Reference  Strand  Coverage-q30  MeanQ  \\\n",
       "0        chrX   41654252         A       1           231  41.18   \n",
       "1        chrX   72445292         A       0            62  47.69   \n",
       "2        chrX   74226862         A       0            58  46.93   \n",
       "3        chrX  147169686         A       1            20  48.55   \n",
       "4        chrX  147169688         A       1            20  48.35   \n",
       "...       ...        ...       ...     ...           ...    ...   \n",
       "1791     chr2  157558140         A       0           153  57.10   \n",
       "1792     chr2  157558149         A       0           152  56.24   \n",
       "1793     chr1   66672714         A       1           146  40.41   \n",
       "1794     chr1  172092348         A       1           411  40.27   \n",
       "1795     chr9    4456006         A       0            38  40.32   \n",
       "\n",
       "     BaseCount[A,C,G,T] AllSubs  Frequency sampleID  ...    G  T   editFreq  \\\n",
       "0       [37, 0, 194, 0]      AG       0.84    PB-15  ...  194  0   5.243243   \n",
       "1        [10, 0, 52, 0]      AG       0.84    PB-15  ...   52  0   5.200000   \n",
       "2        [18, 0, 40, 0]      AG       0.69    PB-15  ...   40  0   2.222222   \n",
       "3         [1, 0, 19, 0]      AG       0.95    PB-15  ...   19  0  19.000000   \n",
       "4         [1, 0, 19, 0]      AG       0.95    PB-15  ...   19  0  19.000000   \n",
       "...                 ...     ...        ...      ...  ...  ... ..        ...   \n",
       "1791    [121, 0, 32, 0]      AG       0.21    PB-30  ...   32  0   0.264463   \n",
       "1792    [107, 0, 45, 0]      AG       0.30    PB-30  ...   45  0   0.420561   \n",
       "1793    [113, 0, 33, 0]      AG       0.23    PB-30  ...   33  0   0.292035   \n",
       "1794    [390, 0, 21, 0]       -       0.00    PB-30  ...   21  0   0.053846   \n",
       "1795      [3, 0, 35, 0]      AG       0.92    PB-30  ...   35  0  11.666667   \n",
       "\n",
       "             TubeID  SampleID Genotype Treatment wpi     Region_y Cohort  \n",
       "0      p1608_2530/5     PB-15       wt       NBH   4  Hippocampus   main  \n",
       "1      p1608_2530/5     PB-15       wt       NBH   4  Hippocampus   main  \n",
       "2      p1608_2530/5     PB-15       wt       NBH   4  Hippocampus   main  \n",
       "3      p1608_2530/5     PB-15       wt       NBH   4  Hippocampus   main  \n",
       "4      p1608_2530/5     PB-15       wt       NBH   4  Hippocampus   main  \n",
       "...             ...       ...      ...       ...  ..          ...    ...  \n",
       "1791  p1608_2530/10     PB-30       wt       NBH   8  Hippocampus   main  \n",
       "1792  p1608_2530/10     PB-30       wt       NBH   8  Hippocampus   main  \n",
       "1793  p1608_2530/10     PB-30       wt       NBH   8  Hippocampus   main  \n",
       "1794  p1608_2530/10     PB-30       wt       NBH   8  Hippocampus   main  \n",
       "1795  p1608_2530/10     PB-30       wt       NBH   8  Hippocampus   main  \n",
       "\n",
       "[1796 rows x 22 columns]"
      ]
     },
     "execution_count": 143,
     "metadata": {},
     "output_type": "execute_result"
    }
   ],
   "source": [
    "df.merge(peri_meta,left_on=\"sampleID\",right_on=\"SampleID\")"
   ]
  },
  {
   "cell_type": "code",
   "execution_count": 144,
   "metadata": {},
   "outputs": [],
   "source": [
    "df=df.merge(peri_meta,left_on=\"sampleID\",right_on=\"SampleID\") # merge tables"
   ]
  },
  {
   "cell_type": "code",
   "execution_count": 145,
   "metadata": {},
   "outputs": [],
   "source": [
    "# keep df_raw for statistical comparisons\n",
    "df_raw=df_raw.merge(peri_meta,left_on=\"sampleID\",right_on=\"SampleID\") # merge tables"
   ]
  },
  {
   "cell_type": "code",
   "execution_count": 146,
   "metadata": {},
   "outputs": [],
   "source": [
    "# test if edited site occurs at least in 2/3 of replicates, easy: positions are all unique\n",
    "occurence = []\n",
    "wpii=[4,4,8,8,12,12,14,14,16,16,18,18,20,20,'term','term']\n",
    "treat=['RML6','NBH']*8\n",
    "loopi=pd.DataFrame({\"treat\":treat,\"wpi\":wpii})"
   ]
  },
  {
   "cell_type": "code",
   "execution_count": 147,
   "metadata": {},
   "outputs": [],
   "source": [
    "# extract sites that are edited at least in 2/3 replicates\n",
    "\n",
    "testSites=pd.DataFrame([])\n",
    "for i in range(0,len(loopi)):\n",
    "    tS=pd.DataFrame([])\n",
    "    tS[['Position','Counts']]=pd.DataFrame(df['Position'].loc[(df['wpi']==str(loopi['wpi'].iloc[i])) & (df['Treatment']==loopi['treat'].iloc[i])].value_counts()).reset_index()\n",
    "    tS['wpi']=loopi['wpi'].iloc[i]\n",
    "    tS['Treatment']=loopi['treat'].iloc[i]\n",
    "    testSites=testSites.append(tS)"
   ]
  },
  {
   "cell_type": "code",
   "execution_count": 148,
   "metadata": {},
   "outputs": [
    {
     "data": {
      "text/html": [
       "<div>\n",
       "<style scoped>\n",
       "    .dataframe tbody tr th:only-of-type {\n",
       "        vertical-align: middle;\n",
       "    }\n",
       "\n",
       "    .dataframe tbody tr th {\n",
       "        vertical-align: top;\n",
       "    }\n",
       "\n",
       "    .dataframe thead th {\n",
       "        text-align: right;\n",
       "    }\n",
       "</style>\n",
       "<table border=\"1\" class=\"dataframe\">\n",
       "  <thead>\n",
       "    <tr style=\"text-align: right;\">\n",
       "      <th></th>\n",
       "      <th>Position</th>\n",
       "      <th>Counts</th>\n",
       "      <th>wpi</th>\n",
       "      <th>Treatment</th>\n",
       "    </tr>\n",
       "  </thead>\n",
       "  <tbody>\n",
       "    <tr>\n",
       "      <td>0</td>\n",
       "      <td>12411582</td>\n",
       "      <td>3</td>\n",
       "      <td>4</td>\n",
       "      <td>RML6</td>\n",
       "    </tr>\n",
       "    <tr>\n",
       "      <td>1</td>\n",
       "      <td>75719719</td>\n",
       "      <td>3</td>\n",
       "      <td>4</td>\n",
       "      <td>RML6</td>\n",
       "    </tr>\n",
       "    <tr>\n",
       "      <td>2</td>\n",
       "      <td>74226862</td>\n",
       "      <td>3</td>\n",
       "      <td>4</td>\n",
       "      <td>RML6</td>\n",
       "    </tr>\n",
       "    <tr>\n",
       "      <td>3</td>\n",
       "      <td>7936048</td>\n",
       "      <td>3</td>\n",
       "      <td>4</td>\n",
       "      <td>RML6</td>\n",
       "    </tr>\n",
       "    <tr>\n",
       "      <td>4</td>\n",
       "      <td>32047432</td>\n",
       "      <td>3</td>\n",
       "      <td>4</td>\n",
       "      <td>RML6</td>\n",
       "    </tr>\n",
       "    <tr>\n",
       "      <td>...</td>\n",
       "      <td>...</td>\n",
       "      <td>...</td>\n",
       "      <td>...</td>\n",
       "      <td>...</td>\n",
       "    </tr>\n",
       "    <tr>\n",
       "      <td>44</td>\n",
       "      <td>23960539</td>\n",
       "      <td>1</td>\n",
       "      <td>term</td>\n",
       "      <td>NBH</td>\n",
       "    </tr>\n",
       "    <tr>\n",
       "      <td>45</td>\n",
       "      <td>3415084</td>\n",
       "      <td>1</td>\n",
       "      <td>term</td>\n",
       "      <td>NBH</td>\n",
       "    </tr>\n",
       "    <tr>\n",
       "      <td>46</td>\n",
       "      <td>23960622</td>\n",
       "      <td>1</td>\n",
       "      <td>term</td>\n",
       "      <td>NBH</td>\n",
       "    </tr>\n",
       "    <tr>\n",
       "      <td>47</td>\n",
       "      <td>49244334</td>\n",
       "      <td>1</td>\n",
       "      <td>term</td>\n",
       "      <td>NBH</td>\n",
       "    </tr>\n",
       "    <tr>\n",
       "      <td>48</td>\n",
       "      <td>23960405</td>\n",
       "      <td>1</td>\n",
       "      <td>term</td>\n",
       "      <td>NBH</td>\n",
       "    </tr>\n",
       "  </tbody>\n",
       "</table>\n",
       "<p>705 rows × 4 columns</p>\n",
       "</div>"
      ],
      "text/plain": [
       "    Position  Counts   wpi Treatment\n",
       "0   12411582       3     4      RML6\n",
       "1   75719719       3     4      RML6\n",
       "2   74226862       3     4      RML6\n",
       "3    7936048       3     4      RML6\n",
       "4   32047432       3     4      RML6\n",
       "..       ...     ...   ...       ...\n",
       "44  23960539       1  term       NBH\n",
       "45   3415084       1  term       NBH\n",
       "46  23960622       1  term       NBH\n",
       "47  49244334       1  term       NBH\n",
       "48  23960405       1  term       NBH\n",
       "\n",
       "[705 rows x 4 columns]"
      ]
     },
     "execution_count": 148,
     "metadata": {},
     "output_type": "execute_result"
    }
   ],
   "source": [
    "testSites"
   ]
  },
  {
   "cell_type": "code",
   "execution_count": 149,
   "metadata": {},
   "outputs": [],
   "source": [
    "dfReplicates=df[['wpi','Treatment','SampleID']].drop_duplicates()\n",
    "totalRep=pd.Series(list(zip(dfReplicates.wpi, dfReplicates.Treatment))).value_counts()\n",
    "totalRep=totalRep.reset_index()\n",
    "totalRep.columns=['Index','Rep']"
   ]
  },
  {
   "cell_type": "code",
   "execution_count": 150,
   "metadata": {},
   "outputs": [],
   "source": [
    "testSites['wpi']=testSites['wpi'].astype('str')"
   ]
  },
  {
   "cell_type": "code",
   "execution_count": 151,
   "metadata": {},
   "outputs": [],
   "source": [
    "testSites['wpiTreatment']=list(zip(testSites.wpi, testSites.Treatment)) # merge wpi+Treatment for threshold \n",
    "Thr=pd.DataFrame({'Index':[],'Thr':[]})                                                       # calculation of edited sites\n",
    "for i in range(0,len(testSites)): # iterate over testsite counts, keep those occuring in floor(2/3 of samples)\n",
    "    wpiTreat=testSites['wpiTreatment'].iloc[i]  # read current treatment+wpi combi\n",
    "    Tr=math.floor(totalRep['Rep'].loc[totalRep['Index']==wpiTreat]*2/3) # calculate current threshold\n",
    "    Tp=pd.DataFrame({'Index':str(i),'Thr':str(Tr)},index=[i]) # make list of thresholds per edited site\n",
    "    Thr=Thr.append(Tp)\n",
    "#testSitesThr=testSites['Position'].loc[testSites['Counts']!=1] # extract test sites \n",
    "#testSites['Counts'].loc[testSites['Position'].isin(testSites1)].head(50)"
   ]
  },
  {
   "cell_type": "code",
   "execution_count": 152,
   "metadata": {},
   "outputs": [],
   "source": [
    "testSitesThr=testSites.reset_index().join(Thr)# join TestSites and Threshold"
   ]
  },
  {
   "cell_type": "code",
   "execution_count": 153,
   "metadata": {},
   "outputs": [],
   "source": [
    "testSitesThr['Counts']=testSitesThr['Counts'].astype('int')\n",
    "testSitesThr['Thr']=testSitesThr['Thr'].astype('int') # convert counts to int"
   ]
  },
  {
   "cell_type": "code",
   "execution_count": 154,
   "metadata": {},
   "outputs": [
    {
     "data": {
      "text/html": [
       "<div>\n",
       "<style scoped>\n",
       "    .dataframe tbody tr th:only-of-type {\n",
       "        vertical-align: middle;\n",
       "    }\n",
       "\n",
       "    .dataframe tbody tr th {\n",
       "        vertical-align: top;\n",
       "    }\n",
       "\n",
       "    .dataframe thead th {\n",
       "        text-align: right;\n",
       "    }\n",
       "</style>\n",
       "<table border=\"1\" class=\"dataframe\">\n",
       "  <thead>\n",
       "    <tr style=\"text-align: right;\">\n",
       "      <th></th>\n",
       "      <th>index</th>\n",
       "      <th>Position</th>\n",
       "      <th>Counts</th>\n",
       "      <th>wpi</th>\n",
       "      <th>Treatment</th>\n",
       "      <th>wpiTreatment</th>\n",
       "      <th>Index</th>\n",
       "      <th>Thr</th>\n",
       "    </tr>\n",
       "  </thead>\n",
       "  <tbody>\n",
       "    <tr>\n",
       "      <td>0</td>\n",
       "      <td>0</td>\n",
       "      <td>12411582</td>\n",
       "      <td>3</td>\n",
       "      <td>4</td>\n",
       "      <td>RML6</td>\n",
       "      <td>(4, RML6)</td>\n",
       "      <td>0</td>\n",
       "      <td>2</td>\n",
       "    </tr>\n",
       "    <tr>\n",
       "      <td>1</td>\n",
       "      <td>1</td>\n",
       "      <td>75719719</td>\n",
       "      <td>3</td>\n",
       "      <td>4</td>\n",
       "      <td>RML6</td>\n",
       "      <td>(4, RML6)</td>\n",
       "      <td>1</td>\n",
       "      <td>2</td>\n",
       "    </tr>\n",
       "    <tr>\n",
       "      <td>2</td>\n",
       "      <td>2</td>\n",
       "      <td>74226862</td>\n",
       "      <td>3</td>\n",
       "      <td>4</td>\n",
       "      <td>RML6</td>\n",
       "      <td>(4, RML6)</td>\n",
       "      <td>2</td>\n",
       "      <td>2</td>\n",
       "    </tr>\n",
       "    <tr>\n",
       "      <td>3</td>\n",
       "      <td>3</td>\n",
       "      <td>7936048</td>\n",
       "      <td>3</td>\n",
       "      <td>4</td>\n",
       "      <td>RML6</td>\n",
       "      <td>(4, RML6)</td>\n",
       "      <td>3</td>\n",
       "      <td>2</td>\n",
       "    </tr>\n",
       "    <tr>\n",
       "      <td>4</td>\n",
       "      <td>4</td>\n",
       "      <td>32047432</td>\n",
       "      <td>3</td>\n",
       "      <td>4</td>\n",
       "      <td>RML6</td>\n",
       "      <td>(4, RML6)</td>\n",
       "      <td>4</td>\n",
       "      <td>2</td>\n",
       "    </tr>\n",
       "    <tr>\n",
       "      <td>...</td>\n",
       "      <td>...</td>\n",
       "      <td>...</td>\n",
       "      <td>...</td>\n",
       "      <td>...</td>\n",
       "      <td>...</td>\n",
       "      <td>...</td>\n",
       "      <td>...</td>\n",
       "      <td>...</td>\n",
       "    </tr>\n",
       "    <tr>\n",
       "      <td>700</td>\n",
       "      <td>44</td>\n",
       "      <td>23960539</td>\n",
       "      <td>1</td>\n",
       "      <td>term</td>\n",
       "      <td>NBH</td>\n",
       "      <td>(term, NBH)</td>\n",
       "      <td>700</td>\n",
       "      <td>2</td>\n",
       "    </tr>\n",
       "    <tr>\n",
       "      <td>701</td>\n",
       "      <td>45</td>\n",
       "      <td>3415084</td>\n",
       "      <td>1</td>\n",
       "      <td>term</td>\n",
       "      <td>NBH</td>\n",
       "      <td>(term, NBH)</td>\n",
       "      <td>701</td>\n",
       "      <td>2</td>\n",
       "    </tr>\n",
       "    <tr>\n",
       "      <td>702</td>\n",
       "      <td>46</td>\n",
       "      <td>23960622</td>\n",
       "      <td>1</td>\n",
       "      <td>term</td>\n",
       "      <td>NBH</td>\n",
       "      <td>(term, NBH)</td>\n",
       "      <td>702</td>\n",
       "      <td>2</td>\n",
       "    </tr>\n",
       "    <tr>\n",
       "      <td>703</td>\n",
       "      <td>47</td>\n",
       "      <td>49244334</td>\n",
       "      <td>1</td>\n",
       "      <td>term</td>\n",
       "      <td>NBH</td>\n",
       "      <td>(term, NBH)</td>\n",
       "      <td>703</td>\n",
       "      <td>2</td>\n",
       "    </tr>\n",
       "    <tr>\n",
       "      <td>704</td>\n",
       "      <td>48</td>\n",
       "      <td>23960405</td>\n",
       "      <td>1</td>\n",
       "      <td>term</td>\n",
       "      <td>NBH</td>\n",
       "      <td>(term, NBH)</td>\n",
       "      <td>704</td>\n",
       "      <td>2</td>\n",
       "    </tr>\n",
       "  </tbody>\n",
       "</table>\n",
       "<p>705 rows × 8 columns</p>\n",
       "</div>"
      ],
      "text/plain": [
       "     index  Position  Counts   wpi Treatment wpiTreatment Index  Thr\n",
       "0        0  12411582       3     4      RML6    (4, RML6)     0    2\n",
       "1        1  75719719       3     4      RML6    (4, RML6)     1    2\n",
       "2        2  74226862       3     4      RML6    (4, RML6)     2    2\n",
       "3        3   7936048       3     4      RML6    (4, RML6)     3    2\n",
       "4        4  32047432       3     4      RML6    (4, RML6)     4    2\n",
       "..     ...       ...     ...   ...       ...          ...   ...  ...\n",
       "700     44  23960539       1  term       NBH  (term, NBH)   700    2\n",
       "701     45   3415084       1  term       NBH  (term, NBH)   701    2\n",
       "702     46  23960622       1  term       NBH  (term, NBH)   702    2\n",
       "703     47  49244334       1  term       NBH  (term, NBH)   703    2\n",
       "704     48  23960405       1  term       NBH  (term, NBH)   704    2\n",
       "\n",
       "[705 rows x 8 columns]"
      ]
     },
     "execution_count": 154,
     "metadata": {},
     "output_type": "execute_result"
    }
   ],
   "source": [
    "testSitesThr"
   ]
  },
  {
   "cell_type": "code",
   "execution_count": 155,
   "metadata": {},
   "outputs": [],
   "source": [
    "testSitesThr=testSitesThr.loc[testSitesThr['Counts']>=testSitesThr['Thr']] # select for editing events which pass threshold"
   ]
  },
  {
   "cell_type": "code",
   "execution_count": 156,
   "metadata": {},
   "outputs": [],
   "source": [
    "# make combination of position+wpi\n",
    "uniqueEdSitesThr=pd.Series(list(zip(testSitesThr.wpi, testSitesThr.Position)))\n",
    "uniqueEdSitesThr=uniqueEdSitesThr.astype('str') # convert tuple to str"
   ]
  },
  {
   "cell_type": "code",
   "execution_count": 157,
   "metadata": {},
   "outputs": [
    {
     "ename": "AttributeError",
     "evalue": "'DataFrame' object has no attribute 'wpi_y'",
     "output_type": "error",
     "traceback": [
      "\u001b[0;31m---------------------------------------------------------------------------\u001b[0m",
      "\u001b[0;31mAttributeError\u001b[0m                            Traceback (most recent call last)",
      "\u001b[0;32m<ipython-input-157-f454f500b1a7>\u001b[0m in \u001b[0;36m<module>\u001b[0;34m\u001b[0m\n\u001b[0;32m----> 1\u001b[0;31m \u001b[0mdf_raw\u001b[0m\u001b[0;34m[\u001b[0m\u001b[0;34m'wpiPosition'\u001b[0m\u001b[0;34m]\u001b[0m\u001b[0;34m=\u001b[0m\u001b[0mlist\u001b[0m\u001b[0;34m(\u001b[0m\u001b[0mzip\u001b[0m\u001b[0;34m(\u001b[0m\u001b[0mdf_raw\u001b[0m\u001b[0;34m.\u001b[0m\u001b[0mwpi_y\u001b[0m\u001b[0;34m,\u001b[0m \u001b[0mdf_raw\u001b[0m\u001b[0;34m.\u001b[0m\u001b[0mPosition\u001b[0m\u001b[0;34m)\u001b[0m\u001b[0;34m)\u001b[0m \u001b[0;31m# combine wpi+Position in df_raw\u001b[0m\u001b[0;34m\u001b[0m\u001b[0;34m\u001b[0m\u001b[0m\n\u001b[0m\u001b[1;32m      2\u001b[0m \u001b[0mdf_raw\u001b[0m\u001b[0;34m[\u001b[0m\u001b[0;34m'wpiPosition'\u001b[0m\u001b[0;34m]\u001b[0m\u001b[0;34m=\u001b[0m\u001b[0mdf_raw\u001b[0m\u001b[0;34m[\u001b[0m\u001b[0;34m'wpiPosition'\u001b[0m\u001b[0;34m]\u001b[0m\u001b[0;34m.\u001b[0m\u001b[0mastype\u001b[0m\u001b[0;34m(\u001b[0m\u001b[0;34m'str'\u001b[0m\u001b[0;34m)\u001b[0m \u001b[0;31m# convert tuple to str\u001b[0m\u001b[0;34m\u001b[0m\u001b[0;34m\u001b[0m\u001b[0m\n",
      "\u001b[0;32m~/anaconda3/lib/python3.7/site-packages/pandas/core/generic.py\u001b[0m in \u001b[0;36m__getattr__\u001b[0;34m(self, name)\u001b[0m\n\u001b[1;32m   5177\u001b[0m             \u001b[0;32mif\u001b[0m \u001b[0mself\u001b[0m\u001b[0;34m.\u001b[0m\u001b[0m_info_axis\u001b[0m\u001b[0;34m.\u001b[0m\u001b[0m_can_hold_identifiers_and_holds_name\u001b[0m\u001b[0;34m(\u001b[0m\u001b[0mname\u001b[0m\u001b[0;34m)\u001b[0m\u001b[0;34m:\u001b[0m\u001b[0;34m\u001b[0m\u001b[0;34m\u001b[0m\u001b[0m\n\u001b[1;32m   5178\u001b[0m                 \u001b[0;32mreturn\u001b[0m \u001b[0mself\u001b[0m\u001b[0;34m[\u001b[0m\u001b[0mname\u001b[0m\u001b[0;34m]\u001b[0m\u001b[0;34m\u001b[0m\u001b[0;34m\u001b[0m\u001b[0m\n\u001b[0;32m-> 5179\u001b[0;31m             \u001b[0;32mreturn\u001b[0m \u001b[0mobject\u001b[0m\u001b[0;34m.\u001b[0m\u001b[0m__getattribute__\u001b[0m\u001b[0;34m(\u001b[0m\u001b[0mself\u001b[0m\u001b[0;34m,\u001b[0m \u001b[0mname\u001b[0m\u001b[0;34m)\u001b[0m\u001b[0;34m\u001b[0m\u001b[0;34m\u001b[0m\u001b[0m\n\u001b[0m\u001b[1;32m   5180\u001b[0m \u001b[0;34m\u001b[0m\u001b[0m\n\u001b[1;32m   5181\u001b[0m     \u001b[0;32mdef\u001b[0m \u001b[0m__setattr__\u001b[0m\u001b[0;34m(\u001b[0m\u001b[0mself\u001b[0m\u001b[0;34m,\u001b[0m \u001b[0mname\u001b[0m\u001b[0;34m,\u001b[0m \u001b[0mvalue\u001b[0m\u001b[0;34m)\u001b[0m\u001b[0;34m:\u001b[0m\u001b[0;34m\u001b[0m\u001b[0;34m\u001b[0m\u001b[0m\n",
      "\u001b[0;31mAttributeError\u001b[0m: 'DataFrame' object has no attribute 'wpi_y'"
     ]
    }
   ],
   "source": [
    "df_raw['wpiPosition']=list(zip(df_raw.wpi_y, df_raw.Position)) # combine wpi+Position in df_raw\n",
    "df_raw['wpiPosition']=df_raw['wpiPosition'].astype('str') # convert tuple to str"
   ]
  },
  {
   "cell_type": "code",
   "execution_count": null,
   "metadata": {},
   "outputs": [],
   "source": [
    "testSitesThr['wpiPosition']=testSitesThr['wpi']+'+'+testSitesThr['Position'].astype('str')\n",
    "df_raw['wpiPosition']=df_raw['wpi_y']+'+'+df_raw['Position'].astype('str')"
   ]
  },
  {
   "cell_type": "code",
   "execution_count": null,
   "metadata": {},
   "outputs": [],
   "source": [
    "uniqueTestSitesThr=testSitesThr['wpiPosition'].unique() # retrieve unique editing sites"
   ]
  },
  {
   "cell_type": "code",
   "execution_count": null,
   "metadata": {},
   "outputs": [],
   "source": [
    "uniqueTestSitesThr=list(uniqueTestSitesThr) # convert unique editing sites to list"
   ]
  },
  {
   "cell_type": "code",
   "execution_count": null,
   "metadata": {},
   "outputs": [],
   "source": [
    "dfThr=df_raw.loc[df_raw['wpiPosition'].isin(uniqueTestSitesThr)] # keep editing sites that pass threshold"
   ]
  },
  {
   "cell_type": "code",
   "execution_count": null,
   "metadata": {},
   "outputs": [],
   "source": [
    "# clean up dfThr for export\n",
    "dfThrClean=dfThr[['A','G','Treatment_y','wpi_y','wpiPosition']]\n"
   ]
  },
  {
   "cell_type": "code",
   "execution_count": null,
   "metadata": {},
   "outputs": [],
   "source": [
    "# test whether at least 2 replicates of non-edited site exist\n",
    "uniqueSites=dfThrClean['wpiPosition'].unique()\n",
    "excludeSites=[]\n",
    "for i in range(0,len(uniqueSites)):\n",
    "    uS=dfThrClean.loc[dfThrClean['wpiPosition']==uniqueSites[i]]\n",
    "    if len(uS['Treatment_y'].loc[uS['Treatment_y']==\"NBH\"]) < 2:\n",
    "        #print(\"In wpiPosition {} treated with NBH less than 2 replicates\".format(uniqueSites[i]))\n",
    "        excludeSites.append(uniqueSites[i])\n",
    "    if len(uS['Treatment_y'].loc[uS['Treatment_y']==\"RML6\"]) < 2:\n",
    "        #print(\"In wpiPosition {} treated with RML6 less than 2 replicates\".format(uniqueSites[i]))\n",
    "         excludeSites.append(uniqueSites[i])"
   ]
  },
  {
   "cell_type": "code",
   "execution_count": null,
   "metadata": {},
   "outputs": [],
   "source": [
    "dfThrClean=dfThrClean.loc[~dfThrClean['wpiPosition'].isin(excludeSites)]\n",
    "dfThrClean.to_csv('brainRediEli.csv') # export dfThrClean"
   ]
  },
  {
   "cell_type": "code",
   "execution_count": null,
   "metadata": {},
   "outputs": [],
   "source": [
    "# load p-Value adjusted results from Redit"
   ]
  },
  {
   "cell_type": "code",
   "execution_count": null,
   "metadata": {},
   "outputs": [],
   "source": [
    "# analyse statistical testing with Redit, see R\n",
    "dfP=pd.read_csv('/Users/karlfrontzek/Documents/UCL/rna_editing/prionREDI/brainEditingSitesRedit.csv')"
   ]
  },
  {
   "cell_type": "code",
   "execution_count": null,
   "metadata": {},
   "outputs": [],
   "source": [
    "dfP[['wpi','site1']]=dfP['site'].str.split(\"+\",expand=True)"
   ]
  },
  {
   "cell_type": "code",
   "execution_count": null,
   "metadata": {},
   "outputs": [],
   "source": [
    "from statsmodels.stats.multitest import multipletests # for fdr"
   ]
  },
  {
   "cell_type": "code",
   "execution_count": null,
   "metadata": {},
   "outputs": [],
   "source": [
    "wpiUnique=dfP['wpi'].unique()"
   ]
  },
  {
   "cell_type": "code",
   "execution_count": null,
   "metadata": {},
   "outputs": [],
   "source": [
    "# adjust for fdr < 0.05 \n",
    "# preassign dataframe\n",
    "tT=pd.DataFrame({'wpi':[],'sig':[],'fdr':[],'pValue':[],'index':[]})\n",
    "for i in range(0,len(wpiUnique)): # loop through all wpi\n",
    "    tTtemp=pd.DataFrame({'wpi':[],'sig':[],'fdr':[],'pValue':[],'index':[]}) # preassign temp datafram\n",
    "    # add sig and pVal to dataframe\n",
    "    tTtemp['sig']=multipletests(dfP['pValue'].loc[dfP['wpi']==wpiUnique[i]],alpha=0.05,method=\"fdr_bh\")[0]\n",
    "    tTtemp['fdr']=multipletests(dfP['pValue'].loc[dfP['wpi']==wpiUnique[i]],alpha=0.05,method=\"fdr_bh\")[1]\n",
    "    tTtemp[['index','pValue']]=dfP['pValue'].loc[dfP['wpi']==wpiUnique[i]].reset_index()\n",
    "    tTtemp['wpi']=wpiUnique[i]\n",
    "    tT=tT.append(tTtemp)"
   ]
  },
  {
   "cell_type": "code",
   "execution_count": null,
   "metadata": {},
   "outputs": [],
   "source": [
    "bloodRediAllEvents=tT.merge(dfP,left_on=\"pValue\",right_on=\"pValue\") # merge sites and fdr on \"pValue\""
   ]
  },
  {
   "cell_type": "code",
   "execution_count": null,
   "metadata": {},
   "outputs": [],
   "source": [
    "bloodRediAllEvents.loc[bloodRediAllEvents['sig']==1] # show significant editing events"
   ]
  },
  {
   "cell_type": "code",
   "execution_count": null,
   "metadata": {},
   "outputs": [],
   "source": [
    "#df_raw\n",
    "df_raw.loc[(df_raw['Position']==7936048) & (df_raw['wpi']==\"16\")]"
   ]
  },
  {
   "cell_type": "code",
   "execution_count": null,
   "metadata": {
    "scrolled": true
   },
   "outputs": [],
   "source": [
    "df_raw.loc[(df_raw['Position']==172092348) & (df_raw['wpi']==\"16\")]"
   ]
  }
 ],
 "metadata": {
  "kernelspec": {
   "display_name": "Python 3",
   "language": "python",
   "name": "python3"
  },
  "language_info": {
   "codemirror_mode": {
    "name": "ipython",
    "version": 3
   },
   "file_extension": ".py",
   "mimetype": "text/x-python",
   "name": "python",
   "nbconvert_exporter": "python",
   "pygments_lexer": "ipython3",
   "version": "3.7.4"
  }
 },
 "nbformat": 4,
 "nbformat_minor": 2
}
