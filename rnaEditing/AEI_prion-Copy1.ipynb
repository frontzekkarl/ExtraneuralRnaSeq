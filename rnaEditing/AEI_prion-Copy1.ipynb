{
 "cells": [
  {
   "cell_type": "markdown",
   "metadata": {},
   "source": [
    "# analysis of RNA editing levels as determined by Rna Editing Indexer\n",
    "## Rna seq data muscle, spleen, blood: \"PB\" (main cohort)"
   ]
  },
  {
   "cell_type": "code",
   "execution_count": 22,
   "metadata": {},
   "outputs": [],
   "source": [
    "import pandas as pd\n",
    "import numpy as np\n",
    "from matplotlib import pyplot as plt\n",
    "%matplotlib inline\n",
    "from scipy import stats\n",
    "import os\n",
    "import seaborn as sns\n",
    "import math\n",
    "\n"
   ]
  },
  {
   "cell_type": "markdown",
   "metadata": {},
   "source": [
    "### 4 wpi - all organs"
   ]
  },
  {
   "cell_type": "code",
   "execution_count": 23,
   "metadata": {},
   "outputs": [],
   "source": [
    "# read AEI and extract sample ID\n",
    "os.chdir(\"/Users/karlfrontzek/Documents/UCL/rna_editing/prion/\")\n",
    "wpi4=pd.read_csv(\"AEI_peripheralOrgans_4wpi.csv\")\n",
    "#brain_aei['Sample']=brain_aei['Sample']+\"_Hp\" # add _Hp in sample ID"
   ]
  },
  {
   "cell_type": "code",
   "execution_count": 24,
   "metadata": {},
   "outputs": [
    {
     "data": {
      "text/html": [
       "<div>\n",
       "<style scoped>\n",
       "    .dataframe tbody tr th:only-of-type {\n",
       "        vertical-align: middle;\n",
       "    }\n",
       "\n",
       "    .dataframe tbody tr th {\n",
       "        vertical-align: top;\n",
       "    }\n",
       "\n",
       "    .dataframe thead th {\n",
       "        text-align: right;\n",
       "    }\n",
       "</style>\n",
       "<table border=\"1\" class=\"dataframe\">\n",
       "  <thead>\n",
       "    <tr style=\"text-align: right;\">\n",
       "      <th></th>\n",
       "      <th>TubeID</th>\n",
       "      <th>SampleID</th>\n",
       "      <th>Treatment</th>\n",
       "      <th>wpi</th>\n",
       "      <th>Region</th>\n",
       "    </tr>\n",
       "  </thead>\n",
       "  <tbody>\n",
       "    <tr>\n",
       "      <td>0</td>\n",
       "      <td>p1608_4212/19</td>\n",
       "      <td>PB-11_blood</td>\n",
       "      <td>RML6</td>\n",
       "      <td>4</td>\n",
       "      <td>blood</td>\n",
       "    </tr>\n",
       "    <tr>\n",
       "      <td>1</td>\n",
       "      <td>p1608_4211/55</td>\n",
       "      <td>PB-11_muscle</td>\n",
       "      <td>RML6</td>\n",
       "      <td>4</td>\n",
       "      <td>muscle</td>\n",
       "    </tr>\n",
       "    <tr>\n",
       "      <td>2</td>\n",
       "      <td>p1608_4211/19</td>\n",
       "      <td>PB-11_spleen</td>\n",
       "      <td>RML6</td>\n",
       "      <td>4</td>\n",
       "      <td>spleen</td>\n",
       "    </tr>\n",
       "    <tr>\n",
       "      <td>3</td>\n",
       "      <td>p1608_4212/38</td>\n",
       "      <td>PB-14_blood</td>\n",
       "      <td>NBH</td>\n",
       "      <td>4</td>\n",
       "      <td>blood</td>\n",
       "    </tr>\n",
       "    <tr>\n",
       "      <td>4</td>\n",
       "      <td>p1608_4211/92</td>\n",
       "      <td>PB-14_muscle</td>\n",
       "      <td>NBH</td>\n",
       "      <td>4</td>\n",
       "      <td>muscle</td>\n",
       "    </tr>\n",
       "  </tbody>\n",
       "</table>\n",
       "</div>"
      ],
      "text/plain": [
       "          TubeID      SampleID Treatment wpi  Region\n",
       "0  p1608_4212/19   PB-11_blood      RML6   4   blood\n",
       "1  p1608_4211/55  PB-11_muscle      RML6   4  muscle\n",
       "2  p1608_4211/19  PB-11_spleen      RML6   4  spleen\n",
       "3  p1608_4212/38   PB-14_blood       NBH   4   blood\n",
       "4  p1608_4211/92  PB-14_muscle       NBH   4  muscle"
      ]
     },
     "execution_count": 24,
     "metadata": {},
     "output_type": "execute_result"
    }
   ],
   "source": [
    "# read meta-data and extract ID\n",
    "peri_meta=pd.read_csv(\"meta_p3506_PeripheralSamples.csv\",sep=\";\")\n",
    "peri_meta.columns=['TubeID','SampleID','Treatment','wpi','Region']\n",
    "peri_meta.head()"
   ]
  },
  {
   "cell_type": "code",
   "execution_count": 25,
   "metadata": {},
   "outputs": [
    {
     "name": "stderr",
     "output_type": "stream",
     "text": [
      "/Users/karlfrontzek/anaconda3/lib/python3.7/site-packages/ipykernel_launcher.py:2: SettingWithCopyWarning: \n",
      "A value is trying to be set on a copy of a slice from a DataFrame\n",
      "\n",
      "See the caveats in the documentation: http://pandas.pydata.org/pandas-docs/stable/user_guide/indexing.html#returning-a-view-versus-a-copy\n",
      "  \n"
     ]
    }
   ],
   "source": [
    "wpi4['Sample']=wpi4['Sample'].str[11:] # harmonize sample ID\n",
    "wpi4['Sample'][10]='PB-9_spleen'"
   ]
  },
  {
   "cell_type": "code",
   "execution_count": 26,
   "metadata": {},
   "outputs": [],
   "source": [
    "# inner join aei and meta\n",
    "wpi4_merge=wpi4.merge(peri_meta,left_on=\"Sample\",right_on=\"SampleID\")"
   ]
  },
  {
   "cell_type": "code",
   "execution_count": 27,
   "metadata": {},
   "outputs": [],
   "source": [
    "wpi4_merge.drop(0,inplace=True) # drop duplicate from first line"
   ]
  },
  {
   "cell_type": "markdown",
   "metadata": {},
   "source": [
    "### 8 wpi - all organs"
   ]
  },
  {
   "cell_type": "code",
   "execution_count": 28,
   "metadata": {},
   "outputs": [],
   "source": [
    "# read AEI and extract sample ID\n",
    "os.chdir(\"/Users/karlfrontzek/Documents/UCL/rna_editing/prion/\")\n",
    "wpi8=pd.read_csv(\"AEI_peripheralOrgans_8wpi.csv\")\n",
    "#brain_aei['Sample']=brain_aei['Sample']+\"_Hp\" # add _Hp in sample ID"
   ]
  },
  {
   "cell_type": "code",
   "execution_count": 29,
   "metadata": {},
   "outputs": [],
   "source": [
    "wpi8['Sample']=wpi8['Sample'].str[11:] # harmonize sample ID\n"
   ]
  },
  {
   "cell_type": "code",
   "execution_count": 30,
   "metadata": {},
   "outputs": [],
   "source": [
    "# inner join aei and meta\n",
    "wpi8_merge=wpi8.merge(peri_meta,left_on=\"Sample\",right_on=\"SampleID\")"
   ]
  },
  {
   "cell_type": "markdown",
   "metadata": {},
   "source": [
    "### 12-16 wpi - all organs"
   ]
  },
  {
   "cell_type": "code",
   "execution_count": 31,
   "metadata": {},
   "outputs": [],
   "source": [
    "# read AEI and extract sample ID\n",
    "os.chdir(\"/Users/karlfrontzek/Documents/UCL/rna_editing/prion/\")\n",
    "wpi1216=pd.read_csv(\"AEI_peripheralOrgans_12-16wpi.csv\")\n",
    "#brain_aei['Sample']=brain_aei['Sample']+\"_Hp\" # add _Hp in sample ID"
   ]
  },
  {
   "cell_type": "code",
   "execution_count": 32,
   "metadata": {},
   "outputs": [],
   "source": [
    "wpi1216['Sample']=wpi1216['Sample'].str[11:] # harmonize sample ID\n"
   ]
  },
  {
   "cell_type": "code",
   "execution_count": 33,
   "metadata": {},
   "outputs": [],
   "source": [
    "# inner join aei and meta\n",
    "wpi1216_merge=wpi1216.merge(peri_meta,left_on=\"Sample\",right_on=\"SampleID\")"
   ]
  },
  {
   "cell_type": "markdown",
   "metadata": {},
   "source": [
    "### 18-term wpi - all organs"
   ]
  },
  {
   "cell_type": "code",
   "execution_count": 34,
   "metadata": {},
   "outputs": [],
   "source": [
    "# read AEI and extract sample ID\n",
    "os.chdir(\"/Users/karlfrontzek/Documents/UCL/rna_editing/prion/\")\n",
    "wpi18term=pd.read_csv(\"AEI_peripheralOrgans_18-term.csv\")\n",
    "#brain_aei['Sample']=brain_aei['Sample']+\"_Hp\" # add _Hp in sample ID"
   ]
  },
  {
   "cell_type": "code",
   "execution_count": 35,
   "metadata": {},
   "outputs": [],
   "source": [
    "wpi18term['Sample']=wpi18term['Sample'].str[11:] # harmonize sample ID\n"
   ]
  },
  {
   "cell_type": "code",
   "execution_count": 36,
   "metadata": {},
   "outputs": [],
   "source": [
    "# inner join aei and meta\n",
    "wpi18term_merge=wpi18term.merge(peri_meta,left_on=\"Sample\",right_on=\"SampleID\")"
   ]
  },
  {
   "cell_type": "markdown",
   "metadata": {},
   "source": [
    "## for presentation"
   ]
  },
  {
   "cell_type": "code",
   "execution_count": 37,
   "metadata": {},
   "outputs": [],
   "source": [
    "df_merged=wpi4_merge.append([wpi8_merge,wpi1216_merge,wpi18term_merge]) # merge all dataframes"
   ]
  },
  {
   "cell_type": "code",
   "execution_count": 38,
   "metadata": {},
   "outputs": [],
   "source": [
    "df_merged['wpi'].loc[df_merged['wpi'] == 'term']='22' # rename term to 22"
   ]
  },
  {
   "cell_type": "code",
   "execution_count": 39,
   "metadata": {},
   "outputs": [],
   "source": [
    "df_merged['wpi']=df_merged['wpi'].astype('int64') # convert wpi to int64"
   ]
  },
  {
   "cell_type": "markdown",
   "metadata": {},
   "source": [
    "### blood"
   ]
  },
  {
   "cell_type": "code",
   "execution_count": 40,
   "metadata": {
    "scrolled": false
   },
   "outputs": [
    {
     "data": {
      "image/png": "[encoded data removed]",
      "text/plain": [
       "<Figure size 432x288 with 1 Axes>"
      ]
     },
     "metadata": {
      "needs_background": "light"
     },
     "output_type": "display_data"
    }
   ],
   "source": [
    "# plot term wpi\n",
    "tips = df_merged.loc[df_merged['Region']=='blood']\n",
    "palette=[color for color in [\"white\",\"lightskyblue\"]*8] \n",
    "hue_order=[\"NBH\",\"RML6\"]\n",
    "ax = sns.barplot(\n",
    "    x='wpi',\n",
    "    y='A2GEditingIndex',\n",
    "    hue='Treatment',\n",
    "    data=tips, \n",
    "    ci=\"sd\", \n",
    "    edgecolor=\"black\",\n",
    "    errcolor=\"black\",\n",
    "    errwidth=1.5,\n",
    "    capsize = 0.1,\n",
    "    alpha=1,\n",
    "    linewidth=2,\n",
    "    hue_order=hue_order,\n",
    "    palette=palette\n",
    ")\n",
    "\n",
    "sns.stripplot(\n",
    "     x='wpi',\n",
    "    y='A2GEditingIndex',\n",
    "    hue='Treatment',\n",
    "    hue_order=hue_order,\n",
    "    data=tips, dodge=True, alpha=1, size=8, color=\"black\",ax=ax\n",
    ")\n",
    "\n",
    "# remove extra legend handles\n",
    "handles, labels = ax.get_legend_handles_labels()\n",
    "#ax.set(ylim=(0,1))\n",
    "ax.legend(handles[2:], labels[2:], title='Inoculate', bbox_to_anchor=(1, 1.02), loc='upper left')\n",
    "ax.figure.savefig('blood_AEI.png',bbox_inches=\"tight\")"
   ]
  },
  {
   "cell_type": "code",
   "execution_count": 41,
   "metadata": {
    "scrolled": true
   },
   "outputs": [
    {
     "data": {
      "image/png": "[encoded data removed]",
      "text/plain": [
       "<Figure size 432x288 with 1 Axes>"
      ]
     },
     "metadata": {
      "needs_background": "light"
     },
     "output_type": "display_data"
    }
   ],
   "source": [
    "# plot muscle\n",
    "tips = df_merged.loc[df_merged['Region']=='muscle']\n",
    "palette=[color for color in [\"white\",\"lightsalmon\"]*8] \n",
    "hue_order=[\"NBH\",\"RML6\"]\n",
    "ax = sns.barplot(\n",
    "    x='wpi',\n",
    "    y='A2GEditingIndex',\n",
    "    hue='Treatment',\n",
    "    data=tips, \n",
    "    ci=\"sd\", \n",
    "    edgecolor=\"black\",\n",
    "    errcolor=\"black\",\n",
    "    errwidth=1.5,\n",
    "    capsize = 0.1,\n",
    "    alpha=1,\n",
    "    linewidth=2,\n",
    "    hue_order=hue_order,\n",
    "    palette=palette\n",
    ")\n",
    "\n",
    "sns.stripplot(\n",
    "     x='wpi',\n",
    "    y='A2GEditingIndex',\n",
    "    hue='Treatment',\n",
    "    hue_order=hue_order,\n",
    "    data=tips, dodge=True, alpha=1, size=8, color=\"black\",ax=ax\n",
    ")\n",
    "\n",
    "# remove extra legend handles\n",
    "handles, labels = ax.get_legend_handles_labels()\n",
    "#ax.set(ylim=(0,1))\n",
    "ax.legend(handles[2:], labels[2:], title='Inoculate', bbox_to_anchor=(1, 1.02), loc='upper left')\n",
    "ax.figure.savefig('muscle_AEI.png',bbox_inches=\"tight\")"
   ]
  },
  {
   "cell_type": "code",
   "execution_count": 42,
   "metadata": {},
   "outputs": [
    {
     "data": {
      "image/png": "[encoded data removed]",
      "text/plain": [
       "<Figure size 432x288 with 1 Axes>"
      ]
     },
     "metadata": {
      "needs_background": "light"
     },
     "output_type": "display_data"
    }
   ],
   "source": [
    "# plot spleen\n",
    "tips = df_merged.loc[df_merged['Region']=='spleen']\n",
    "palette=[color for color in [\"white\",\"turquoise\"]*8] \n",
    "hue_order=[\"NBH\",\"RML6\"]\n",
    "ax = sns.barplot(\n",
    "    x='wpi',\n",
    "    y='A2GEditingIndex',\n",
    "    hue='Treatment',\n",
    "    data=tips, \n",
    "    ci=\"sd\", \n",
    "    edgecolor=\"black\",\n",
    "    errcolor=\"black\",\n",
    "    errwidth=1.5,\n",
    "    capsize = 0.1,\n",
    "    alpha=1,\n",
    "    linewidth=2,\n",
    "    hue_order=hue_order,\n",
    "    palette=palette\n",
    ")\n",
    "\n",
    "sns.stripplot(\n",
    "     x='wpi',\n",
    "    y='A2GEditingIndex',\n",
    "    hue='Treatment',\n",
    "    hue_order=hue_order,\n",
    "    data=tips, dodge=True, alpha=1, size=8, color=\"black\",ax=ax\n",
    ")\n",
    "\n",
    "# remove extra legend handles\n",
    "handles, labels = ax.get_legend_handles_labels()\n",
    "#ax.set(ylim=(0,1))\n",
    "ax.legend(handles[2:], labels[2:], title='Inoculate', bbox_to_anchor=(1, 1.02), loc='upper left')\n",
    "ax.figure.savefig('spleen_AEI.png',bbox_inches=\"tight\")"
   ]
  },
  {
   "cell_type": "markdown",
   "metadata": {},
   "source": [
    "# PBO cohort = prion inoculation in 1 year-old mice"
   ]
  },
  {
   "cell_type": "code",
   "execution_count": 43,
   "metadata": {},
   "outputs": [
    {
     "data": {
      "text/html": [
       "<div>\n",
       "<style scoped>\n",
       "    .dataframe tbody tr th:only-of-type {\n",
       "        vertical-align: middle;\n",
       "    }\n",
       "\n",
       "    .dataframe tbody tr th {\n",
       "        vertical-align: top;\n",
       "    }\n",
       "\n",
       "    .dataframe thead th {\n",
       "        text-align: right;\n",
       "    }\n",
       "</style>\n",
       "<table border=\"1\" class=\"dataframe\">\n",
       "  <thead>\n",
       "    <tr style=\"text-align: right;\">\n",
       "      <th></th>\n",
       "      <th>StrandDecidingMethod</th>\n",
       "      <th>Group</th>\n",
       "      <th>Sample</th>\n",
       "      <th>SamplePath</th>\n",
       "      <th>A2CEditingIndex</th>\n",
       "      <th>A2GEditingIndex</th>\n",
       "      <th>A2TEditingIndex</th>\n",
       "      <th>C2AEditingIndex</th>\n",
       "      <th>C2GEditingIndex</th>\n",
       "      <th>C2TEditingIndex</th>\n",
       "    </tr>\n",
       "  </thead>\n",
       "  <tbody>\n",
       "    <tr>\n",
       "      <td>0</td>\n",
       "      <td>RefSeqThenMMSites</td>\n",
       "      <td>Editing_Index_Unknown</td>\n",
       "      <td>20190828.B-PBO-C5_blood_</td>\n",
       "      <td>/mnt/vol3/BulkRnaSeq/PBO/bam/20190828.B-PBO-C5...</td>\n",
       "      <td>0.012400</td>\n",
       "      <td>0.130631</td>\n",
       "      <td>0.014817</td>\n",
       "      <td>0.018420</td>\n",
       "      <td>0.008641</td>\n",
       "      <td>0.054446</td>\n",
       "    </tr>\n",
       "    <tr>\n",
       "      <td>1</td>\n",
       "      <td>RefSeqThenMMSites</td>\n",
       "      <td>Editing_Index_Unknown</td>\n",
       "      <td>20190828.B-PBO-D3_blood_</td>\n",
       "      <td>/mnt/vol3/BulkRnaSeq/PBO/bam/20190828.B-PBO-D3...</td>\n",
       "      <td>0.011142</td>\n",
       "      <td>0.099194</td>\n",
       "      <td>0.015071</td>\n",
       "      <td>0.015696</td>\n",
       "      <td>0.008654</td>\n",
       "      <td>0.055376</td>\n",
       "    </tr>\n",
       "    <tr>\n",
       "      <td>2</td>\n",
       "      <td>RefSeqThenMMSites</td>\n",
       "      <td>Editing_Index_Unknown</td>\n",
       "      <td>20190828.B-PBO-C2_blood_</td>\n",
       "      <td>/mnt/vol3/BulkRnaSeq/PBO/bam/20190828.B-PBO-C2...</td>\n",
       "      <td>0.009458</td>\n",
       "      <td>0.191957</td>\n",
       "      <td>0.012950</td>\n",
       "      <td>0.016588</td>\n",
       "      <td>0.007430</td>\n",
       "      <td>0.046746</td>\n",
       "    </tr>\n",
       "    <tr>\n",
       "      <td>3</td>\n",
       "      <td>RefSeqThenMMSites</td>\n",
       "      <td>Editing_Index_Unknown</td>\n",
       "      <td>20190828.B-PBO-D2_blood_</td>\n",
       "      <td>/mnt/vol3/BulkRnaSeq/PBO/bam/20190828.B-PBO-D2...</td>\n",
       "      <td>0.007655</td>\n",
       "      <td>0.065074</td>\n",
       "      <td>0.011536</td>\n",
       "      <td>0.014593</td>\n",
       "      <td>0.007236</td>\n",
       "      <td>0.042282</td>\n",
       "    </tr>\n",
       "    <tr>\n",
       "      <td>4</td>\n",
       "      <td>RefSeqThenMMSites</td>\n",
       "      <td>Editing_Index_Unknown</td>\n",
       "      <td>20190821.B-PBO-C2_muscle_</td>\n",
       "      <td>/mnt/vol3/BulkRnaSeq/PBO/bam/20190821.B-PBO-C2...</td>\n",
       "      <td>0.005787</td>\n",
       "      <td>0.054731</td>\n",
       "      <td>0.010108</td>\n",
       "      <td>0.013663</td>\n",
       "      <td>0.005724</td>\n",
       "      <td>0.036200</td>\n",
       "    </tr>\n",
       "  </tbody>\n",
       "</table>\n",
       "</div>"
      ],
      "text/plain": [
       "  StrandDecidingMethod                  Group                     Sample  \\\n",
       "0    RefSeqThenMMSites  Editing_Index_Unknown   20190828.B-PBO-C5_blood_   \n",
       "1    RefSeqThenMMSites  Editing_Index_Unknown   20190828.B-PBO-D3_blood_   \n",
       "2    RefSeqThenMMSites  Editing_Index_Unknown   20190828.B-PBO-C2_blood_   \n",
       "3    RefSeqThenMMSites  Editing_Index_Unknown   20190828.B-PBO-D2_blood_   \n",
       "4    RefSeqThenMMSites  Editing_Index_Unknown  20190821.B-PBO-C2_muscle_   \n",
       "\n",
       "                                          SamplePath  A2CEditingIndex  \\\n",
       "0  /mnt/vol3/BulkRnaSeq/PBO/bam/20190828.B-PBO-C5...         0.012400   \n",
       "1  /mnt/vol3/BulkRnaSeq/PBO/bam/20190828.B-PBO-D3...         0.011142   \n",
       "2  /mnt/vol3/BulkRnaSeq/PBO/bam/20190828.B-PBO-C2...         0.009458   \n",
       "3  /mnt/vol3/BulkRnaSeq/PBO/bam/20190828.B-PBO-D2...         0.007655   \n",
       "4  /mnt/vol3/BulkRnaSeq/PBO/bam/20190821.B-PBO-C2...         0.005787   \n",
       "\n",
       "   A2GEditingIndex  A2TEditingIndex  C2AEditingIndex  C2GEditingIndex  \\\n",
       "0         0.130631         0.014817         0.018420         0.008641   \n",
       "1         0.099194         0.015071         0.015696         0.008654   \n",
       "2         0.191957         0.012950         0.016588         0.007430   \n",
       "3         0.065074         0.011536         0.014593         0.007236   \n",
       "4         0.054731         0.010108         0.013663         0.005724   \n",
       "\n",
       "   C2TEditingIndex  \n",
       "0         0.054446  \n",
       "1         0.055376  \n",
       "2         0.046746  \n",
       "3         0.042282  \n",
       "4         0.036200  "
      ]
     },
     "execution_count": 43,
     "metadata": {},
     "output_type": "execute_result"
    }
   ],
   "source": [
    "pbo_aei=pd.read_csv(\"AEI_PBO.csv\") # read file\n",
    "pbo_aei.head()"
   ]
  },
  {
   "cell_type": "code",
   "execution_count": 44,
   "metadata": {
    "scrolled": true
   },
   "outputs": [],
   "source": [
    "pbo_aei['Organ']=0\n",
    "pbo_aei['Organ'].loc[pbo_aei['Sample'].str.contains('blood')]='blood' # assign organs\n",
    "pbo_aei['Organ'].loc[pbo_aei['Sample'].str.contains('muscle')]='muscle'"
   ]
  },
  {
   "cell_type": "code",
   "execution_count": 45,
   "metadata": {},
   "outputs": [],
   "source": [
    "pbo_aei['Sample']=pbo_aei['Sample'].str[11:-1] # harmonize sample ID\n"
   ]
  },
  {
   "cell_type": "code",
   "execution_count": 46,
   "metadata": {},
   "outputs": [],
   "source": [
    "# inner join aei and meta\n",
    "pbo_merge=pbo_aei.merge(peri_meta,left_on=\"Sample\",right_on=\"SampleID\")"
   ]
  },
  {
   "cell_type": "code",
   "execution_count": 47,
   "metadata": {},
   "outputs": [
    {
     "data": {
      "text/html": [
       "<div>\n",
       "<style scoped>\n",
       "    .dataframe tbody tr th:only-of-type {\n",
       "        vertical-align: middle;\n",
       "    }\n",
       "\n",
       "    .dataframe tbody tr th {\n",
       "        vertical-align: top;\n",
       "    }\n",
       "\n",
       "    .dataframe thead th {\n",
       "        text-align: right;\n",
       "    }\n",
       "</style>\n",
       "<table border=\"1\" class=\"dataframe\">\n",
       "  <thead>\n",
       "    <tr style=\"text-align: right;\">\n",
       "      <th></th>\n",
       "      <th>StrandDecidingMethod</th>\n",
       "      <th>Group</th>\n",
       "      <th>Sample</th>\n",
       "      <th>SamplePath</th>\n",
       "      <th>A2CEditingIndex</th>\n",
       "      <th>A2GEditingIndex</th>\n",
       "      <th>A2TEditingIndex</th>\n",
       "      <th>C2AEditingIndex</th>\n",
       "      <th>C2GEditingIndex</th>\n",
       "      <th>C2TEditingIndex</th>\n",
       "      <th>Organ</th>\n",
       "      <th>TubeID</th>\n",
       "      <th>SampleID</th>\n",
       "      <th>Treatment</th>\n",
       "      <th>wpi</th>\n",
       "      <th>Region</th>\n",
       "    </tr>\n",
       "  </thead>\n",
       "  <tbody>\n",
       "    <tr>\n",
       "      <td>0</td>\n",
       "      <td>RefSeqThenMMSites</td>\n",
       "      <td>Editing_Index_Unknown</td>\n",
       "      <td>PBO-C5_blood</td>\n",
       "      <td>/mnt/vol3/BulkRnaSeq/PBO/bam/20190828.B-PBO-C5...</td>\n",
       "      <td>0.012400</td>\n",
       "      <td>0.130631</td>\n",
       "      <td>0.014817</td>\n",
       "      <td>0.018420</td>\n",
       "      <td>0.008641</td>\n",
       "      <td>0.054446</td>\n",
       "      <td>blood</td>\n",
       "      <td>p1608_5588/82</td>\n",
       "      <td>PBO-C5_blood</td>\n",
       "      <td>RML6_old</td>\n",
       "      <td>8</td>\n",
       "      <td>blood</td>\n",
       "    </tr>\n",
       "    <tr>\n",
       "      <td>1</td>\n",
       "      <td>RefSeqThenMMSites</td>\n",
       "      <td>Editing_Index_Unknown</td>\n",
       "      <td>PBO-D3_blood</td>\n",
       "      <td>/mnt/vol3/BulkRnaSeq/PBO/bam/20190828.B-PBO-D3...</td>\n",
       "      <td>0.011142</td>\n",
       "      <td>0.099194</td>\n",
       "      <td>0.015071</td>\n",
       "      <td>0.015696</td>\n",
       "      <td>0.008654</td>\n",
       "      <td>0.055376</td>\n",
       "      <td>blood</td>\n",
       "      <td>p1608_5588/83</td>\n",
       "      <td>PBO-D3_blood</td>\n",
       "      <td>NBH_old</td>\n",
       "      <td>8</td>\n",
       "      <td>blood</td>\n",
       "    </tr>\n",
       "    <tr>\n",
       "      <td>2</td>\n",
       "      <td>RefSeqThenMMSites</td>\n",
       "      <td>Editing_Index_Unknown</td>\n",
       "      <td>PBO-C2_blood</td>\n",
       "      <td>/mnt/vol3/BulkRnaSeq/PBO/bam/20190828.B-PBO-C2...</td>\n",
       "      <td>0.009458</td>\n",
       "      <td>0.191957</td>\n",
       "      <td>0.012950</td>\n",
       "      <td>0.016588</td>\n",
       "      <td>0.007430</td>\n",
       "      <td>0.046746</td>\n",
       "      <td>blood</td>\n",
       "      <td>p1608_5588/55</td>\n",
       "      <td>PBO-C2_blood</td>\n",
       "      <td>RML6_old</td>\n",
       "      <td>8</td>\n",
       "      <td>blood</td>\n",
       "    </tr>\n",
       "    <tr>\n",
       "      <td>3</td>\n",
       "      <td>RefSeqThenMMSites</td>\n",
       "      <td>Editing_Index_Unknown</td>\n",
       "      <td>PBO-D2_blood</td>\n",
       "      <td>/mnt/vol3/BulkRnaSeq/PBO/bam/20190828.B-PBO-D2...</td>\n",
       "      <td>0.007655</td>\n",
       "      <td>0.065074</td>\n",
       "      <td>0.011536</td>\n",
       "      <td>0.014593</td>\n",
       "      <td>0.007236</td>\n",
       "      <td>0.042282</td>\n",
       "      <td>blood</td>\n",
       "      <td>p1608_5588/69</td>\n",
       "      <td>PBO-D2_blood</td>\n",
       "      <td>NBH_old</td>\n",
       "      <td>8</td>\n",
       "      <td>blood</td>\n",
       "    </tr>\n",
       "    <tr>\n",
       "      <td>4</td>\n",
       "      <td>RefSeqThenMMSites</td>\n",
       "      <td>Editing_Index_Unknown</td>\n",
       "      <td>PBO-C2_muscle</td>\n",
       "      <td>/mnt/vol3/BulkRnaSeq/PBO/bam/20190821.B-PBO-C2...</td>\n",
       "      <td>0.005787</td>\n",
       "      <td>0.054731</td>\n",
       "      <td>0.010108</td>\n",
       "      <td>0.013663</td>\n",
       "      <td>0.005724</td>\n",
       "      <td>0.036200</td>\n",
       "      <td>muscle</td>\n",
       "      <td>p1608_5588/13</td>\n",
       "      <td>PBO-C2_muscle</td>\n",
       "      <td>RML6_old</td>\n",
       "      <td>8</td>\n",
       "      <td>muscle</td>\n",
       "    </tr>\n",
       "  </tbody>\n",
       "</table>\n",
       "</div>"
      ],
      "text/plain": [
       "  StrandDecidingMethod                  Group         Sample  \\\n",
       "0    RefSeqThenMMSites  Editing_Index_Unknown   PBO-C5_blood   \n",
       "1    RefSeqThenMMSites  Editing_Index_Unknown   PBO-D3_blood   \n",
       "2    RefSeqThenMMSites  Editing_Index_Unknown   PBO-C2_blood   \n",
       "3    RefSeqThenMMSites  Editing_Index_Unknown   PBO-D2_blood   \n",
       "4    RefSeqThenMMSites  Editing_Index_Unknown  PBO-C2_muscle   \n",
       "\n",
       "                                          SamplePath  A2CEditingIndex  \\\n",
       "0  /mnt/vol3/BulkRnaSeq/PBO/bam/20190828.B-PBO-C5...         0.012400   \n",
       "1  /mnt/vol3/BulkRnaSeq/PBO/bam/20190828.B-PBO-D3...         0.011142   \n",
       "2  /mnt/vol3/BulkRnaSeq/PBO/bam/20190828.B-PBO-C2...         0.009458   \n",
       "3  /mnt/vol3/BulkRnaSeq/PBO/bam/20190828.B-PBO-D2...         0.007655   \n",
       "4  /mnt/vol3/BulkRnaSeq/PBO/bam/20190821.B-PBO-C2...         0.005787   \n",
       "\n",
       "   A2GEditingIndex  A2TEditingIndex  C2AEditingIndex  C2GEditingIndex  \\\n",
       "0         0.130631         0.014817         0.018420         0.008641   \n",
       "1         0.099194         0.015071         0.015696         0.008654   \n",
       "2         0.191957         0.012950         0.016588         0.007430   \n",
       "3         0.065074         0.011536         0.014593         0.007236   \n",
       "4         0.054731         0.010108         0.013663         0.005724   \n",
       "\n",
       "   C2TEditingIndex   Organ         TubeID       SampleID Treatment wpi  Region  \n",
       "0         0.054446   blood  p1608_5588/82   PBO-C5_blood  RML6_old   8   blood  \n",
       "1         0.055376   blood  p1608_5588/83   PBO-D3_blood   NBH_old   8   blood  \n",
       "2         0.046746   blood  p1608_5588/55   PBO-C2_blood  RML6_old   8   blood  \n",
       "3         0.042282   blood  p1608_5588/69   PBO-D2_blood   NBH_old   8   blood  \n",
       "4         0.036200  muscle  p1608_5588/13  PBO-C2_muscle  RML6_old   8  muscle  "
      ]
     },
     "execution_count": 47,
     "metadata": {},
     "output_type": "execute_result"
    }
   ],
   "source": [
    "pbo_merge.head()"
   ]
  },
  {
   "cell_type": "code",
   "execution_count": 48,
   "metadata": {},
   "outputs": [
    {
     "data": {
      "text/plain": [
       "<matplotlib.legend.Legend at 0x7f831ebdd5d0>"
      ]
     },
     "execution_count": 48,
     "metadata": {},
     "output_type": "execute_result"
    },
    {
     "data": {
      "image/png": "[encoded data removed]",
      "text/plain": [
       "<Figure size 432x288 with 1 Axes>"
      ]
     },
     "metadata": {
      "needs_background": "light"
     },
     "output_type": "display_data"
    }
   ],
   "source": [
    "# plot PBO\n",
    "tips = pbo_merge\n",
    "#palette=[color for color in [\"HotPink1\",\"HotPink4\",\"seashell2\",\"seashell4\"]] \n",
    "hue_order=[\"NBH_old\",\"RML6_old\"]\n",
    "ax = sns.barplot(\n",
    "    x='Region',\n",
    "    y='A2GEditingIndex',\n",
    "    hue='Treatment',\n",
    "    data=tips, \n",
    "    ci=\"sd\", \n",
    "    edgecolor=\"black\",\n",
    "    errcolor=\"black\",\n",
    "    errwidth=1.5,\n",
    "    capsize = 0.1,\n",
    "    alpha=1,\n",
    "    linewidth=2,\n",
    "    hue_order=hue_order\n",
    ")\n",
    "\n",
    "sns.stripplot(\n",
    "    x='Region',\n",
    "    y='A2GEditingIndex',\n",
    "    hue='Treatment',\n",
    "    hue_order=hue_order,\n",
    "    data=tips, dodge=True, alpha=1, size=8, color=\"black\",ax=ax\n",
    ")\n",
    "\n",
    "# remove extra legend handles\n",
    "handles, labels = ax.get_legend_handles_labels()\n",
    "#ax.set(ylim=(0,1))\n",
    "ax.legend(handles[2:], labels[2:], title='Inoculate', bbox_to_anchor=(1, 1.02), loc='upper left')\n",
    "#ax.figure.savefig('spleen_AEI.png',bbox_inches=\"tight\")"
   ]
  },
  {
   "cell_type": "markdown",
   "metadata": {},
   "source": [
    "# Analysis of data from Kanata et al."
   ]
  },
  {
   "cell_type": "code",
   "execution_count": 49,
   "metadata": {},
   "outputs": [],
   "source": [
    "zerr=pd.read_csv(\"AEI_ZERR.csv\") # read Aei data"
   ]
  },
  {
   "cell_type": "code",
   "execution_count": 50,
   "metadata": {},
   "outputs": [],
   "source": [
    "zerr['Sample']=zerr['Sample'].str.split(\"_\",expand=True)[0].str[3:]"
   ]
  },
  {
   "cell_type": "code",
   "execution_count": 51,
   "metadata": {},
   "outputs": [],
   "source": [
    "zerrmeta=pd.read_csv(\"Zerrmeta.csv\") # read kanata&zerr metadata"
   ]
  },
  {
   "cell_type": "code",
   "execution_count": 52,
   "metadata": {},
   "outputs": [],
   "source": [
    "zerrmet=pd.DataFrame({'SRR': [],'Treatment': []}) # add SRR and treatment ids"
   ]
  },
  {
   "cell_type": "code",
   "execution_count": 53,
   "metadata": {},
   "outputs": [],
   "source": [
    "zerrmeta.columns=['in']"
   ]
  },
  {
   "cell_type": "code",
   "execution_count": 54,
   "metadata": {},
   "outputs": [],
   "source": [
    "zerrmet['SRR']=zerrmeta['in'].str.extract('SRR(.{,7})')[0]"
   ]
  },
  {
   "cell_type": "code",
   "execution_count": 55,
   "metadata": {},
   "outputs": [],
   "source": [
    "zerrmet['Treatment']=zerrmeta[\"in\"].str.split(\":\",expand=True)[1].str.split(\";\",expand=True)[0] # assign Treatment"
   ]
  },
  {
   "cell_type": "code",
   "execution_count": 56,
   "metadata": {},
   "outputs": [],
   "source": [
    "aei_zerr=zerr.merge(zerrmet,left_on=\"Sample\",right_on=\"SRR\") # merge AEI and metadata"
   ]
  },
  {
   "cell_type": "code",
   "execution_count": 57,
   "metadata": {},
   "outputs": [],
   "source": [
    "aei_zerr['Group'].loc[aei_zerr['Treatment'].str.contains(\"MM\")]=\"MM\"\n",
    "aei_zerr['Group'].loc[aei_zerr['Treatment'].str.contains(\"Con\")]=\"Con\" # assign inoculates"
   ]
  },
  {
   "cell_type": "code",
   "execution_count": 58,
   "metadata": {},
   "outputs": [],
   "source": [
    "aei_zerr['dpi']=1 # assign dates\n",
    "aei_zerr['dpi'].loc[aei_zerr['Treatment'].str.contains(\"120\")]=120\n",
    "aei_zerr['dpi'].loc[aei_zerr['Treatment'].str.contains(\"180\")]=180"
   ]
  },
  {
   "cell_type": "code",
   "execution_count": 59,
   "metadata": {},
   "outputs": [
    {
     "data": {
      "text/plain": [
       "<matplotlib.legend.Legend at 0x7f831e522b50>"
      ]
     },
     "execution_count": 59,
     "metadata": {},
     "output_type": "execute_result"
    },
    {
     "data": {
      "image/png": "[encoded data removed]",
      "text/plain": [
       "<Figure size 432x288 with 1 Axes>"
      ]
     },
     "metadata": {
      "needs_background": "light"
     },
     "output_type": "display_data"
    }
   ],
   "source": [
    "# plot zerr\n",
    "tips = aei_zerr\n",
    "#palette=[color for color in [\"HotPink1\",\"HotPink4\",\"seashell2\",\"seashell4\"]] \n",
    "hue_order=[\"Con\",\"MM\"]\n",
    "ax = sns.barplot(\n",
    "    x='dpi',\n",
    "    y='A2GEditingIndex',\n",
    "    hue='Group',\n",
    "    data=tips, \n",
    "    ci=\"sd\", \n",
    "    edgecolor=\"black\",\n",
    "    errcolor=\"black\",\n",
    "    errwidth=1.5,\n",
    "    capsize = 0.1,\n",
    "    alpha=1,\n",
    "    linewidth=2,\n",
    "    hue_order=hue_order\n",
    ")\n",
    "\n",
    "sns.stripplot(\n",
    "    x='dpi',\n",
    "    y='A2GEditingIndex',\n",
    "    hue='Group',\n",
    "    hue_order=hue_order,\n",
    "    data=tips, dodge=True, alpha=1, size=8, color=\"black\",ax=ax\n",
    ")\n",
    "\n",
    "# remove extra legend handles\n",
    "handles, labels = ax.get_legend_handles_labels()\n",
    "#ax.set(ylim=(0,1))\n",
    "ax.legend(handles[2:], labels[2:], title='Inoculate', bbox_to_anchor=(1, 1.02), loc='upper left')\n",
    "#ax.figure.savefig('spleen_AEI.png',bbox_inches=\"tight\")"
   ]
  },
  {
   "cell_type": "markdown",
   "metadata": {},
   "source": [
    "# PBH cohort: contralateral prion inoculation "
   ]
  },
  {
   "cell_type": "code",
   "execution_count": 75,
   "metadata": {},
   "outputs": [
    {
     "data": {
      "text/html": [
       "<div>\n",
       "<style scoped>\n",
       "    .dataframe tbody tr th:only-of-type {\n",
       "        vertical-align: middle;\n",
       "    }\n",
       "\n",
       "    .dataframe tbody tr th {\n",
       "        vertical-align: top;\n",
       "    }\n",
       "\n",
       "    .dataframe thead th {\n",
       "        text-align: right;\n",
       "    }\n",
       "</style>\n",
       "<table border=\"1\" class=\"dataframe\">\n",
       "  <thead>\n",
       "    <tr style=\"text-align: right;\">\n",
       "      <th></th>\n",
       "      <th>StrandDecidingMethod</th>\n",
       "      <th>Group</th>\n",
       "      <th>Sample</th>\n",
       "      <th>SamplePath</th>\n",
       "      <th>A2CEditingIndex</th>\n",
       "      <th>A2GEditingIndex</th>\n",
       "      <th>A2TEditingIndex</th>\n",
       "      <th>C2AEditingIndex</th>\n",
       "      <th>C2GEditingIndex</th>\n",
       "      <th>C2TEditingIndex</th>\n",
       "    </tr>\n",
       "  </thead>\n",
       "  <tbody>\n",
       "    <tr>\n",
       "      <td>0</td>\n",
       "      <td>RefSeqThenMMSites</td>\n",
       "      <td>Editing_Index_Unknown</td>\n",
       "      <td>20190828.B-PBH-12_blood</td>\n",
       "      <td>/mnt/vol3/BulkRnaSeq/PBH/bam/20190828.B-PBH-12...</td>\n",
       "      <td>0.012121</td>\n",
       "      <td>0.068954</td>\n",
       "      <td>0.014020</td>\n",
       "      <td>0.018570</td>\n",
       "      <td>0.010161</td>\n",
       "      <td>0.060681</td>\n",
       "    </tr>\n",
       "    <tr>\n",
       "      <td>1</td>\n",
       "      <td>RefSeqThenMMSites</td>\n",
       "      <td>Editing_Index_Unknown</td>\n",
       "      <td>20190821.B-PBH-12_muscle</td>\n",
       "      <td>/mnt/vol3/BulkRnaSeq/PBH/bam/20190821.B-PBH-12...</td>\n",
       "      <td>0.006492</td>\n",
       "      <td>0.065540</td>\n",
       "      <td>0.010147</td>\n",
       "      <td>0.013572</td>\n",
       "      <td>0.005697</td>\n",
       "      <td>0.037483</td>\n",
       "    </tr>\n",
       "    <tr>\n",
       "      <td>2</td>\n",
       "      <td>RefSeqThenMMSites</td>\n",
       "      <td>Editing_Index_Unknown</td>\n",
       "      <td>20190821.B-PBH-7_muscle</td>\n",
       "      <td>/mnt/vol3/BulkRnaSeq/PBH/bam/20190821.B-PBH-7_...</td>\n",
       "      <td>0.006618</td>\n",
       "      <td>0.066193</td>\n",
       "      <td>0.010257</td>\n",
       "      <td>0.013423</td>\n",
       "      <td>0.005779</td>\n",
       "      <td>0.037081</td>\n",
       "    </tr>\n",
       "    <tr>\n",
       "      <td>3</td>\n",
       "      <td>RefSeqThenMMSites</td>\n",
       "      <td>Editing_Index_Unknown</td>\n",
       "      <td>20190821.B-PBH-10_muscle</td>\n",
       "      <td>/mnt/vol3/BulkRnaSeq/PBH/bam/20190821.B-PBH-10...</td>\n",
       "      <td>0.006556</td>\n",
       "      <td>0.058615</td>\n",
       "      <td>0.009472</td>\n",
       "      <td>0.013074</td>\n",
       "      <td>0.005323</td>\n",
       "      <td>0.036863</td>\n",
       "    </tr>\n",
       "    <tr>\n",
       "      <td>4</td>\n",
       "      <td>RefSeqThenMMSites</td>\n",
       "      <td>Editing_Index_Unknown</td>\n",
       "      <td>20190821.B-PBH-10_blood</td>\n",
       "      <td>/mnt/vol3/BulkRnaSeq/PBH/bam/20190821.B-PBH-10...</td>\n",
       "      <td>0.008876</td>\n",
       "      <td>0.057697</td>\n",
       "      <td>0.012182</td>\n",
       "      <td>0.014658</td>\n",
       "      <td>0.007140</td>\n",
       "      <td>0.049714</td>\n",
       "    </tr>\n",
       "  </tbody>\n",
       "</table>\n",
       "</div>"
      ],
      "text/plain": [
       "  StrandDecidingMethod                  Group                    Sample  \\\n",
       "0    RefSeqThenMMSites  Editing_Index_Unknown   20190828.B-PBH-12_blood   \n",
       "1    RefSeqThenMMSites  Editing_Index_Unknown  20190821.B-PBH-12_muscle   \n",
       "2    RefSeqThenMMSites  Editing_Index_Unknown   20190821.B-PBH-7_muscle   \n",
       "3    RefSeqThenMMSites  Editing_Index_Unknown  20190821.B-PBH-10_muscle   \n",
       "4    RefSeqThenMMSites  Editing_Index_Unknown   20190821.B-PBH-10_blood   \n",
       "\n",
       "                                          SamplePath  A2CEditingIndex  \\\n",
       "0  /mnt/vol3/BulkRnaSeq/PBH/bam/20190828.B-PBH-12...         0.012121   \n",
       "1  /mnt/vol3/BulkRnaSeq/PBH/bam/20190821.B-PBH-12...         0.006492   \n",
       "2  /mnt/vol3/BulkRnaSeq/PBH/bam/20190821.B-PBH-7_...         0.006618   \n",
       "3  /mnt/vol3/BulkRnaSeq/PBH/bam/20190821.B-PBH-10...         0.006556   \n",
       "4  /mnt/vol3/BulkRnaSeq/PBH/bam/20190821.B-PBH-10...         0.008876   \n",
       "\n",
       "   A2GEditingIndex  A2TEditingIndex  C2AEditingIndex  C2GEditingIndex  \\\n",
       "0         0.068954         0.014020         0.018570         0.010161   \n",
       "1         0.065540         0.010147         0.013572         0.005697   \n",
       "2         0.066193         0.010257         0.013423         0.005779   \n",
       "3         0.058615         0.009472         0.013074         0.005323   \n",
       "4         0.057697         0.012182         0.014658         0.007140   \n",
       "\n",
       "   C2TEditingIndex  \n",
       "0         0.060681  \n",
       "1         0.037483  \n",
       "2         0.037081  \n",
       "3         0.036863  \n",
       "4         0.049714  "
      ]
     },
     "execution_count": 75,
     "metadata": {},
     "output_type": "execute_result"
    }
   ],
   "source": [
    "pbh_aei=pd.read_csv(\"AEI_PBH.csv\") # read file\n",
    "pbh_aei.head()"
   ]
  },
  {
   "cell_type": "code",
   "execution_count": 76,
   "metadata": {
    "scrolled": true
   },
   "outputs": [],
   "source": [
    "pbh_aei['Organ']=0 # assign organ\n",
    "pbh_aei['Organ'].loc[pbh_aei['Sample'].str.contains('blood')]='blood'\n",
    "pbh_aei['Organ'].loc[pbh_aei['Sample'].str.contains('muscle')]='muscle'"
   ]
  },
  {
   "cell_type": "code",
   "execution_count": 77,
   "metadata": {},
   "outputs": [],
   "source": [
    "pbh_aei['Sample']=pbh_aei['Sample'].str.split(\"B-\",expand=True)[1] # assign sample name"
   ]
  },
  {
   "cell_type": "code",
   "execution_count": 78,
   "metadata": {},
   "outputs": [],
   "source": [
    "# inner join aei and meta\n",
    "pbh_merge=pbh_aei.merge(peri_meta,left_on=\"Sample\",right_on=\"SampleID\")"
   ]
  },
  {
   "cell_type": "code",
   "execution_count": 79,
   "metadata": {},
   "outputs": [
    {
     "data": {
      "text/html": [
       "<div>\n",
       "<style scoped>\n",
       "    .dataframe tbody tr th:only-of-type {\n",
       "        vertical-align: middle;\n",
       "    }\n",
       "\n",
       "    .dataframe tbody tr th {\n",
       "        vertical-align: top;\n",
       "    }\n",
       "\n",
       "    .dataframe thead th {\n",
       "        text-align: right;\n",
       "    }\n",
       "</style>\n",
       "<table border=\"1\" class=\"dataframe\">\n",
       "  <thead>\n",
       "    <tr style=\"text-align: right;\">\n",
       "      <th></th>\n",
       "      <th>StrandDecidingMethod</th>\n",
       "      <th>Group</th>\n",
       "      <th>Sample</th>\n",
       "      <th>SamplePath</th>\n",
       "      <th>A2CEditingIndex</th>\n",
       "      <th>A2GEditingIndex</th>\n",
       "      <th>A2TEditingIndex</th>\n",
       "      <th>C2AEditingIndex</th>\n",
       "      <th>C2GEditingIndex</th>\n",
       "      <th>C2TEditingIndex</th>\n",
       "      <th>Organ</th>\n",
       "      <th>TubeID</th>\n",
       "      <th>SampleID</th>\n",
       "      <th>Treatment</th>\n",
       "      <th>wpi</th>\n",
       "      <th>Region</th>\n",
       "    </tr>\n",
       "  </thead>\n",
       "  <tbody>\n",
       "    <tr>\n",
       "      <td>0</td>\n",
       "      <td>RefSeqThenMMSites</td>\n",
       "      <td>Editing_Index_Unknown</td>\n",
       "      <td>PBH-12_blood</td>\n",
       "      <td>/mnt/vol3/BulkRnaSeq/PBH/bam/20190828.B-PBH-12...</td>\n",
       "      <td>0.012121</td>\n",
       "      <td>0.068954</td>\n",
       "      <td>0.014020</td>\n",
       "      <td>0.018570</td>\n",
       "      <td>0.010161</td>\n",
       "      <td>0.060681</td>\n",
       "      <td>blood</td>\n",
       "      <td>p1608_5588/81</td>\n",
       "      <td>PBH-12_blood</td>\n",
       "      <td>NBH</td>\n",
       "      <td>8</td>\n",
       "      <td>blood</td>\n",
       "    </tr>\n",
       "    <tr>\n",
       "      <td>1</td>\n",
       "      <td>RefSeqThenMMSites</td>\n",
       "      <td>Editing_Index_Unknown</td>\n",
       "      <td>PBH-12_muscle</td>\n",
       "      <td>/mnt/vol3/BulkRnaSeq/PBH/bam/20190821.B-PBH-12...</td>\n",
       "      <td>0.006492</td>\n",
       "      <td>0.065540</td>\n",
       "      <td>0.010147</td>\n",
       "      <td>0.013572</td>\n",
       "      <td>0.005697</td>\n",
       "      <td>0.037483</td>\n",
       "      <td>muscle</td>\n",
       "      <td>p1608_5588/40</td>\n",
       "      <td>PBH-12_muscle</td>\n",
       "      <td>NBH</td>\n",
       "      <td>8</td>\n",
       "      <td>muscle</td>\n",
       "    </tr>\n",
       "    <tr>\n",
       "      <td>2</td>\n",
       "      <td>RefSeqThenMMSites</td>\n",
       "      <td>Editing_Index_Unknown</td>\n",
       "      <td>PBH-7_muscle</td>\n",
       "      <td>/mnt/vol3/BulkRnaSeq/PBH/bam/20190821.B-PBH-7_...</td>\n",
       "      <td>0.006618</td>\n",
       "      <td>0.066193</td>\n",
       "      <td>0.010257</td>\n",
       "      <td>0.013423</td>\n",
       "      <td>0.005779</td>\n",
       "      <td>0.037081</td>\n",
       "      <td>muscle</td>\n",
       "      <td>p1608_5588/11</td>\n",
       "      <td>PBH-7_muscle</td>\n",
       "      <td>RML6</td>\n",
       "      <td>8</td>\n",
       "      <td>muscle</td>\n",
       "    </tr>\n",
       "    <tr>\n",
       "      <td>3</td>\n",
       "      <td>RefSeqThenMMSites</td>\n",
       "      <td>Editing_Index_Unknown</td>\n",
       "      <td>PBH-10_muscle</td>\n",
       "      <td>/mnt/vol3/BulkRnaSeq/PBH/bam/20190821.B-PBH-10...</td>\n",
       "      <td>0.006556</td>\n",
       "      <td>0.058615</td>\n",
       "      <td>0.009472</td>\n",
       "      <td>0.013074</td>\n",
       "      <td>0.005323</td>\n",
       "      <td>0.036863</td>\n",
       "      <td>muscle</td>\n",
       "      <td>p1608_5588/12</td>\n",
       "      <td>PBH-10_muscle</td>\n",
       "      <td>NBH</td>\n",
       "      <td>8</td>\n",
       "      <td>muscle</td>\n",
       "    </tr>\n",
       "    <tr>\n",
       "      <td>4</td>\n",
       "      <td>RefSeqThenMMSites</td>\n",
       "      <td>Editing_Index_Unknown</td>\n",
       "      <td>PBH-10_blood</td>\n",
       "      <td>/mnt/vol3/BulkRnaSeq/PBH/bam/20190821.B-PBH-10...</td>\n",
       "      <td>0.008876</td>\n",
       "      <td>0.057697</td>\n",
       "      <td>0.012182</td>\n",
       "      <td>0.014658</td>\n",
       "      <td>0.007140</td>\n",
       "      <td>0.049714</td>\n",
       "      <td>blood</td>\n",
       "      <td>p1608_5588/54</td>\n",
       "      <td>PBH-10_blood</td>\n",
       "      <td>NBH</td>\n",
       "      <td>8</td>\n",
       "      <td>blood</td>\n",
       "    </tr>\n",
       "  </tbody>\n",
       "</table>\n",
       "</div>"
      ],
      "text/plain": [
       "  StrandDecidingMethod                  Group         Sample  \\\n",
       "0    RefSeqThenMMSites  Editing_Index_Unknown   PBH-12_blood   \n",
       "1    RefSeqThenMMSites  Editing_Index_Unknown  PBH-12_muscle   \n",
       "2    RefSeqThenMMSites  Editing_Index_Unknown   PBH-7_muscle   \n",
       "3    RefSeqThenMMSites  Editing_Index_Unknown  PBH-10_muscle   \n",
       "4    RefSeqThenMMSites  Editing_Index_Unknown   PBH-10_blood   \n",
       "\n",
       "                                          SamplePath  A2CEditingIndex  \\\n",
       "0  /mnt/vol3/BulkRnaSeq/PBH/bam/20190828.B-PBH-12...         0.012121   \n",
       "1  /mnt/vol3/BulkRnaSeq/PBH/bam/20190821.B-PBH-12...         0.006492   \n",
       "2  /mnt/vol3/BulkRnaSeq/PBH/bam/20190821.B-PBH-7_...         0.006618   \n",
       "3  /mnt/vol3/BulkRnaSeq/PBH/bam/20190821.B-PBH-10...         0.006556   \n",
       "4  /mnt/vol3/BulkRnaSeq/PBH/bam/20190821.B-PBH-10...         0.008876   \n",
       "\n",
       "   A2GEditingIndex  A2TEditingIndex  C2AEditingIndex  C2GEditingIndex  \\\n",
       "0         0.068954         0.014020         0.018570         0.010161   \n",
       "1         0.065540         0.010147         0.013572         0.005697   \n",
       "2         0.066193         0.010257         0.013423         0.005779   \n",
       "3         0.058615         0.009472         0.013074         0.005323   \n",
       "4         0.057697         0.012182         0.014658         0.007140   \n",
       "\n",
       "   C2TEditingIndex   Organ         TubeID       SampleID Treatment wpi  Region  \n",
       "0         0.060681   blood  p1608_5588/81   PBH-12_blood       NBH   8   blood  \n",
       "1         0.037483  muscle  p1608_5588/40  PBH-12_muscle       NBH   8  muscle  \n",
       "2         0.037081  muscle  p1608_5588/11   PBH-7_muscle      RML6   8  muscle  \n",
       "3         0.036863  muscle  p1608_5588/12  PBH-10_muscle       NBH   8  muscle  \n",
       "4         0.049714   blood  p1608_5588/54   PBH-10_blood       NBH   8   blood  "
      ]
     },
     "execution_count": 79,
     "metadata": {},
     "output_type": "execute_result"
    }
   ],
   "source": [
    "pbh_merge.head()"
   ]
  },
  {
   "cell_type": "code",
   "execution_count": 80,
   "metadata": {},
   "outputs": [
    {
     "data": {
      "text/plain": [
       "<matplotlib.legend.Legend at 0x7f831e7cdc50>"
      ]
     },
     "execution_count": 80,
     "metadata": {},
     "output_type": "execute_result"
    },
    {
     "data": {
      "image/png": "[encoded data removed]",
      "text/plain": [
       "<Figure size 432x288 with 1 Axes>"
      ]
     },
     "metadata": {
      "needs_background": "light"
     },
     "output_type": "display_data"
    }
   ],
   "source": [
    "# plot PBH\n",
    "tips = pbh_merge\n",
    "#palette=[color for color in [\"HotPink1\",\"HotPink4\",\"seashell2\",\"seashell4\"]] \n",
    "hue_order=[\"NBH\",\"RML6\"]\n",
    "ax = sns.barplot(\n",
    "    x='Region',\n",
    "    y='A2GEditingIndex',\n",
    "    hue='Treatment',\n",
    "    data=tips, \n",
    "    ci=\"sd\", \n",
    "    edgecolor=\"black\",\n",
    "    errcolor=\"black\",\n",
    "    errwidth=1.5,\n",
    "    capsize = 0.1,\n",
    "    alpha=1,\n",
    "    linewidth=2,\n",
    "    hue_order=hue_order\n",
    ")\n",
    "\n",
    "sns.stripplot(\n",
    "    x='Region',\n",
    "    y='A2GEditingIndex',\n",
    "    hue='Treatment',\n",
    "    hue_order=hue_order,\n",
    "    data=tips, dodge=True, alpha=1, size=8, color=\"black\",ax=ax\n",
    ")\n",
    "\n",
    "# remove extra legend handles\n",
    "handles, labels = ax.get_legend_handles_labels()\n",
    "#ax.set(ylim=(0,1))\n",
    "ax.legend(handles[2:], labels[2:], title='Inoculate', bbox_to_anchor=(1, 1.02), loc='upper left')\n",
    "#ax.figure.savefig('spleen_AEI.png',bbox_inches=\"tight\")"
   ]
  }
 ],
 "metadata": {
  "kernelspec": {
   "display_name": "Python 3",
   "language": "python",
   "name": "python3"
  },
  "language_info": {
   "codemirror_mode": {
    "name": "ipython",
    "version": 3
   },
   "file_extension": ".py",
   "mimetype": "text/x-python",
   "name": "python",
   "nbconvert_exporter": "python",
   "pygments_lexer": "ipython3",
   "version": "3.7.4"
  }
 },
 "nbformat": 4,
 "nbformat_minor": 2
}
